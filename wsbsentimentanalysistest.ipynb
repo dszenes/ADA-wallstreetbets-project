{
 "cells": [
  {
   "cell_type": "markdown",
   "metadata": {},
   "source": [
    "## Import Packages"
   ]
  },
  {
   "cell_type": "code",
   "execution_count": 116,
   "metadata": {},
   "outputs": [],
   "source": []
  },
  {
   "cell_type": "code",
   "execution_count": 117,
   "metadata": {
    "_cell_guid": "b1076dfc-b9ad-4769-8c92-a6c4dae69d19",
    "_uuid": "8f2839f25d086af736a60e9eeb907d3b93b6e0e5",
    "execution": {
     "iopub.execute_input": "2021-06-14T19:43:41.370717Z",
     "iopub.status.busy": "2021-06-14T19:43:41.370245Z",
     "iopub.status.idle": "2021-06-14T19:43:45.682746Z",
     "shell.execute_reply": "2021-06-14T19:43:45.681869Z",
     "shell.execute_reply.started": "2021-06-14T19:43:41.370625Z"
    }
   },
   "outputs": [
    {
     "name": "stderr",
     "output_type": "stream",
     "text": [
      "[nltk_data] Downloading package vader_lexicon to\n",
      "[nltk_data]     /Users/dani/nltk_data...\n",
      "[nltk_data]   Package vader_lexicon is already up-to-date!\n"
     ]
    }
   ],
   "source": [
    "import numpy as np # linear algebra\n",
    "import pandas as pd # data processing, CSV file I/O (e.g. pd.read_csv)\n",
    "import nltk\n",
    "import matplotlib.pyplot as plt\n",
    "from nltk.sentiment.vader import SentimentIntensityAnalyzer as SIA\n",
    "nltk.download('vader_lexicon')\n",
    "from datetime import datetime\n",
    "import spacy as sp\n",
    "from spacy.matcher import PhraseMatcher, Matcher\n",
    "from collections import Counter\n",
    "\n",
    "import os"
   ]
  },
  {
   "cell_type": "markdown",
   "metadata": {},
   "source": [
    "## Preprocessing"
   ]
  },
  {
   "cell_type": "code",
   "execution_count": 118,
   "metadata": {
    "execution": {
     "iopub.execute_input": "2021-06-14T19:44:12.252366Z",
     "iopub.status.busy": "2021-06-14T19:44:12.251854Z",
     "iopub.status.idle": "2021-06-14T19:44:21.926981Z",
     "shell.execute_reply": "2021-06-14T19:44:21.925470Z",
     "shell.execute_reply.started": "2021-06-14T19:44:12.252321Z"
    }
   },
   "outputs": [
    {
     "name": "stderr",
     "output_type": "stream",
     "text": [
      "/Users/dani/.conda/envs/ADA-wallstreetbets-project/lib/python3.8/site-packages/IPython/core/interactiveshell.py:3165: DtypeWarning: Columns (5,7) have mixed types.Specify dtype option on import or set low_memory=False.\n",
      "  has_raised = await self.run_ast_nodes(code_ast.body, cell_name,\n"
     ]
    }
   ],
   "source": [
    "data = pd.read_csv('r_wallstreetbets_posts.csv')"
   ]
  },
  {
   "cell_type": "code",
   "execution_count": 118,
   "metadata": {},
   "outputs": [],
   "source": []
  },
  {
   "cell_type": "code",
   "execution_count": 119,
   "metadata": {
    "execution": {
     "iopub.execute_input": "2021-06-14T19:44:54.372983Z",
     "iopub.status.busy": "2021-06-14T19:44:54.372639Z",
     "iopub.status.idle": "2021-06-14T19:44:54.787981Z",
     "shell.execute_reply": "2021-06-14T19:44:54.787195Z",
     "shell.execute_reply.started": "2021-06-14T19:44:54.372953Z"
    }
   },
   "outputs": [
    {
     "name": "stdout",
     "output_type": "stream",
     "text": [
      "ticker.txt already downloaded\n"
     ]
    }
   ],
   "source": [
    "# load tickers\n",
    "import requests # allows for file downloading\n",
    "import os\n",
    "\n",
    "filename = 'ticker.txt'\n",
    "url = 'https://www.sec.gov/include/ticker.txt'\n",
    "if os.path.exists(filename):\n",
    "    print(f'{filename} already downloaded')\n",
    "else:\n",
    "    r = requests.get(url, allow_redirects=True)\n",
    "    with open(filename, 'wb') as file:\n",
    "        file.write(r.content)\n",
    "    print(f'{filename} has been downloaded')\n"
   ]
  },
  {
   "cell_type": "code",
   "execution_count": 120,
   "metadata": {
    "execution": {
     "iopub.execute_input": "2021-06-14T20:03:33.836710Z",
     "iopub.status.busy": "2021-06-14T20:03:33.836174Z",
     "iopub.status.idle": "2021-06-14T20:03:33.873244Z",
     "shell.execute_reply": "2021-06-14T20:03:33.872492Z",
     "shell.execute_reply.started": "2021-06-14T20:03:33.836678Z"
    }
   },
   "outputs": [
    {
     "name": "stdout",
     "output_type": "stream",
     "text": [
      "symbol       HMTV\n",
      "code      1567345\n",
      "Name: 4101, dtype: object\n",
      "False\n"
     ]
    },
    {
     "data": {
      "text/plain": "  symbol     code\n0   AAPL   320193\n1   MSFT   789019\n2   AMZN  1018724\n3   GOOG  1652044\n4     FB  1326801",
      "text/html": "<div>\n<style scoped>\n    .dataframe tbody tr th:only-of-type {\n        vertical-align: middle;\n    }\n\n    .dataframe tbody tr th {\n        vertical-align: top;\n    }\n\n    .dataframe thead th {\n        text-align: right;\n    }\n</style>\n<table border=\"1\" class=\"dataframe\">\n  <thead>\n    <tr style=\"text-align: right;\">\n      <th></th>\n      <th>symbol</th>\n      <th>code</th>\n    </tr>\n  </thead>\n  <tbody>\n    <tr>\n      <th>0</th>\n      <td>AAPL</td>\n      <td>320193</td>\n    </tr>\n    <tr>\n      <th>1</th>\n      <td>MSFT</td>\n      <td>789019</td>\n    </tr>\n    <tr>\n      <th>2</th>\n      <td>AMZN</td>\n      <td>1018724</td>\n    </tr>\n    <tr>\n      <th>3</th>\n      <td>GOOG</td>\n      <td>1652044</td>\n    </tr>\n    <tr>\n      <th>4</th>\n      <td>FB</td>\n      <td>1326801</td>\n    </tr>\n  </tbody>\n</table>\n</div>"
     },
     "execution_count": 120,
     "metadata": {},
     "output_type": "execute_result"
    }
   ],
   "source": [
    "# put tickers into dataframe\n",
    "tickers = pd.read_csv('ticker.txt', delimiter = \"\\t\", header=None)\n",
    "tickers.columns = ['symbol', 'code']\n",
    "\n",
    "# Note: some tickers are the same as common words or letters such as NAN, K, AND\n",
    "tickers['symbol'] = tickers['symbol'].str.upper() \n",
    "print(tickers.iloc[4101])\n",
    "\n",
    "# dropping 'NAN' North American Nickel ticker for now\n",
    "tickers = tickers.dropna()\n",
    "print(tickers.isnull().values.any())\n",
    "#GME_data = yf.Ticker(\"GME\")\n",
    "tickers.head(5)"
   ]
  },
  {
   "cell_type": "code",
   "execution_count": 121,
   "metadata": {
    "execution": {
     "iopub.execute_input": "2021-06-14T20:03:46.341125Z",
     "iopub.status.busy": "2021-06-14T20:03:46.340614Z",
     "iopub.status.idle": "2021-06-14T20:03:46.348932Z",
     "shell.execute_reply": "2021-06-14T20:03:46.347654Z",
     "shell.execute_reply.started": "2021-06-14T20:03:46.341086Z"
    }
   },
   "outputs": [
    {
     "data": {
      "text/plain": "Index(['id', 'title', 'score', 'author', 'author_flair_text', 'removed_by',\n       'total_awards_received', 'awarders', 'created_utc', 'full_link',\n       'num_comments', 'over_18'],\n      dtype='object')"
     },
     "execution_count": 121,
     "metadata": {},
     "output_type": "execute_result"
    }
   ],
   "source": [
    "data.columns"
   ]
  },
  {
   "cell_type": "code",
   "execution_count": 122,
   "metadata": {
    "execution": {
     "iopub.execute_input": "2021-06-14T20:03:51.249187Z",
     "iopub.status.busy": "2021-06-14T20:03:51.248808Z",
     "iopub.status.idle": "2021-06-14T20:03:51.576680Z",
     "shell.execute_reply": "2021-06-14T20:03:51.575083Z",
     "shell.execute_reply.started": "2021-06-14T20:03:51.249156Z"
    }
   },
   "outputs": [],
   "source": [
    "data = data.drop(columns = ['awarders', 'over_18', 'author_flair_text', 'removed_by','full_link','author'])"
   ]
  },
  {
   "cell_type": "code",
   "execution_count": 123,
   "metadata": {
    "execution": {
     "iopub.execute_input": "2021-06-14T19:46:13.291309Z",
     "iopub.status.busy": "2021-06-14T19:46:13.290944Z",
     "iopub.status.idle": "2021-06-14T19:46:14.332360Z",
     "shell.execute_reply": "2021-06-14T19:46:14.331377Z",
     "shell.execute_reply.started": "2021-06-14T19:46:13.291278Z"
    }
   },
   "outputs": [
    {
     "name": "stdout",
     "output_type": "stream",
     "text": [
      "Index(['id', 'title', 'score', 'total_awards_received', 'created_utc',\n",
      "       'num_comments'],\n",
      "      dtype='object')\n",
      "(1118863, 6)\n",
      "date ranges:  2012-04-11 18:40:40 2021-02-16 10:53:12\n",
      "score range  134840 0\n",
      "num comments range  204551 0\n",
      "scores:  43920 1098686 17150 3027\n",
      "avg score:  27.080198379962514 std score:  746.7225959766157\n"
     ]
    }
   ],
   "source": [
    "print(data.columns)\n",
    "print(data.shape)\n",
    "\n",
    "# analysis of date and scores\n",
    "max_date, min_date = datetime.fromtimestamp(max(data.created_utc)), datetime.fromtimestamp(min(data.created_utc))\n",
    "print('date ranges: ', min_date, max_date)\n",
    "print('score range ', max(data.score), min(data.score))\n",
    "print('num comments range ', max(data.num_comments), min(data.num_comments))\n",
    "\n",
    "# find score and comments distributions\n",
    "no_score_data = data[data.score==0]\n",
    "low_score_data =data[data.score<= 100]\n",
    "mid_score_data = data[(data.score <= 1000) & (data.score > 100)]\n",
    "high_score_data = data[data.score > 1000]\n",
    "print('scores: ', len(no_score_data), len(low_score_data), len(mid_score_data), len(high_score_data))\n",
    "print('avg score: ', np.mean(data.score.values), 'std score: ', np.std(data.score.values))"
   ]
  },
  {
   "cell_type": "code",
   "execution_count": 124,
   "metadata": {
    "execution": {
     "iopub.execute_input": "2021-06-14T19:46:40.387150Z",
     "iopub.status.busy": "2021-06-14T19:46:40.386784Z",
     "iopub.status.idle": "2021-06-14T19:46:40.416469Z",
     "shell.execute_reply": "2021-06-14T19:46:40.415295Z",
     "shell.execute_reply.started": "2021-06-14T19:46:40.387114Z"
    }
   },
   "outputs": [
    {
     "name": "stdout",
     "output_type": "stream",
     "text": [
      "comments avg and std:  496.93440145102784 3791.780930431671\n",
      "(59544, 6)\n"
     ]
    }
   ],
   "source": [
    "# keep posts with score > 100 or num comments > 100 or total awards > 10\n",
    "# determine best threshold for keeping posts\n",
    "df = data[(data.score >= 100) | (data.num_comments >= 50) | (data.total_awards_received >= 10)] \n",
    "print('comments avg and std: ', df.num_comments.mean(), df.num_comments.std())\n",
    "print(df.shape)"
   ]
  },
  {
   "cell_type": "markdown",
   "metadata": {},
   "source": [
    "## Vader Sentiment Scores"
   ]
  },
  {
   "cell_type": "code",
   "execution_count": 125,
   "metadata": {
    "execution": {
     "iopub.execute_input": "2021-06-14T19:46:46.857640Z",
     "iopub.status.busy": "2021-06-14T19:46:46.857254Z",
     "iopub.status.idle": "2021-06-14T19:46:46.879668Z",
     "shell.execute_reply": "2021-06-14T19:46:46.878541Z",
     "shell.execute_reply.started": "2021-06-14T19:46:46.857610Z"
    }
   },
   "outputs": [],
   "source": [
    "# Calculate polarity scores\n",
    "sia = SIA()\n",
    "# baseline compound is pos if >= 0.05, neg if <= -0.05 and neu else\n",
    "# change baseline to 0 for binary classification\n",
    "def calculate_sentiment(text):\n",
    "    pol_score = sia.polarity_scores(text)\n",
    "    if pol_score['compound'] >= 0.05:\n",
    "        return 1\n",
    "    elif pol_score['compound'] <= -0.05:\n",
    "        return -1\n",
    "    else:\n",
    "        return 0"
   ]
  },
  {
   "cell_type": "code",
   "execution_count": 126,
   "metadata": {
    "_kg_hide-output": true,
    "execution": {
     "iopub.execute_input": "2021-06-14T19:46:51.676492Z",
     "iopub.status.busy": "2021-06-14T19:46:51.676074Z",
     "iopub.status.idle": "2021-06-14T19:47:13.488588Z",
     "shell.execute_reply": "2021-06-14T19:47:13.487433Z",
     "shell.execute_reply.started": "2021-06-14T19:46:51.676460Z"
    }
   },
   "outputs": [
    {
     "name": "stderr",
     "output_type": "stream",
     "text": [
      "<ipython-input-126-ca18aa37ea92>:2: SettingWithCopyWarning: \n",
      "A value is trying to be set on a copy of a slice from a DataFrame.\n",
      "Try using .loc[row_indexer,col_indexer] = value instead\n",
      "\n",
      "See the caveats in the documentation: https://pandas.pydata.org/pandas-docs/stable/user_guide/indexing.html#returning-a-view-versus-a-copy\n",
      "  df['sentiment'] = df.apply(lambda x: calculate_sentiment(x.title), axis=1)\n",
      "<ipython-input-126-ca18aa37ea92>:3: SettingWithCopyWarning: \n",
      "A value is trying to be set on a copy of a slice from a DataFrame.\n",
      "Try using .loc[row_indexer,col_indexer] = value instead\n",
      "\n",
      "See the caveats in the documentation: https://pandas.pydata.org/pandas-docs/stable/user_guide/indexing.html#returning-a-view-versus-a-copy\n",
      "  df['compound'] = df.apply(lambda x: sia.polarity_scores(x.title)['compound'], axis=1)\n"
     ]
    },
    {
     "data": {
      "text/plain": "         id                                              title  score  \\\n92   lkzviy  I am going to short the whole country of South...      1   \n185  lkyw58                                   I like the stonk      1   \n256  lky7u6  When you realize losing your hard earned money...      1   \n\n     total_awards_received  created_utc  num_comments  sentiment  compound  \n92                     0.0   1613465649           114          0    0.0000  \n185                    0.0   1613461282            50          1    0.3612  \n256                    0.0   1613458484            73         -1   -0.4588  ",
      "text/html": "<div>\n<style scoped>\n    .dataframe tbody tr th:only-of-type {\n        vertical-align: middle;\n    }\n\n    .dataframe tbody tr th {\n        vertical-align: top;\n    }\n\n    .dataframe thead th {\n        text-align: right;\n    }\n</style>\n<table border=\"1\" class=\"dataframe\">\n  <thead>\n    <tr style=\"text-align: right;\">\n      <th></th>\n      <th>id</th>\n      <th>title</th>\n      <th>score</th>\n      <th>total_awards_received</th>\n      <th>created_utc</th>\n      <th>num_comments</th>\n      <th>sentiment</th>\n      <th>compound</th>\n    </tr>\n  </thead>\n  <tbody>\n    <tr>\n      <th>92</th>\n      <td>lkzviy</td>\n      <td>I am going to short the whole country of South...</td>\n      <td>1</td>\n      <td>0.0</td>\n      <td>1613465649</td>\n      <td>114</td>\n      <td>0</td>\n      <td>0.0000</td>\n    </tr>\n    <tr>\n      <th>185</th>\n      <td>lkyw58</td>\n      <td>I like the stonk</td>\n      <td>1</td>\n      <td>0.0</td>\n      <td>1613461282</td>\n      <td>50</td>\n      <td>1</td>\n      <td>0.3612</td>\n    </tr>\n    <tr>\n      <th>256</th>\n      <td>lky7u6</td>\n      <td>When you realize losing your hard earned money...</td>\n      <td>1</td>\n      <td>0.0</td>\n      <td>1613458484</td>\n      <td>73</td>\n      <td>-1</td>\n      <td>-0.4588</td>\n    </tr>\n  </tbody>\n</table>\n</div>"
     },
     "execution_count": 126,
     "metadata": {},
     "output_type": "execute_result"
    }
   ],
   "source": [
    "# add sentiment and compound col to df\n",
    "df['sentiment'] = df.apply(lambda x: calculate_sentiment(x.title), axis=1)\n",
    "df['compound'] = df.apply(lambda x: sia.polarity_scores(x.title)['compound'], axis=1)\n",
    "df.head(3)"
   ]
  },
  {
   "cell_type": "code",
   "execution_count": 127,
   "metadata": {},
   "outputs": [
    {
     "data": {
      "text/plain": "             id                                              title  score  \\\n92       lkzviy  I am going to short the whole country of South...      1   \n185      lkyw58                                   I like the stonk      1   \n256      lky7u6  When you realize losing your hard earned money...      1   \n261      lky552                            Hiding shorts by ETF's?      1   \n486      lkwazx                       Dwight Schrute owns Palantir      1   \n...         ...                                                ...    ...   \n1118419   ykbw8  Let's play a game.  Find banned and/or censore...      4   \n1118425   ydook  Well, once again I'm out of the game for a whi...     20   \n1118463   xn13d               I'm out fellas (explanation inside).      0   \n1118512   wnunt            [VVUS/ARNA/OREX] July 17 obesity thread     13   \n1118789   tddix  Alright, I'm all in ($10k) on another crazy pe...     17   \n\n         total_awards_received  created_utc  num_comments  sentiment  compound  \n92                         0.0   1613465649           114          0    0.0000  \n185                        0.0   1613461282            50          1    0.3612  \n256                        0.0   1613458484            73         -1   -0.4588  \n261                        0.0   1613458201           139         -1   -0.2960  \n486                        0.0   1613451488            58          0    0.0000  \n...                        ...          ...           ...        ...       ...  \n1118419                    NaN   1345522913            50         -1   -0.2960  \n1118425                    NaN   1345216708            54          1    0.5854  \n1118463                    NaN   1344027787            51          0    0.0000  \n1118512                    NaN   1342470600            51          0    0.0000  \n1118789                    NaN   1336504719            87          1    0.4678  \n\n[59544 rows x 8 columns]",
      "text/html": "<div>\n<style scoped>\n    .dataframe tbody tr th:only-of-type {\n        vertical-align: middle;\n    }\n\n    .dataframe tbody tr th {\n        vertical-align: top;\n    }\n\n    .dataframe thead th {\n        text-align: right;\n    }\n</style>\n<table border=\"1\" class=\"dataframe\">\n  <thead>\n    <tr style=\"text-align: right;\">\n      <th></th>\n      <th>id</th>\n      <th>title</th>\n      <th>score</th>\n      <th>total_awards_received</th>\n      <th>created_utc</th>\n      <th>num_comments</th>\n      <th>sentiment</th>\n      <th>compound</th>\n    </tr>\n  </thead>\n  <tbody>\n    <tr>\n      <th>92</th>\n      <td>lkzviy</td>\n      <td>I am going to short the whole country of South...</td>\n      <td>1</td>\n      <td>0.0</td>\n      <td>1613465649</td>\n      <td>114</td>\n      <td>0</td>\n      <td>0.0000</td>\n    </tr>\n    <tr>\n      <th>185</th>\n      <td>lkyw58</td>\n      <td>I like the stonk</td>\n      <td>1</td>\n      <td>0.0</td>\n      <td>1613461282</td>\n      <td>50</td>\n      <td>1</td>\n      <td>0.3612</td>\n    </tr>\n    <tr>\n      <th>256</th>\n      <td>lky7u6</td>\n      <td>When you realize losing your hard earned money...</td>\n      <td>1</td>\n      <td>0.0</td>\n      <td>1613458484</td>\n      <td>73</td>\n      <td>-1</td>\n      <td>-0.4588</td>\n    </tr>\n    <tr>\n      <th>261</th>\n      <td>lky552</td>\n      <td>Hiding shorts by ETF's?</td>\n      <td>1</td>\n      <td>0.0</td>\n      <td>1613458201</td>\n      <td>139</td>\n      <td>-1</td>\n      <td>-0.2960</td>\n    </tr>\n    <tr>\n      <th>486</th>\n      <td>lkwazx</td>\n      <td>Dwight Schrute owns Palantir</td>\n      <td>1</td>\n      <td>0.0</td>\n      <td>1613451488</td>\n      <td>58</td>\n      <td>0</td>\n      <td>0.0000</td>\n    </tr>\n    <tr>\n      <th>...</th>\n      <td>...</td>\n      <td>...</td>\n      <td>...</td>\n      <td>...</td>\n      <td>...</td>\n      <td>...</td>\n      <td>...</td>\n      <td>...</td>\n    </tr>\n    <tr>\n      <th>1118419</th>\n      <td>ykbw8</td>\n      <td>Let's play a game.  Find banned and/or censore...</td>\n      <td>4</td>\n      <td>NaN</td>\n      <td>1345522913</td>\n      <td>50</td>\n      <td>-1</td>\n      <td>-0.2960</td>\n    </tr>\n    <tr>\n      <th>1118425</th>\n      <td>ydook</td>\n      <td>Well, once again I'm out of the game for a whi...</td>\n      <td>20</td>\n      <td>NaN</td>\n      <td>1345216708</td>\n      <td>54</td>\n      <td>1</td>\n      <td>0.5854</td>\n    </tr>\n    <tr>\n      <th>1118463</th>\n      <td>xn13d</td>\n      <td>I'm out fellas (explanation inside).</td>\n      <td>0</td>\n      <td>NaN</td>\n      <td>1344027787</td>\n      <td>51</td>\n      <td>0</td>\n      <td>0.0000</td>\n    </tr>\n    <tr>\n      <th>1118512</th>\n      <td>wnunt</td>\n      <td>[VVUS/ARNA/OREX] July 17 obesity thread</td>\n      <td>13</td>\n      <td>NaN</td>\n      <td>1342470600</td>\n      <td>51</td>\n      <td>0</td>\n      <td>0.0000</td>\n    </tr>\n    <tr>\n      <th>1118789</th>\n      <td>tddix</td>\n      <td>Alright, I'm all in ($10k) on another crazy pe...</td>\n      <td>17</td>\n      <td>NaN</td>\n      <td>1336504719</td>\n      <td>87</td>\n      <td>1</td>\n      <td>0.4678</td>\n    </tr>\n  </tbody>\n</table>\n<p>59544 rows × 8 columns</p>\n</div>"
     },
     "execution_count": 127,
     "metadata": {},
     "output_type": "execute_result"
    }
   ],
   "source": [
    "df"
   ]
  },
  {
   "cell_type": "code",
   "execution_count": 128,
   "metadata": {
    "execution": {
     "iopub.execute_input": "2021-06-14T19:47:45.188376Z",
     "iopub.status.busy": "2021-06-14T19:47:45.187901Z",
     "iopub.status.idle": "2021-06-14T19:47:45.236061Z",
     "shell.execute_reply": "2021-06-14T19:47:45.234927Z",
     "shell.execute_reply.started": "2021-06-14T19:47:45.188315Z"
    }
   },
   "outputs": [
    {
     "data": {
      "text/plain": " 0    31449\n 1    15491\n-1    12604\nName: sentiment, dtype: int64"
     },
     "execution_count": 128,
     "metadata": {},
     "output_type": "execute_result"
    }
   ],
   "source": [
    "# counting sentiments \n",
    "sentiments = [-1, 0, 1]\n",
    "sentiments_count = [sum(df.sentiment == -1), sum(df.sentiment == 0), sum(df.sentiment == 1)]\n",
    "df.sentiment.value_counts()"
   ]
  },
  {
   "cell_type": "markdown",
   "metadata": {},
   "source": [
    "## TextBlob Sentiment Scores"
   ]
  },
  {
   "cell_type": "code",
   "execution_count": 129,
   "metadata": {
    "execution": {
     "iopub.execute_input": "2021-06-14T19:47:50.744367Z",
     "iopub.status.busy": "2021-06-14T19:47:50.743541Z",
     "iopub.status.idle": "2021-06-14T19:48:06.508772Z",
     "shell.execute_reply": "2021-06-14T19:48:06.507566Z",
     "shell.execute_reply.started": "2021-06-14T19:47:50.744291Z"
    }
   },
   "outputs": [
    {
     "name": "stderr",
     "output_type": "stream",
     "text": [
      "<ipython-input-129-04b1722d9803>:24: SettingWithCopyWarning: \n",
      "A value is trying to be set on a copy of a slice from a DataFrame.\n",
      "Try using .loc[row_indexer,col_indexer] = value instead\n",
      "\n",
      "See the caveats in the documentation: https://pandas.pydata.org/pandas-docs/stable/user_guide/indexing.html#returning-a-view-versus-a-copy\n",
      "  df['tb_sentiment'] = df.apply(lambda x: calculate_sentiment_tb(x.title), axis=1)\n"
     ]
    }
   ],
   "source": [
    "# Calculating TextBlob Scores\n",
    "\n",
    "from textblob import TextBlob\n",
    "\n",
    "def calculate_sentiment_tb(text,compound=True):\n",
    "    '''\n",
    "    text: string input\n",
    "    compound: if true, return compound score. Otherwise return -1, 0, or 1\n",
    "    \n",
    "    '''\n",
    "    blob = TextBlob(text)\n",
    "    \n",
    "    if compound: \n",
    "        return blob.polarity\n",
    "    \n",
    "    else: \n",
    "        if blob.polarity >= 0.05:\n",
    "            return 1\n",
    "        elif blob.polarity <= -0.05:\n",
    "            return -1\n",
    "        else:\n",
    "            return 0\n",
    "        \n",
    "df['tb_sentiment'] = df.apply(lambda x: calculate_sentiment_tb(x.title), axis=1)"
   ]
  },
  {
   "cell_type": "code",
   "execution_count": 130,
   "metadata": {
    "execution": {
     "iopub.execute_input": "2021-06-14T19:48:12.602424Z",
     "iopub.status.busy": "2021-06-14T19:48:12.601633Z",
     "iopub.status.idle": "2021-06-14T19:48:12.619798Z",
     "shell.execute_reply": "2021-06-14T19:48:12.618287Z",
     "shell.execute_reply.started": "2021-06-14T19:48:12.602361Z"
    }
   },
   "outputs": [
    {
     "data": {
      "text/plain": "         id                                              title  score  \\\n92   lkzviy  I am going to short the whole country of South...      1   \n185  lkyw58                                   I like the stonk      1   \n256  lky7u6  When you realize losing your hard earned money...      1   \n\n     total_awards_received  created_utc  num_comments  sentiment  compound  \\\n92                     0.0   1613465649           114          0    0.0000   \n185                    0.0   1613461282            50          1    0.3612   \n256                    0.0   1613458484            73         -1   -0.4588   \n\n     tb_sentiment  \n92       0.100000  \n185      0.000000  \n256     -0.395833  ",
      "text/html": "<div>\n<style scoped>\n    .dataframe tbody tr th:only-of-type {\n        vertical-align: middle;\n    }\n\n    .dataframe tbody tr th {\n        vertical-align: top;\n    }\n\n    .dataframe thead th {\n        text-align: right;\n    }\n</style>\n<table border=\"1\" class=\"dataframe\">\n  <thead>\n    <tr style=\"text-align: right;\">\n      <th></th>\n      <th>id</th>\n      <th>title</th>\n      <th>score</th>\n      <th>total_awards_received</th>\n      <th>created_utc</th>\n      <th>num_comments</th>\n      <th>sentiment</th>\n      <th>compound</th>\n      <th>tb_sentiment</th>\n    </tr>\n  </thead>\n  <tbody>\n    <tr>\n      <th>92</th>\n      <td>lkzviy</td>\n      <td>I am going to short the whole country of South...</td>\n      <td>1</td>\n      <td>0.0</td>\n      <td>1613465649</td>\n      <td>114</td>\n      <td>0</td>\n      <td>0.0000</td>\n      <td>0.100000</td>\n    </tr>\n    <tr>\n      <th>185</th>\n      <td>lkyw58</td>\n      <td>I like the stonk</td>\n      <td>1</td>\n      <td>0.0</td>\n      <td>1613461282</td>\n      <td>50</td>\n      <td>1</td>\n      <td>0.3612</td>\n      <td>0.000000</td>\n    </tr>\n    <tr>\n      <th>256</th>\n      <td>lky7u6</td>\n      <td>When you realize losing your hard earned money...</td>\n      <td>1</td>\n      <td>0.0</td>\n      <td>1613458484</td>\n      <td>73</td>\n      <td>-1</td>\n      <td>-0.4588</td>\n      <td>-0.395833</td>\n    </tr>\n  </tbody>\n</table>\n</div>"
     },
     "execution_count": 130,
     "metadata": {},
     "output_type": "execute_result"
    }
   ],
   "source": [
    "df.head(3)"
   ]
  },
  {
   "cell_type": "markdown",
   "metadata": {},
   "source": [
    "## Finding Stock Tickers in Posts"
   ]
  },
  {
   "cell_type": "code",
   "execution_count": 131,
   "metadata": {
    "execution": {
     "iopub.execute_input": "2021-06-14T20:04:35.693826Z",
     "iopub.status.busy": "2021-06-14T20:04:35.693246Z",
     "iopub.status.idle": "2021-06-14T20:04:35.699182Z",
     "shell.execute_reply": "2021-06-14T20:04:35.698413Z",
     "shell.execute_reply.started": "2021-06-14T20:04:35.693792Z"
    }
   },
   "outputs": [],
   "source": [
    "# stocks to find,\n",
    "stocks = [ 'GME']\n",
    "company_names = {'GAMESTOP': 'GME' }"
   ]
  },
  {
   "cell_type": "code",
   "execution_count": 132,
   "metadata": {
    "execution": {
     "iopub.execute_input": "2021-06-14T20:04:58.193001Z",
     "iopub.status.busy": "2021-06-14T20:04:58.192625Z",
     "iopub.status.idle": "2021-06-14T20:04:58.603662Z",
     "shell.execute_reply": "2021-06-14T20:04:58.602600Z",
     "shell.execute_reply.started": "2021-06-14T20:04:58.192963Z"
    }
   },
   "outputs": [],
   "source": [
    "# pattern matching with most frequent stocks \n",
    "nlp_freq = sp.blank('en')\n",
    "matcher_freq = PhraseMatcher(nlp_freq.vocab, attr='TEXT')\n",
    "freq_token_list = [nlp_freq(item) for item in stocks + list(company_names)]\n",
    "matcher_freq.add('Freq Stocks', freq_token_list)"
   ]
  },
  {
   "cell_type": "code",
   "execution_count": 133,
   "metadata": {
    "execution": {
     "iopub.execute_input": "2021-06-14T20:05:07.425233Z",
     "iopub.status.busy": "2021-06-14T20:05:07.424773Z",
     "iopub.status.idle": "2021-06-14T20:05:07.432704Z",
     "shell.execute_reply": "2021-06-14T20:05:07.431687Z",
     "shell.execute_reply.started": "2021-06-14T20:05:07.425185Z"
    }
   },
   "outputs": [],
   "source": [
    "# find tickers and company names only from specified list\n",
    "def find_tickers_and_names(title):\n",
    "    doc = nlp_freq(title.upper())\n",
    "    matches = matcher_freq(doc)\n",
    "    found_items = set([str(doc[match[1]: match[2]]).replace(' ', '') for match in matches])\n",
    "    tickers_list = set()\n",
    "    for item in found_items:\n",
    "        if item in company_names:\n",
    "            tickers_list.add(company_names[item])\n",
    "        else:\n",
    "            tickers_list.add(item)\n",
    "    for ticker in tickers_list:\n",
    "        ticker_freq[ticker] += 1\n",
    "    return '_'.join(tickers_list)"
   ]
  },
  {
   "cell_type": "code",
   "execution_count": 134,
   "metadata": {
    "execution": {
     "iopub.execute_input": "2021-06-14T20:05:13.621300Z",
     "iopub.status.busy": "2021-06-14T20:05:13.620905Z",
     "iopub.status.idle": "2021-06-14T20:05:20.553360Z",
     "shell.execute_reply": "2021-06-14T20:05:20.552157Z",
     "shell.execute_reply.started": "2021-06-14T20:05:13.621264Z"
    }
   },
   "outputs": [
    {
     "name": "stdout",
     "output_type": "stream",
     "text": [
      "Counter({'GME': 3685}) 3685\n"
     ]
    },
    {
     "name": "stderr",
     "output_type": "stream",
     "text": [
      "<ipython-input-134-1eed1b2185c5>:2: SettingWithCopyWarning: \n",
      "A value is trying to be set on a copy of a slice from a DataFrame.\n",
      "Try using .loc[row_indexer,col_indexer] = value instead\n",
      "\n",
      "See the caveats in the documentation: https://pandas.pydata.org/pandas-docs/stable/user_guide/indexing.html#returning-a-view-versus-a-copy\n",
      "  df['orgs'] = df.apply(lambda x: find_tickers_and_names(x.title), axis=1)\n"
     ]
    }
   ],
   "source": [
    "ticker_freq = Counter()\n",
    "df['orgs'] = df.apply(lambda x: find_tickers_and_names(x.title), axis=1)\n",
    "print(ticker_freq, sum(ticker_freq.values()))"
   ]
  },
  {
   "cell_type": "code",
   "execution_count": 135,
   "metadata": {
    "execution": {
     "iopub.execute_input": "2021-06-14T20:05:26.986122Z",
     "iopub.status.busy": "2021-06-14T20:05:26.985767Z",
     "iopub.status.idle": "2021-06-14T20:05:27.019287Z",
     "shell.execute_reply": "2021-06-14T20:05:27.018491Z",
     "shell.execute_reply.started": "2021-06-14T20:05:26.986092Z"
    }
   },
   "outputs": [
    {
     "name": "stdout",
     "output_type": "stream",
     "text": [
      "(3685, 10)\n"
     ]
    },
    {
     "data": {
      "text/plain": "          id                                              title  score  \\\n807   lktxjx  XRT is being used to hide GME shorts. XRT curr...    219   \n884   lktele                             GME Should Go Bankrupt     36   \n895   lktc6b                 GME holders, don't get discouraged     37   \n943   lkt1ay  XRT is being used to hide GME shorts. XRT curr...     76   \n1012  lksina  Just got interviewed by the Korean news (KBS) ...     14   \n\n      total_awards_received  created_utc  num_comments  sentiment  compound  \\\n807                     7.0   1613443702           434         -1   -0.3147   \n884                     2.0   1613441999           804         -1   -0.5574   \n895                     1.0   1613441772           477          1    0.3089   \n943                     4.0   1613440802            53         -1   -0.2481   \n1012                    0.0   1613439125            55          0    0.0000   \n\n      tb_sentiment orgs  \n807            0.0  GME  \n884            0.0  GME  \n895            0.0  GME  \n943            0.0  GME  \n1012           0.0  GME  ",
      "text/html": "<div>\n<style scoped>\n    .dataframe tbody tr th:only-of-type {\n        vertical-align: middle;\n    }\n\n    .dataframe tbody tr th {\n        vertical-align: top;\n    }\n\n    .dataframe thead th {\n        text-align: right;\n    }\n</style>\n<table border=\"1\" class=\"dataframe\">\n  <thead>\n    <tr style=\"text-align: right;\">\n      <th></th>\n      <th>id</th>\n      <th>title</th>\n      <th>score</th>\n      <th>total_awards_received</th>\n      <th>created_utc</th>\n      <th>num_comments</th>\n      <th>sentiment</th>\n      <th>compound</th>\n      <th>tb_sentiment</th>\n      <th>orgs</th>\n    </tr>\n  </thead>\n  <tbody>\n    <tr>\n      <th>807</th>\n      <td>lktxjx</td>\n      <td>XRT is being used to hide GME shorts. XRT curr...</td>\n      <td>219</td>\n      <td>7.0</td>\n      <td>1613443702</td>\n      <td>434</td>\n      <td>-1</td>\n      <td>-0.3147</td>\n      <td>0.0</td>\n      <td>GME</td>\n    </tr>\n    <tr>\n      <th>884</th>\n      <td>lktele</td>\n      <td>GME Should Go Bankrupt</td>\n      <td>36</td>\n      <td>2.0</td>\n      <td>1613441999</td>\n      <td>804</td>\n      <td>-1</td>\n      <td>-0.5574</td>\n      <td>0.0</td>\n      <td>GME</td>\n    </tr>\n    <tr>\n      <th>895</th>\n      <td>lktc6b</td>\n      <td>GME holders, don't get discouraged</td>\n      <td>37</td>\n      <td>1.0</td>\n      <td>1613441772</td>\n      <td>477</td>\n      <td>1</td>\n      <td>0.3089</td>\n      <td>0.0</td>\n      <td>GME</td>\n    </tr>\n    <tr>\n      <th>943</th>\n      <td>lkt1ay</td>\n      <td>XRT is being used to hide GME shorts. XRT curr...</td>\n      <td>76</td>\n      <td>4.0</td>\n      <td>1613440802</td>\n      <td>53</td>\n      <td>-1</td>\n      <td>-0.2481</td>\n      <td>0.0</td>\n      <td>GME</td>\n    </tr>\n    <tr>\n      <th>1012</th>\n      <td>lksina</td>\n      <td>Just got interviewed by the Korean news (KBS) ...</td>\n      <td>14</td>\n      <td>0.0</td>\n      <td>1613439125</td>\n      <td>55</td>\n      <td>0</td>\n      <td>0.0000</td>\n      <td>0.0</td>\n      <td>GME</td>\n    </tr>\n  </tbody>\n</table>\n</div>"
     },
     "execution_count": 135,
     "metadata": {},
     "output_type": "execute_result"
    }
   ],
   "source": [
    "# create new dataframe for only posts with specific organizations mentioned\n",
    "df_stocks = df[df.orgs != '']\n",
    "print(df_stocks.shape)\n",
    "df_stocks.head()"
   ]
  },
  {
   "cell_type": "markdown",
   "metadata": {},
   "source": [
    "## Finding Posts by Stock Ticker"
   ]
  },
  {
   "cell_type": "code",
   "execution_count": 136,
   "metadata": {
    "execution": {
     "iopub.execute_input": "2021-06-14T20:05:47.991930Z",
     "iopub.status.busy": "2021-06-14T20:05:47.991215Z",
     "iopub.status.idle": "2021-06-14T20:05:47.999841Z",
     "shell.execute_reply": "2021-06-14T20:05:47.998824Z",
     "shell.execute_reply.started": "2021-06-14T20:05:47.991879Z"
    }
   },
   "outputs": [],
   "source": [
    "def get_daily_sentiment(dataframe, ticker, sentiment_type='compound'):\n",
    "    '''\n",
    "    get the daily sentiment assosicated with a stock\n",
    "    \n",
    "    ticker: string input\n",
    "    sentiment_type: 'sentiment', 'compound',or 'tb_sentiment'\n",
    "    \n",
    "    '''\n",
    "    df_ticker = dataframe.copy()[dataframe.orgs.str.contains(ticker)]\n",
    "    df_ticker['Date'] = pd.to_datetime(df_ticker['created_utc'],unit='s').dt.date\n",
    "    df_ticker_scores = df_ticker.groupby(df_ticker['Date'])[sentiment_type].mean()\n",
    "    df_ticker_scores = df_ticker_scores.to_frame()\n",
    "    df_ticker_scores.reset_index(inplace=True)\n",
    "\n",
    "    \n",
    "    return df_ticker_scores"
   ]
  },
  {
   "cell_type": "code",
   "execution_count": 137,
   "metadata": {
    "execution": {
     "iopub.execute_input": "2021-06-14T20:07:09.940389Z",
     "iopub.status.busy": "2021-06-14T20:07:09.939964Z",
     "iopub.status.idle": "2021-06-14T20:07:10.002563Z",
     "shell.execute_reply": "2021-06-14T20:07:10.001457Z",
     "shell.execute_reply.started": "2021-06-14T20:07:09.940351Z"
    }
   },
   "outputs": [
    {
     "data": {
      "text/plain": "           Date  compound\n0    2016-08-25  0.709600\n1    2017-02-23 -0.476700\n2    2017-02-28  0.000000\n3    2017-05-23  0.000000\n4    2017-05-25  0.148000\n..          ...       ...\n187  2021-02-12 -0.009581\n188  2021-02-13  0.023364\n189  2021-02-14 -0.039373\n190  2021-02-15 -0.441040\n191  2021-02-16 -0.162260\n\n[192 rows x 2 columns]",
      "text/html": "<div>\n<style scoped>\n    .dataframe tbody tr th:only-of-type {\n        vertical-align: middle;\n    }\n\n    .dataframe tbody tr th {\n        vertical-align: top;\n    }\n\n    .dataframe thead th {\n        text-align: right;\n    }\n</style>\n<table border=\"1\" class=\"dataframe\">\n  <thead>\n    <tr style=\"text-align: right;\">\n      <th></th>\n      <th>Date</th>\n      <th>compound</th>\n    </tr>\n  </thead>\n  <tbody>\n    <tr>\n      <th>0</th>\n      <td>2016-08-25</td>\n      <td>0.709600</td>\n    </tr>\n    <tr>\n      <th>1</th>\n      <td>2017-02-23</td>\n      <td>-0.476700</td>\n    </tr>\n    <tr>\n      <th>2</th>\n      <td>2017-02-28</td>\n      <td>0.000000</td>\n    </tr>\n    <tr>\n      <th>3</th>\n      <td>2017-05-23</td>\n      <td>0.000000</td>\n    </tr>\n    <tr>\n      <th>4</th>\n      <td>2017-05-25</td>\n      <td>0.148000</td>\n    </tr>\n    <tr>\n      <th>...</th>\n      <td>...</td>\n      <td>...</td>\n    </tr>\n    <tr>\n      <th>187</th>\n      <td>2021-02-12</td>\n      <td>-0.009581</td>\n    </tr>\n    <tr>\n      <th>188</th>\n      <td>2021-02-13</td>\n      <td>0.023364</td>\n    </tr>\n    <tr>\n      <th>189</th>\n      <td>2021-02-14</td>\n      <td>-0.039373</td>\n    </tr>\n    <tr>\n      <th>190</th>\n      <td>2021-02-15</td>\n      <td>-0.441040</td>\n    </tr>\n    <tr>\n      <th>191</th>\n      <td>2021-02-16</td>\n      <td>-0.162260</td>\n    </tr>\n  </tbody>\n</table>\n<p>192 rows × 2 columns</p>\n</div>"
     },
     "execution_count": 137,
     "metadata": {},
     "output_type": "execute_result"
    }
   ],
   "source": [
    "df_GME_scores = get_daily_sentiment(df,'GME',sentiment_type='compound')\n",
    "\n",
    "df_GME_scores"
   ]
  },
  {
   "cell_type": "markdown",
   "metadata": {},
   "source": [
    "## Getting Stock Market Data"
   ]
  },
  {
   "cell_type": "code",
   "execution_count": 138,
   "metadata": {
    "execution": {
     "iopub.execute_input": "2021-06-14T19:51:53.411870Z",
     "iopub.status.busy": "2021-06-14T19:51:53.411259Z",
     "iopub.status.idle": "2021-06-14T19:51:53.422998Z",
     "shell.execute_reply": "2021-06-14T19:51:53.422112Z",
     "shell.execute_reply.started": "2021-06-14T19:51:53.411830Z"
    }
   },
   "outputs": [],
   "source": [
    "import yfinance as yf"
   ]
  },
  {
   "cell_type": "code",
   "execution_count": 139,
   "metadata": {
    "execution": {
     "iopub.execute_input": "2021-06-14T20:06:35.462311Z",
     "iopub.status.busy": "2021-06-14T20:06:35.461715Z",
     "iopub.status.idle": "2021-06-14T20:06:35.470325Z",
     "shell.execute_reply": "2021-06-14T20:06:35.469247Z",
     "shell.execute_reply.started": "2021-06-14T20:06:35.462262Z"
    }
   },
   "outputs": [],
   "source": [
    "def get_market_data(ticker, df_scores, min_date,drop_NaN=True): \n",
    "    '''\n",
    "    get the daily price of a stock with sentiment scores\n",
    "    min_date: earilest date to get price. 'YYYY-MM-DD'\n",
    "    \n",
    "    fills in 'NaN' when market data not available (weekends & holidays) \n",
    "    \n",
    "    '''\n",
    "    ticker = yf.Ticker(ticker)\n",
    "    min_date = pd.to_datetime(min_date).date()\n",
    "    max_date = max(df_scores.Date)\n",
    "    hist = ticker.history(start=min_date, end=max_date)\n",
    "    \n",
    "    df_scores_date = df_scores[df_scores.Date > min_date]\n",
    "    df_scores_date.set_index('Date', inplace=True, drop=True)\n",
    "    \n",
    "    df_wsb = pd.concat([hist, df_scores_date], axis=1)\n",
    "    \n",
    "    if drop_NaN: \n",
    "        df_wsb = df_wsb.dropna()\n",
    "    \n",
    "    return df_wsb"
   ]
  },
  {
   "cell_type": "code",
   "execution_count": 140,
   "metadata": {
    "execution": {
     "iopub.execute_input": "2021-06-14T20:07:47.681524Z",
     "iopub.status.busy": "2021-06-14T20:07:47.680957Z",
     "iopub.status.idle": "2021-06-14T20:07:47.797703Z",
     "shell.execute_reply": "2021-06-14T20:07:47.796568Z",
     "shell.execute_reply.started": "2021-06-14T20:07:47.681488Z"
    }
   },
   "outputs": [
    {
     "data": {
      "text/plain": "<Figure size 1152x720 with 2 Axes>",
      "image/png": "[encoded data removed]"
     },
     "metadata": {
      "needs_background": "light"
     },
     "output_type": "display_data"
    }
   ],
   "source": [
    "\n",
    "\n",
    "df_GME_wsb = get_market_data('GME',df_GME_scores,'2020-01-01',drop_NaN=True)\n",
    "\n",
    "df = df_GME_wsb[['compound','Open']]\n",
    "\n",
    "\n",
    "\n",
    "df.plot(secondary_y='compound', figsize=(16, 10));\n",
    "# there seems to be no correlation at all, we will still attempt to put it in the model to see if it adds\n",
    "# any predictive value"
   ]
  },
  {
   "cell_type": "markdown",
   "metadata": {},
   "source": [
    "## Train Test Split"
   ]
  },
  {
   "cell_type": "code",
   "execution_count": 148,
   "metadata": {
    "execution": {
     "iopub.execute_input": "2021-06-14T20:07:59.343967Z",
     "iopub.status.busy": "2021-06-14T20:07:59.343592Z",
     "iopub.status.idle": "2021-06-14T20:07:59.355714Z",
     "shell.execute_reply": "2021-06-14T20:07:59.354466Z",
     "shell.execute_reply.started": "2021-06-14T20:07:59.343937Z"
    }
   },
   "outputs": [],
   "source": [
    "from sklearn.preprocessing import MinMaxScaler\n",
    "from sklearn.model_selection import TimeSeriesSplit\n",
    "\n",
    "dataset = df_GME_wsb.values\n",
    "\n",
    "# Set the X without Open or Date\n",
    "X_MinMax = MinMaxScaler()\n",
    "y_MinMax = MinMaxScaler()\n",
    "X = X_MinMax.fit_transform(dataset[:, 1:])\n",
    "y = y_MinMax.fit_transform(dataset[:, 0].reshape(-1, 1)) # open price\n",
    "\n",
    "#X = (dataset[:, 1:6])\n",
    "#y = (dataset[:, 0].reshape(-1, 1))\n",
    "\n",
    "tscv = TimeSeriesSplit()\n",
    "\n",
    "for train_index, test_index in tscv.split(X):\n",
    "    #print(\"TRAIN:\", train_index, \"TEST:\", test_index)\n",
    "    X_train, X_test = X[train_index], X[test_index]\n",
    "    y_train, y_test = y[train_index], y[test_index]\n",
    "    \n",
    "    \n",
    "X_train_scale = np.reshape(X_train, (X_train.shape[0], X_train.shape[1], 1))\n",
    "X_test_scale = np.reshape(X_test, (X_test.shape[0], X_test.shape[1], 1))\n",
    "\n"
   ]
  },
  {
   "cell_type": "markdown",
   "metadata": {},
   "source": [
    "## LSTM"
   ]
  },
  {
   "cell_type": "code",
   "execution_count": 142,
   "metadata": {
    "execution": {
     "iopub.execute_input": "2021-06-14T20:08:14.262883Z",
     "iopub.status.busy": "2021-06-14T20:08:14.262497Z",
     "iopub.status.idle": "2021-06-14T20:08:35.028606Z",
     "shell.execute_reply": "2021-06-14T20:08:35.027069Z",
     "shell.execute_reply.started": "2021-06-14T20:08:14.262853Z"
    }
   },
   "outputs": [
    {
     "name": "stdout",
     "output_type": "stream",
     "text": [
      "Epoch 1/225\n",
      "3/3 [==============================] - 8s 763ms/step - loss: 3.8325e-04 - val_loss: 6.9230e-04\b\b\b\b\b\b\b\b\b\b\b\b\b\b\b\b\b\b\b\b\b\b\b\b\b\b\b\b\b\b\b\b\b\b\b\b\b\b\n",
      "Epoch 2/225\n",
      "3/3 [==============================] - 0s 19ms/step - loss: 3.5111e-04 - val_loss: 0.0012\b\b\b\b\b\b\b\b\b\b\b\b\b\b\b\b\b\b\b\b\b\b\b\b\b\b\b\b\b\b\b\b\b\b\b\b\b\b\b\b\b\n",
      "Epoch 3/225\n",
      "3/3 [==============================] - 0s 19ms/step - loss: 1.5402e-04 - val_loss: 0.0018\b\b\b\b\b\b\b\b\b\b\b\b\b\b\b\b\b\b\b\b\b\b\b\b\b\b\b\b\b\b\b\b\b\b\b\b\b\b\b\b\b\n",
      "Epoch 4/225\n",
      "3/3 [==============================] - 0s 18ms/step - loss: 2.1869e-04 - val_loss: 0.0016\b\b\b\b\b\b\b\b\b\b\b\b\b\b\b\b\b\b\b\b\b\b\b\b\b\b\b\b\b\b\b\b\b\b\b\b\b\b\b\b\b\n",
      "Epoch 5/225\n",
      "3/3 [==============================] - 0s 17ms/step - loss: 1.5813e-04 - val_loss: 0.0012\b\b\b\b\b\b\b\b\b\b\b\b\b\b\b\b\b\b\b\b\b\b\b\b\b\b\b\b\b\b\b\b\b\b\b\b\b\b\b\b\b\n",
      "Epoch 6/225\n",
      "3/3 [==============================] - 0s 15ms/step - loss: 1.8846e-04 - val_loss: 0.0010\b\b\b\b\b\b\b\b\b\b\b\b\b\b\b\b\b\b\b\b\b\b\b\b\b\b\b\b\b\b\b\b\b\b\b\b\b\b\b\b\b\n",
      "Epoch 7/225\n",
      "3/3 [==============================] - 0s 14ms/step - loss: 2.0145e-04 - val_loss: 0.0012\b\b\b\b\b\b\b\b\b\b\b\b\b\b\b\b\b\b\b\b\b\b\b\b\b\b\b\b\b\b\b\b\b\b\b\b\b\b\b\b\b\n",
      "Epoch 8/225\n",
      "3/3 [==============================] - 0s 15ms/step - loss: 1.7280e-04 - val_loss: 0.0015\b\b\b\b\b\b\b\b\b\b\b\b\b\b\b\b\b\b\b\b\b\b\b\b\b\b\b\b\b\b\b\b\b\b\b\b\b\b\b\b\b\n",
      "Epoch 9/225\n",
      "3/3 [==============================] - 0s 14ms/step - loss: 1.5938e-04 - val_loss: 0.0015\b\b\b\b\b\b\b\b\b\b\b\b\b\b\b\b\b\b\b\b\b\b\b\b\b\b\b\b\b\b\b\b\b\b\b\b\b\b\b\b\b\n",
      "Epoch 10/225\n",
      "3/3 [==============================] - 0s 16ms/step - loss: 1.6242e-04 - val_loss: 0.0012\b\b\b\b\b\b\b\b\b\b\b\b\b\b\b\b\b\b\b\b\b\b\b\b\b\b\b\b\b\b\b\b\b\b\b\b\b\b\b\b\b\n",
      "Epoch 11/225\n",
      "3/3 [==============================] - 0s 15ms/step - loss: 1.5385e-04 - val_loss: 0.0011\b\b\b\b\b\b\b\b\b\b\b\b\b\b\b\b\b\b\b\b\b\b\b\b\b\b\b\b\b\b\b\b\b\b\b\b\b\b\b\b\b\n",
      "Epoch 12/225\n",
      "3/3 [==============================] - 0s 15ms/step - loss: 1.6109e-04 - val_loss: 0.0012\b\b\b\b\b\b\b\b\b\b\b\b\b\b\b\b\b\b\b\b\b\b\b\b\b\b\b\b\b\b\b\b\b\b\b\b\b\b\b\b\b\n",
      "Epoch 13/225\n",
      "3/3 [==============================] - 0s 14ms/step - loss: 1.6248e-04 - val_loss: 0.0013\b\b\b\b\b\b\b\b\b\b\b\b\b\b\b\b\b\b\b\b\b\b\b\b\b\b\b\b\b\b\b\b\b\b\b\b\b\b\b\b\b\n",
      "Epoch 14/225\n",
      "3/3 [==============================] - 0s 14ms/step - loss: 1.6477e-04 - val_loss: 0.0013\b\b\b\b\b\b\b\b\b\b\b\b\b\b\b\b\b\b\b\b\b\b\b\b\b\b\b\b\b\b\b\b\b\b\b\b\b\b\b\b\b\n",
      "Epoch 15/225\n",
      "3/3 [==============================] - 0s 16ms/step - loss: 1.5616e-04 - val_loss: 0.0012\b\b\b\b\b\b\b\b\b\b\b\b\b\b\b\b\b\b\b\b\b\b\b\b\b\b\b\b\b\b\b\b\b\b\b\b\b\b\b\b\b\n",
      "Epoch 16/225\n",
      "3/3 [==============================] - 0s 17ms/step - loss: 1.3791e-04 - val_loss: 0.0010\b\b\b\b\b\b\b\b\b\b\b\b\b\b\b\b\b\b\b\b\b\b\b\b\b\b\b\b\b\b\b\b\b\b\b\b\b\b\b\b\b\n",
      "Epoch 17/225\n",
      "3/3 [==============================] - 0s 16ms/step - loss: 1.5328e-04 - val_loss: 0.0010\b\b\b\b\b\b\b\b\b\b\b\b\b\b\b\b\b\b\b\b\b\b\b\b\b\b\b\b\b\b\b\b\b\b\b\b\b\b\b\b\b\n",
      "Epoch 18/225\n",
      "3/3 [==============================] - 0s 17ms/step - loss: 1.4297e-04 - val_loss: 0.0010\b\b\b\b\b\b\b\b\b\b\b\b\b\b\b\b\b\b\b\b\b\b\b\b\b\b\b\b\b\b\b\b\b\b\b\b\b\b\b\b\b\n",
      "Epoch 19/225\n",
      "3/3 [==============================] - 0s 18ms/step - loss: 1.5387e-04 - val_loss: 9.6842e-04\b\b\b\b\b\b\b\b\b\b\b\b\b\b\b\b\b\b\b\b\b\b\b\b\b\b\b\b\b\b\b\b\b\b\b\b\b\n",
      "Epoch 20/225\n",
      "3/3 [==============================] - 0s 16ms/step - loss: 1.4073e-04 - val_loss: 8.8758e-04\b\b\b\b\b\b\b\b\b\b\b\b\b\b\b\b\b\b\b\b\b\b\b\b\b\b\b\b\b\b\b\b\b\b\b\b\b\n",
      "Epoch 21/225\n",
      "3/3 [==============================] - 0s 18ms/step - loss: 1.4171e-04 - val_loss: 7.3229e-04\b\b\b\b\b\b\b\b\b\b\b\b\b\b\b\b\b\b\b\b\b\b\b\b\b\b\b\b\b\b\b\b\b\b\b\b\b\n",
      "Epoch 22/225\n",
      "3/3 [==============================] - 0s 20ms/step - loss: 1.2477e-04 - val_loss: 6.6055e-04\b\b\b\b\b\b\b\b\b\b\b\b\b\b\b\b\b\b\b\b\b\b\b\b\b\b\b\b\b\b\b\b\b\b\b\b\b\n",
      "Epoch 23/225\n",
      "3/3 [==============================] - 0s 16ms/step - loss: 1.0281e-04 - val_loss: 4.5184e-04\b\b\b\b\b\b\b\b\b\b\b\b\b\b\b\b\b\b\b\b\b\b\b\b\b\b\b\b\b\b\b\b\b\b\b\b\b\n",
      "Epoch 24/225\n",
      "3/3 [==============================] - 0s 16ms/step - loss: 1.0826e-04 - val_loss: 4.4792e-04\b\b\b\b\b\b\b\b\b\b\b\b\b\b\b\b\b\b\b\b\b\b\b\b\b\b\b\b\b\b\b\b\b\b\b\b\b\n",
      "Epoch 25/225\n",
      "3/3 [==============================] - 0s 15ms/step - loss: 8.0901e-05 - val_loss: 4.4684e-04\b\b\b\b\b\b\b\b\b\b\b\b\b\b\b\b\b\b\b\b\b\b\b\b\b\b\b\b\b\b\b\b\b\b\b\b\b\n",
      "Epoch 26/225\n",
      "3/3 [==============================] - 0s 15ms/step - loss: 7.2486e-05 - val_loss: 4.3377e-04\b\b\b\b\b\b\b\b\b\b\b\b\b\b\b\b\b\b\b\b\b\b\b\b\b\b\b\b\b\b\b\b\b\b\b\b\b\n",
      "Epoch 27/225\n",
      "3/3 [==============================] - 0s 16ms/step - loss: 9.4107e-05 - val_loss: 5.1930e-04\b\b\b\b\b\b\b\b\b\b\b\b\b\b\b\b\b\b\b\b\b\b\b\b\b\b\b\b\b\b\b\b\b\b\b\b\b\n",
      "Epoch 28/225\n",
      "3/3 [==============================] - 0s 17ms/step - loss: 8.0794e-05 - val_loss: 5.5178e-04\b\b\b\b\b\b\b\b\b\b\b\b\b\b\b\b\b\b\b\b\b\b\b\b\b\b\b\b\b\b\b\b\b\b\b\b\b\n",
      "Epoch 29/225\n",
      "3/3 [==============================] - 0s 16ms/step - loss: 6.3399e-05 - val_loss: 5.3113e-04\b\b\b\b\b\b\b\b\b\b\b\b\b\b\b\b\b\b\b\b\b\b\b\b\b\b\b\b\b\b\b\b\b\b\b\b\b\n",
      "Epoch 30/225\n",
      "3/3 [==============================] - 0s 17ms/step - loss: 5.9319e-05 - val_loss: 4.7301e-04\b\b\b\b\b\b\b\b\b\b\b\b\b\b\b\b\b\b\b\b\b\b\b\b\b\b\b\b\b\b\b\b\b\b\b\b\b\n",
      "Epoch 31/225\n",
      "3/3 [==============================] - 0s 18ms/step - loss: 5.3494e-05 - val_loss: 4.2245e-04\b\b\b\b\b\b\b\b\b\b\b\b\b\b\b\b\b\b\b\b\b\b\b\b\b\b\b\b\b\b\b\b\b\b\b\b\b\n",
      "Epoch 32/225\n",
      "3/3 [==============================] - 0s 14ms/step - loss: 6.2008e-05 - val_loss: 3.7749e-04\b\b\b\b\b\b\b\b\b\b\b\b\b\b\b\b\b\b\b\b\b\b\b\b\b\b\b\b\b\b\b\b\b\b\b\b\b\n",
      "Epoch 33/225\n",
      "3/3 [==============================] - 0s 15ms/step - loss: 6.2419e-05 - val_loss: 3.9899e-04\b\b\b\b\b\b\b\b\b\b\b\b\b\b\b\b\b\b\b\b\b\b\b\b\b\b\b\b\b\b\b\b\b\b\b\b\b\n",
      "Epoch 34/225\n",
      "3/3 [==============================] - 0s 17ms/step - loss: 6.4340e-05 - val_loss: 3.7104e-04\b\b\b\b\b\b\b\b\b\b\b\b\b\b\b\b\b\b\b\b\b\b\b\b\b\b\b\b\b\b\b\b\b\b\b\b\b\n",
      "Epoch 35/225\n",
      "3/3 [==============================] - 0s 14ms/step - loss: 5.9837e-05 - val_loss: 4.0342e-04\b\b\b\b\b\b\b\b\b\b\b\b\b\b\b\b\b\b\b\b\b\b\b\b\b\b\b\b\b\b\b\b\b\b\b\b\b\n",
      "Epoch 36/225\n",
      "3/3 [==============================] - 0s 15ms/step - loss: 6.1149e-05 - val_loss: 4.1475e-04\b\b\b\b\b\b\b\b\b\b\b\b\b\b\b\b\b\b\b\b\b\b\b\b\b\b\b\b\b\b\b\b\b\b\b\b\b\n",
      "Epoch 37/225\n",
      "3/3 [==============================] - 0s 14ms/step - loss: 5.6320e-05 - val_loss: 4.4345e-04\b\b\b\b\b\b\b\b\b\b\b\b\b\b\b\b\b\b\b\b\b\b\b\b\b\b\b\b\b\b\b\b\b\b\b\b\b\n",
      "Epoch 38/225\n",
      "3/3 [==============================] - 0s 15ms/step - loss: 5.5346e-05 - val_loss: 4.4482e-04\b\b\b\b\b\b\b\b\b\b\b\b\b\b\b\b\b\b\b\b\b\b\b\b\b\b\b\b\b\b\b\b\b\b\b\b\b\n",
      "Epoch 39/225\n",
      "3/3 [==============================] - 0s 15ms/step - loss: 6.9919e-05 - val_loss: 4.0057e-04\b\b\b\b\b\b\b\b\b\b\b\b\b\b\b\b\b\b\b\b\b\b\b\b\b\b\b\b\b\b\b\b\b\b\b\b\b\n",
      "Epoch 40/225\n",
      "3/3 [==============================] - 0s 14ms/step - loss: 5.1795e-05 - val_loss: 3.7181e-04\b\b\b\b\b\b\b\b\b\b\b\b\b\b\b\b\b\b\b\b\b\b\b\b\b\b\b\b\b\b\b\b\b\b\b\b\b\n",
      "Epoch 41/225\n",
      "3/3 [==============================] - 0s 14ms/step - loss: 3.6851e-05 - val_loss: 3.5697e-04\b\b\b\b\b\b\b\b\b\b\b\b\b\b\b\b\b\b\b\b\b\b\b\b\b\b\b\b\b\b\b\b\b\b\b\b\b\n",
      "Epoch 42/225\n",
      "3/3 [==============================] - 0s 14ms/step - loss: 3.9724e-05 - val_loss: 3.6958e-04\b\b\b\b\b\b\b\b\b\b\b\b\b\b\b\b\b\b\b\b\b\b\b\b\b\b\b\b\b\b\b\b\b\b\b\b\b\n",
      "Epoch 43/225\n",
      "3/3 [==============================] - 0s 14ms/step - loss: 4.4948e-05 - val_loss: 3.7941e-04\b\b\b\b\b\b\b\b\b\b\b\b\b\b\b\b\b\b\b\b\b\b\b\b\b\b\b\b\b\b\b\b\b\b\b\b\b\n",
      "Epoch 44/225\n",
      "3/3 [==============================] - 0s 14ms/step - loss: 5.7959e-05 - val_loss: 3.8724e-04\b\b\b\b\b\b\b\b\b\b\b\b\b\b\b\b\b\b\b\b\b\b\b\b\b\b\b\b\b\b\b\b\b\b\b\b\b\n",
      "Epoch 45/225\n",
      "3/3 [==============================] - 0s 14ms/step - loss: 4.6302e-05 - val_loss: 3.7556e-04\b\b\b\b\b\b\b\b\b\b\b\b\b\b\b\b\b\b\b\b\b\b\b\b\b\b\b\b\b\b\b\b\b\b\b\b\b\n",
      "Epoch 46/225\n",
      "3/3 [==============================] - 0s 15ms/step - loss: 4.1947e-05 - val_loss: 3.7678e-04\b\b\b\b\b\b\b\b\b\b\b\b\b\b\b\b\b\b\b\b\b\b\b\b\b\b\b\b\b\b\b\b\b\b\b\b\b\n",
      "Epoch 47/225\n",
      "3/3 [==============================] - 0s 16ms/step - loss: 6.2998e-05 - val_loss: 3.0090e-04\b\b\b\b\b\b\b\b\b\b\b\b\b\b\b\b\b\b\b\b\b\b\b\b\b\b\b\b\b\b\b\b\b\b\b\b\b\n",
      "Epoch 48/225\n",
      "3/3 [==============================] - 0s 15ms/step - loss: 5.1084e-05 - val_loss: 3.1998e-04\b\b\b\b\b\b\b\b\b\b\b\b\b\b\b\b\b\b\b\b\b\b\b\b\b\b\b\b\b\b\b\b\b\b\b\b\b\n",
      "Epoch 49/225\n",
      "3/3 [==============================] - 0s 15ms/step - loss: 5.0332e-05 - val_loss: 2.7148e-04\b\b\b\b\b\b\b\b\b\b\b\b\b\b\b\b\b\b\b\b\b\b\b\b\b\b\b\b\b\b\b\b\b\b\b\b\b\n",
      "Epoch 50/225\n",
      "3/3 [==============================] - 0s 14ms/step - loss: 4.6034e-05 - val_loss: 2.7874e-04\b\b\b\b\b\b\b\b\b\b\b\b\b\b\b\b\b\b\b\b\b\b\b\b\b\b\b\b\b\b\b\b\b\b\b\b\b\n",
      "Epoch 51/225\n",
      "3/3 [==============================] - 0s 14ms/step - loss: 4.1415e-05 - val_loss: 2.9440e-04\b\b\b\b\b\b\b\b\b\b\b\b\b\b\b\b\b\b\b\b\b\b\b\b\b\b\b\b\b\b\b\b\b\b\b\b\b\n",
      "Epoch 52/225\n",
      "3/3 [==============================] - 0s 15ms/step - loss: 3.8831e-05 - val_loss: 3.3375e-04\b\b\b\b\b\b\b\b\b\b\b\b\b\b\b\b\b\b\b\b\b\b\b\b\b\b\b\b\b\b\b\b\b\b\b\b\b\n",
      "Epoch 53/225\n",
      "3/3 [==============================] - 0s 14ms/step - loss: 4.1775e-05 - val_loss: 3.4904e-04\b\b\b\b\b\b\b\b\b\b\b\b\b\b\b\b\b\b\b\b\b\b\b\b\b\b\b\b\b\b\b\b\b\b\b\b\b\n",
      "Epoch 54/225\n",
      "3/3 [==============================] - 0s 15ms/step - loss: 3.5915e-05 - val_loss: 3.5270e-04\b\b\b\b\b\b\b\b\b\b\b\b\b\b\b\b\b\b\b\b\b\b\b\b\b\b\b\b\b\b\b\b\b\b\b\b\b\n",
      "Epoch 55/225\n",
      "3/3 [==============================] - 0s 14ms/step - loss: 4.3728e-05 - val_loss: 3.1036e-04\b\b\b\b\b\b\b\b\b\b\b\b\b\b\b\b\b\b\b\b\b\b\b\b\b\b\b\b\b\b\b\b\b\b\b\b\b\n",
      "Epoch 56/225\n",
      "3/3 [==============================] - 0s 14ms/step - loss: 4.2697e-05 - val_loss: 2.4857e-04\b\b\b\b\b\b\b\b\b\b\b\b\b\b\b\b\b\b\b\b\b\b\b\b\b\b\b\b\b\b\b\b\b\b\b\b\b\n",
      "Epoch 57/225\n",
      "3/3 [==============================] - 0s 15ms/step - loss: 3.0849e-05 - val_loss: 2.7451e-04\b\b\b\b\b\b\b\b\b\b\b\b\b\b\b\b\b\b\b\b\b\b\b\b\b\b\b\b\b\b\b\b\b\b\b\b\b\n",
      "Epoch 58/225\n",
      "3/3 [==============================] - 0s 14ms/step - loss: 4.2996e-05 - val_loss: 2.2151e-04\b\b\b\b\b\b\b\b\b\b\b\b\b\b\b\b\b\b\b\b\b\b\b\b\b\b\b\b\b\b\b\b\b\b\b\b\b\n",
      "Epoch 59/225\n",
      "3/3 [==============================] - 0s 14ms/step - loss: 4.9593e-05 - val_loss: 2.5771e-04\b\b\b\b\b\b\b\b\b\b\b\b\b\b\b\b\b\b\b\b\b\b\b\b\b\b\b\b\b\b\b\b\b\b\b\b\b\n",
      "Epoch 60/225\n",
      "3/3 [==============================] - 0s 20ms/step - loss: 3.7342e-05 - val_loss: 2.3489e-04\b\b\b\b\b\b\b\b\b\b\b\b\b\b\b\b\b\b\b\b\b\b\b\b\b\b\b\b\b\b\b\b\b\b\b\b\b\n",
      "Epoch 61/225\n",
      "3/3 [==============================] - 0s 15ms/step - loss: 4.9101e-05 - val_loss: 2.5443e-04\b\b\b\b\b\b\b\b\b\b\b\b\b\b\b\b\b\b\b\b\b\b\b\b\b\b\b\b\b\b\b\b\b\b\b\b\b\n",
      "Epoch 62/225\n",
      "3/3 [==============================] - 0s 14ms/step - loss: 3.8224e-05 - val_loss: 2.5901e-04\b\b\b\b\b\b\b\b\b\b\b\b\b\b\b\b\b\b\b\b\b\b\b\b\b\b\b\b\b\b\b\b\b\b\b\b\b\n",
      "Epoch 63/225\n",
      "3/3 [==============================] - 0s 14ms/step - loss: 3.3211e-05 - val_loss: 2.5112e-04\b\b\b\b\b\b\b\b\b\b\b\b\b\b\b\b\b\b\b\b\b\b\b\b\b\b\b\b\b\b\b\b\b\b\b\b\b\n",
      "Epoch 64/225\n",
      "3/3 [==============================] - 0s 15ms/step - loss: 2.7565e-05 - val_loss: 2.2319e-04\b\b\b\b\b\b\b\b\b\b\b\b\b\b\b\b\b\b\b\b\b\b\b\b\b\b\b\b\b\b\b\b\b\b\b\b\b\n",
      "Epoch 65/225\n",
      "3/3 [==============================] - 0s 15ms/step - loss: 3.5392e-05 - val_loss: 2.0738e-04\b\b\b\b\b\b\b\b\b\b\b\b\b\b\b\b\b\b\b\b\b\b\b\b\b\b\b\b\b\b\b\b\b\b\b\b\b\n",
      "Epoch 66/225\n",
      "3/3 [==============================] - 0s 16ms/step - loss: 3.4030e-05 - val_loss: 2.1022e-04\b\b\b\b\b\b\b\b\b\b\b\b\b\b\b\b\b\b\b\b\b\b\b\b\b\b\b\b\b\b\b\b\b\b\b\b\b\n",
      "Epoch 67/225\n",
      "3/3 [==============================] - 0s 14ms/step - loss: 3.0609e-05 - val_loss: 1.9950e-04\b\b\b\b\b\b\b\b\b\b\b\b\b\b\b\b\b\b\b\b\b\b\b\b\b\b\b\b\b\b\b\b\b\b\b\b\b\n",
      "Epoch 68/225\n",
      "3/3 [==============================] - 0s 14ms/step - loss: 3.7750e-05 - val_loss: 2.2208e-04\b\b\b\b\b\b\b\b\b\b\b\b\b\b\b\b\b\b\b\b\b\b\b\b\b\b\b\b\b\b\b\b\b\b\b\b\b\n",
      "Epoch 69/225\n",
      "3/3 [==============================] - 0s 15ms/step - loss: 2.7996e-05 - val_loss: 2.2672e-04\b\b\b\b\b\b\b\b\b\b\b\b\b\b\b\b\b\b\b\b\b\b\b\b\b\b\b\b\b\b\b\b\b\b\b\b\b\n",
      "Epoch 70/225\n",
      "3/3 [==============================] - 0s 14ms/step - loss: 3.2781e-05 - val_loss: 1.8135e-04\b\b\b\b\b\b\b\b\b\b\b\b\b\b\b\b\b\b\b\b\b\b\b\b\b\b\b\b\b\b\b\b\b\b\b\b\b\n",
      "Epoch 71/225\n",
      "3/3 [==============================] - 0s 14ms/step - loss: 3.1843e-05 - val_loss: 1.8967e-04\b\b\b\b\b\b\b\b\b\b\b\b\b\b\b\b\b\b\b\b\b\b\b\b\b\b\b\b\b\b\b\b\b\b\b\b\b\n",
      "Epoch 72/225\n",
      "3/3 [==============================] - 0s 15ms/step - loss: 2.6689e-05 - val_loss: 1.7319e-04\b\b\b\b\b\b\b\b\b\b\b\b\b\b\b\b\b\b\b\b\b\b\b\b\b\b\b\b\b\b\b\b\b\b\b\b\b\n",
      "Epoch 73/225\n",
      "3/3 [==============================] - 0s 15ms/step - loss: 3.7412e-05 - val_loss: 1.8451e-04\b\b\b\b\b\b\b\b\b\b\b\b\b\b\b\b\b\b\b\b\b\b\b\b\b\b\b\b\b\b\b\b\b\b\b\b\b\n",
      "Epoch 74/225\n",
      "3/3 [==============================] - 0s 14ms/step - loss: 2.6746e-05 - val_loss: 1.6695e-04\b\b\b\b\b\b\b\b\b\b\b\b\b\b\b\b\b\b\b\b\b\b\b\b\b\b\b\b\b\b\b\b\b\b\b\b\b\n",
      "Epoch 75/225\n",
      "3/3 [==============================] - 0s 14ms/step - loss: 3.0398e-05 - val_loss: 1.7498e-04\b\b\b\b\b\b\b\b\b\b\b\b\b\b\b\b\b\b\b\b\b\b\b\b\b\b\b\b\b\b\b\b\b\b\b\b\b\n",
      "Epoch 76/225\n",
      "3/3 [==============================] - 0s 14ms/step - loss: 1.8390e-05 - val_loss: 1.5499e-04\b\b\b\b\b\b\b\b\b\b\b\b\b\b\b\b\b\b\b\b\b\b\b\b\b\b\b\b\b\b\b\b\b\b\b\b\b\n",
      "Epoch 77/225\n",
      "3/3 [==============================] - 0s 14ms/step - loss: 2.1103e-05 - val_loss: 1.4976e-04\b\b\b\b\b\b\b\b\b\b\b\b\b\b\b\b\b\b\b\b\b\b\b\b\b\b\b\b\b\b\b\b\b\b\b\b\b\n",
      "Epoch 78/225\n",
      "3/3 [==============================] - 0s 15ms/step - loss: 2.5673e-05 - val_loss: 1.5900e-04\b\b\b\b\b\b\b\b\b\b\b\b\b\b\b\b\b\b\b\b\b\b\b\b\b\b\b\b\b\b\b\b\b\b\b\b\b\n",
      "Epoch 79/225\n",
      "3/3 [==============================] - 0s 14ms/step - loss: 2.5313e-05 - val_loss: 1.3978e-04\b\b\b\b\b\b\b\b\b\b\b\b\b\b\b\b\b\b\b\b\b\b\b\b\b\b\b\b\b\b\b\b\b\b\b\b\b\n",
      "Epoch 80/225\n",
      "3/3 [==============================] - 0s 14ms/step - loss: 3.7252e-05 - val_loss: 1.9787e-04\b\b\b\b\b\b\b\b\b\b\b\b\b\b\b\b\b\b\b\b\b\b\b\b\b\b\b\b\b\b\b\b\b\b\b\b\b\n",
      "Epoch 81/225\n",
      "3/3 [==============================] - 0s 14ms/step - loss: 3.0738e-05 - val_loss: 1.2794e-04\b\b\b\b\b\b\b\b\b\b\b\b\b\b\b\b\b\b\b\b\b\b\b\b\b\b\b\b\b\b\b\b\b\b\b\b\b\n",
      "Epoch 82/225\n",
      "3/3 [==============================] - 0s 14ms/step - loss: 2.6429e-05 - val_loss: 1.3780e-04\b\b\b\b\b\b\b\b\b\b\b\b\b\b\b\b\b\b\b\b\b\b\b\b\b\b\b\b\b\b\b\b\b\b\b\b\b\n",
      "Epoch 83/225\n",
      "3/3 [==============================] - 0s 14ms/step - loss: 1.9485e-05 - val_loss: 1.3397e-04\b\b\b\b\b\b\b\b\b\b\b\b\b\b\b\b\b\b\b\b\b\b\b\b\b\b\b\b\b\b\b\b\b\b\b\b\b\n",
      "Epoch 84/225\n",
      "3/3 [==============================] - 0s 14ms/step - loss: 1.4696e-05 - val_loss: 1.2011e-04\b\b\b\b\b\b\b\b\b\b\b\b\b\b\b\b\b\b\b\b\b\b\b\b\b\b\b\b\b\b\b\b\b\b\b\b\b\n",
      "Epoch 85/225\n",
      "3/3 [==============================] - 0s 14ms/step - loss: 1.7764e-05 - val_loss: 1.5021e-04\b\b\b\b\b\b\b\b\b\b\b\b\b\b\b\b\b\b\b\b\b\b\b\b\b\b\b\b\b\b\b\b\b\b\b\b\b\n",
      "Epoch 86/225\n",
      "3/3 [==============================] - 0s 15ms/step - loss: 2.1888e-05 - val_loss: 1.3765e-04\b\b\b\b\b\b\b\b\b\b\b\b\b\b\b\b\b\b\b\b\b\b\b\b\b\b\b\b\b\b\b\b\b\b\b\b\b\n",
      "Epoch 87/225\n",
      "3/3 [==============================] - 0s 15ms/step - loss: 2.8507e-05 - val_loss: 1.3337e-04\b\b\b\b\b\b\b\b\b\b\b\b\b\b\b\b\b\b\b\b\b\b\b\b\b\b\b\b\b\b\b\b\b\b\b\b\b\n",
      "Epoch 88/225\n",
      "3/3 [==============================] - 0s 14ms/step - loss: 2.5218e-05 - val_loss: 1.1137e-04\b\b\b\b\b\b\b\b\b\b\b\b\b\b\b\b\b\b\b\b\b\b\b\b\b\b\b\b\b\b\b\b\b\b\b\b\b\n",
      "Epoch 89/225\n",
      "3/3 [==============================] - 0s 14ms/step - loss: 2.9721e-05 - val_loss: 9.8731e-05\b\b\b\b\b\b\b\b\b\b\b\b\b\b\b\b\b\b\b\b\b\b\b\b\b\b\b\b\b\b\b\b\b\b\b\b\b\n",
      "Epoch 90/225\n",
      "3/3 [==============================] - 0s 15ms/step - loss: 4.2913e-05 - val_loss: 2.0264e-04\b\b\b\b\b\b\b\b\b\b\b\b\b\b\b\b\b\b\b\b\b\b\b\b\b\b\b\b\b\b\b\b\b\b\b\b\b\n",
      "Epoch 91/225\n",
      "3/3 [==============================] - 0s 15ms/step - loss: 2.9584e-05 - val_loss: 2.0301e-04\b\b\b\b\b\b\b\b\b\b\b\b\b\b\b\b\b\b\b\b\b\b\b\b\b\b\b\b\b\b\b\b\b\b\b\b\b\n",
      "Epoch 92/225\n",
      "3/3 [==============================] - 0s 14ms/step - loss: 3.1058e-05 - val_loss: 1.0836e-04\b\b\b\b\b\b\b\b\b\b\b\b\b\b\b\b\b\b\b\b\b\b\b\b\b\b\b\b\b\b\b\b\b\b\b\b\b\n",
      "Epoch 93/225\n",
      "3/3 [==============================] - 0s 14ms/step - loss: 4.8141e-05 - val_loss: 1.4516e-04\b\b\b\b\b\b\b\b\b\b\b\b\b\b\b\b\b\b\b\b\b\b\b\b\b\b\b\b\b\b\b\b\b\b\b\b\b\n",
      "Epoch 94/225\n",
      "3/3 [==============================] - 0s 14ms/step - loss: 2.5540e-05 - val_loss: 1.2757e-04\b\b\b\b\b\b\b\b\b\b\b\b\b\b\b\b\b\b\b\b\b\b\b\b\b\b\b\b\b\b\b\b\b\b\b\b\b\n",
      "Epoch 95/225\n",
      "3/3 [==============================] - 0s 14ms/step - loss: 2.3406e-05 - val_loss: 1.5653e-04\b\b\b\b\b\b\b\b\b\b\b\b\b\b\b\b\b\b\b\b\b\b\b\b\b\b\b\b\b\b\b\b\b\b\b\b\b\n",
      "Epoch 96/225\n",
      "3/3 [==============================] - 0s 15ms/step - loss: 1.8583e-05 - val_loss: 1.2209e-04\b\b\b\b\b\b\b\b\b\b\b\b\b\b\b\b\b\b\b\b\b\b\b\b\b\b\b\b\b\b\b\b\b\b\b\b\b\n",
      "Epoch 97/225\n",
      "3/3 [==============================] - 0s 14ms/step - loss: 1.8128e-05 - val_loss: 1.2433e-04\b\b\b\b\b\b\b\b\b\b\b\b\b\b\b\b\b\b\b\b\b\b\b\b\b\b\b\b\b\b\b\b\b\b\b\b\b\n",
      "Epoch 98/225\n",
      "3/3 [==============================] - 0s 14ms/step - loss: 1.9820e-05 - val_loss: 9.0822e-05\b\b\b\b\b\b\b\b\b\b\b\b\b\b\b\b\b\b\b\b\b\b\b\b\b\b\b\b\b\b\b\b\b\b\b\b\b\n",
      "Epoch 99/225\n",
      "3/3 [==============================] - 0s 14ms/step - loss: 2.0331e-05 - val_loss: 1.6041e-04\b\b\b\b\b\b\b\b\b\b\b\b\b\b\b\b\b\b\b\b\b\b\b\b\b\b\b\b\b\b\b\b\b\b\b\b\b\n",
      "Epoch 100/225\n",
      "3/3 [==============================] - 0s 16ms/step - loss: 2.4806e-05 - val_loss: 1.9965e-04\b\b\b\b\b\b\b\b\b\b\b\b\b\b\b\b\b\b\b\b\b\b\b\b\b\b\b\b\b\b\b\b\b\b\b\b\b\n",
      "Epoch 101/225\n",
      "3/3 [==============================] - 0s 14ms/step - loss: 3.2070e-05 - val_loss: 2.3330e-04\b\b\b\b\b\b\b\b\b\b\b\b\b\b\b\b\b\b\b\b\b\b\b\b\b\b\b\b\b\b\b\b\b\b\b\b\b\n",
      "Epoch 102/225\n",
      "3/3 [==============================] - 0s 15ms/step - loss: 2.7252e-05 - val_loss: 8.4822e-05\b\b\b\b\b\b\b\b\b\b\b\b\b\b\b\b\b\b\b\b\b\b\b\b\b\b\b\b\b\b\b\b\b\b\b\b\b\n",
      "Epoch 103/225\n",
      "3/3 [==============================] - 0s 14ms/step - loss: 2.2115e-05 - val_loss: 8.9517e-05\b\b\b\b\b\b\b\b\b\b\b\b\b\b\b\b\b\b\b\b\b\b\b\b\b\b\b\b\b\b\b\b\b\b\b\b\b\n",
      "Epoch 104/225\n",
      "3/3 [==============================] - 0s 14ms/step - loss: 1.7180e-05 - val_loss: 1.5068e-04\b\b\b\b\b\b\b\b\b\b\b\b\b\b\b\b\b\b\b\b\b\b\b\b\b\b\b\b\b\b\b\b\b\b\b\b\b\n",
      "Epoch 105/225\n",
      "3/3 [==============================] - 0s 14ms/step - loss: 2.1656e-05 - val_loss: 1.7319e-04\b\b\b\b\b\b\b\b\b\b\b\b\b\b\b\b\b\b\b\b\b\b\b\b\b\b\b\b\b\b\b\b\b\b\b\b\b\n",
      "Epoch 106/225\n",
      "3/3 [==============================] - 0s 14ms/step - loss: 2.1047e-05 - val_loss: 9.5651e-05\b\b\b\b\b\b\b\b\b\b\b\b\b\b\b\b\b\b\b\b\b\b\b\b\b\b\b\b\b\b\b\b\b\b\b\b\b\n",
      "Epoch 107/225\n",
      "3/3 [==============================] - 0s 14ms/step - loss: 1.8681e-05 - val_loss: 8.6523e-05\b\b\b\b\b\b\b\b\b\b\b\b\b\b\b\b\b\b\b\b\b\b\b\b\b\b\b\b\b\b\b\b\b\b\b\b\b\n",
      "Epoch 108/225\n",
      "3/3 [==============================] - 0s 15ms/step - loss: 1.0275e-05 - val_loss: 1.4872e-04\b\b\b\b\b\b\b\b\b\b\b\b\b\b\b\b\b\b\b\b\b\b\b\b\b\b\b\b\b\b\b\b\b\b\b\b\b\n",
      "Epoch 109/225\n",
      "3/3 [==============================] - 0s 14ms/step - loss: 1.5939e-05 - val_loss: 1.2116e-04\b\b\b\b\b\b\b\b\b\b\b\b\b\b\b\b\b\b\b\b\b\b\b\b\b\b\b\b\b\b\b\b\b\b\b\b\b\n",
      "Epoch 110/225\n",
      "3/3 [==============================] - 0s 14ms/step - loss: 1.8712e-05 - val_loss: 8.5354e-05\b\b\b\b\b\b\b\b\b\b\b\b\b\b\b\b\b\b\b\b\b\b\b\b\b\b\b\b\b\b\b\b\b\b\b\b\b\n",
      "Epoch 111/225\n",
      "3/3 [==============================] - 0s 15ms/step - loss: 1.7198e-05 - val_loss: 8.4446e-05\b\b\b\b\b\b\b\b\b\b\b\b\b\b\b\b\b\b\b\b\b\b\b\b\b\b\b\b\b\b\b\b\b\b\b\b\b\n",
      "Epoch 112/225\n",
      "3/3 [==============================] - 0s 14ms/step - loss: 2.1796e-05 - val_loss: 1.2615e-04\b\b\b\b\b\b\b\b\b\b\b\b\b\b\b\b\b\b\b\b\b\b\b\b\b\b\b\b\b\b\b\b\b\b\b\b\b\n",
      "Epoch 113/225\n",
      "3/3 [==============================] - 0s 15ms/step - loss: 1.7507e-05 - val_loss: 1.5362e-04\b\b\b\b\b\b\b\b\b\b\b\b\b\b\b\b\b\b\b\b\b\b\b\b\b\b\b\b\b\b\b\b\b\b\b\b\b\n",
      "Epoch 114/225\n",
      "3/3 [==============================] - 0s 15ms/step - loss: 2.1745e-05 - val_loss: 8.5727e-05\b\b\b\b\b\b\b\b\b\b\b\b\b\b\b\b\b\b\b\b\b\b\b\b\b\b\b\b\b\b\b\b\b\b\b\b\b\n",
      "Epoch 115/225\n",
      "3/3 [==============================] - 0s 14ms/step - loss: 2.6025e-05 - val_loss: 1.6018e-04\b\b\b\b\b\b\b\b\b\b\b\b\b\b\b\b\b\b\b\b\b\b\b\b\b\b\b\b\b\b\b\b\b\b\b\b\b\n",
      "Epoch 116/225\n",
      "3/3 [==============================] - 0s 14ms/step - loss: 2.2844e-05 - val_loss: 1.4615e-04\b\b\b\b\b\b\b\b\b\b\b\b\b\b\b\b\b\b\b\b\b\b\b\b\b\b\b\b\b\b\b\b\b\b\b\b\b\n",
      "Epoch 117/225\n",
      "3/3 [==============================] - 0s 14ms/step - loss: 1.9462e-05 - val_loss: 1.4676e-04\b\b\b\b\b\b\b\b\b\b\b\b\b\b\b\b\b\b\b\b\b\b\b\b\b\b\b\b\b\b\b\b\b\b\b\b\b\n",
      "Epoch 118/225\n",
      "3/3 [==============================] - 0s 14ms/step - loss: 1.3983e-05 - val_loss: 9.6206e-05\b\b\b\b\b\b\b\b\b\b\b\b\b\b\b\b\b\b\b\b\b\b\b\b\b\b\b\b\b\b\b\b\b\b\b\b\b\n",
      "Epoch 119/225\n",
      "3/3 [==============================] - 0s 14ms/step - loss: 1.9762e-05 - val_loss: 1.0613e-04\b\b\b\b\b\b\b\b\b\b\b\b\b\b\b\b\b\b\b\b\b\b\b\b\b\b\b\b\b\b\b\b\b\b\b\b\b\n",
      "Epoch 120/225\n",
      "3/3 [==============================] - 0s 16ms/step - loss: 1.2550e-05 - val_loss: 1.6939e-04\b\b\b\b\b\b\b\b\b\b\b\b\b\b\b\b\b\b\b\b\b\b\b\b\b\b\b\b\b\b\b\b\b\b\b\b\b\n",
      "Epoch 121/225\n",
      "3/3 [==============================] - 0s 14ms/step - loss: 1.2660e-05 - val_loss: 1.2827e-04\b\b\b\b\b\b\b\b\b\b\b\b\b\b\b\b\b\b\b\b\b\b\b\b\b\b\b\b\b\b\b\b\b\b\b\b\b\n",
      "Epoch 122/225\n",
      "3/3 [==============================] - 0s 14ms/step - loss: 1.2784e-05 - val_loss: 1.1083e-04\b\b\b\b\b\b\b\b\b\b\b\b\b\b\b\b\b\b\b\b\b\b\b\b\b\b\b\b\b\b\b\b\b\b\b\b\b\n",
      "Epoch 123/225\n",
      "3/3 [==============================] - 0s 14ms/step - loss: 1.4973e-05 - val_loss: 1.0912e-04\b\b\b\b\b\b\b\b\b\b\b\b\b\b\b\b\b\b\b\b\b\b\b\b\b\b\b\b\b\b\b\b\b\b\b\b\b\n",
      "Epoch 124/225\n",
      "3/3 [==============================] - 0s 14ms/step - loss: 1.7609e-05 - val_loss: 1.8919e-04\b\b\b\b\b\b\b\b\b\b\b\b\b\b\b\b\b\b\b\b\b\b\b\b\b\b\b\b\b\b\b\b\b\b\b\b\b\n",
      "Epoch 125/225\n",
      "3/3 [==============================] - 0s 14ms/step - loss: 9.4767e-06 - val_loss: 9.0074e-05\b\b\b\b\b\b\b\b\b\b\b\b\b\b\b\b\b\b\b\b\b\b\b\b\b\b\b\b\b\b\b\b\b\b\b\b\b\n",
      "Epoch 126/225\n",
      "3/3 [==============================] - 0s 14ms/step - loss: 2.2281e-05 - val_loss: 6.4589e-05\b\b\b\b\b\b\b\b\b\b\b\b\b\b\b\b\b\b\b\b\b\b\b\b\b\b\b\b\b\b\b\b\b\b\b\b\b\n",
      "Epoch 127/225\n",
      "3/3 [==============================] - 0s 15ms/step - loss: 1.4666e-05 - val_loss: 1.1349e-04\b\b\b\b\b\b\b\b\b\b\b\b\b\b\b\b\b\b\b\b\b\b\b\b\b\b\b\b\b\b\b\b\b\b\b\b\b\n",
      "Epoch 128/225\n",
      "3/3 [==============================] - 0s 14ms/step - loss: 1.3690e-05 - val_loss: 2.3409e-04\b\b\b\b\b\b\b\b\b\b\b\b\b\b\b\b\b\b\b\b\b\b\b\b\b\b\b\b\b\b\b\b\b\b\b\b\b\n",
      "Epoch 129/225\n",
      "3/3 [==============================] - 0s 15ms/step - loss: 2.0198e-05 - val_loss: 1.4067e-04\b\b\b\b\b\b\b\b\b\b\b\b\b\b\b\b\b\b\b\b\b\b\b\b\b\b\b\b\b\b\b\b\b\b\b\b\b\n",
      "Epoch 130/225\n",
      "3/3 [==============================] - 0s 14ms/step - loss: 1.2300e-05 - val_loss: 6.9457e-05\b\b\b\b\b\b\b\b\b\b\b\b\b\b\b\b\b\b\b\b\b\b\b\b\b\b\b\b\b\b\b\b\b\b\b\b\b\n",
      "Epoch 131/225\n",
      "3/3 [==============================] - 0s 14ms/step - loss: 1.1462e-05 - val_loss: 1.0262e-04\b\b\b\b\b\b\b\b\b\b\b\b\b\b\b\b\b\b\b\b\b\b\b\b\b\b\b\b\b\b\b\b\b\b\b\b\b\n",
      "Epoch 132/225\n",
      "3/3 [==============================] - 0s 15ms/step - loss: 1.5304e-05 - val_loss: 1.3264e-04\b\b\b\b\b\b\b\b\b\b\b\b\b\b\b\b\b\b\b\b\b\b\b\b\b\b\b\b\b\b\b\b\b\b\b\b\b\n",
      "Epoch 133/225\n",
      "3/3 [==============================] - 0s 14ms/step - loss: 1.0842e-05 - val_loss: 9.9149e-05\b\b\b\b\b\b\b\b\b\b\b\b\b\b\b\b\b\b\b\b\b\b\b\b\b\b\b\b\b\b\b\b\b\b\b\b\b\n",
      "Epoch 134/225\n",
      "3/3 [==============================] - 0s 14ms/step - loss: 1.2342e-05 - val_loss: 1.3805e-04\b\b\b\b\b\b\b\b\b\b\b\b\b\b\b\b\b\b\b\b\b\b\b\b\b\b\b\b\b\b\b\b\b\b\b\b\b\n",
      "Epoch 135/225\n",
      "3/3 [==============================] - 0s 14ms/step - loss: 1.8262e-05 - val_loss: 1.4529e-04\b\b\b\b\b\b\b\b\b\b\b\b\b\b\b\b\b\b\b\b\b\b\b\b\b\b\b\b\b\b\b\b\b\b\b\b\b\n",
      "Epoch 136/225\n",
      "3/3 [==============================] - 0s 14ms/step - loss: 1.5247e-05 - val_loss: 1.2401e-04\b\b\b\b\b\b\b\b\b\b\b\b\b\b\b\b\b\b\b\b\b\b\b\b\b\b\b\b\b\b\b\b\b\b\b\b\b\n",
      "Epoch 137/225\n",
      "3/3 [==============================] - 0s 14ms/step - loss: 2.2007e-05 - val_loss: 9.2290e-05\b\b\b\b\b\b\b\b\b\b\b\b\b\b\b\b\b\b\b\b\b\b\b\b\b\b\b\b\b\b\b\b\b\b\b\b\b\n",
      "Epoch 138/225\n",
      "3/3 [==============================] - 0s 14ms/step - loss: 1.9254e-05 - val_loss: 8.1253e-05\b\b\b\b\b\b\b\b\b\b\b\b\b\b\b\b\b\b\b\b\b\b\b\b\b\b\b\b\b\b\b\b\b\b\b\b\b\n",
      "Epoch 139/225\n",
      "3/3 [==============================] - 0s 14ms/step - loss: 1.4924e-05 - val_loss: 1.7623e-04\b\b\b\b\b\b\b\b\b\b\b\b\b\b\b\b\b\b\b\b\b\b\b\b\b\b\b\b\b\b\b\b\b\b\b\b\b\n",
      "Epoch 140/225\n",
      "3/3 [==============================] - 0s 16ms/step - loss: 1.1863e-05 - val_loss: 9.3189e-05\b\b\b\b\b\b\b\b\b\b\b\b\b\b\b\b\b\b\b\b\b\b\b\b\b\b\b\b\b\b\b\b\b\b\b\b\b\n",
      "Epoch 141/225\n",
      "3/3 [==============================] - 0s 14ms/step - loss: 1.1505e-05 - val_loss: 8.6612e-05\b\b\b\b\b\b\b\b\b\b\b\b\b\b\b\b\b\b\b\b\b\b\b\b\b\b\b\b\b\b\b\b\b\b\b\b\b\n",
      "Epoch 142/225\n",
      "3/3 [==============================] - 0s 14ms/step - loss: 1.5695e-05 - val_loss: 6.7789e-05\b\b\b\b\b\b\b\b\b\b\b\b\b\b\b\b\b\b\b\b\b\b\b\b\b\b\b\b\b\b\b\b\b\b\b\b\b\n",
      "Epoch 143/225\n",
      "3/3 [==============================] - 0s 14ms/step - loss: 1.2265e-05 - val_loss: 1.2086e-04\b\b\b\b\b\b\b\b\b\b\b\b\b\b\b\b\b\b\b\b\b\b\b\b\b\b\b\b\b\b\b\b\b\b\b\b\b\n",
      "Epoch 144/225\n",
      "3/3 [==============================] - 0s 15ms/step - loss: 1.5176e-05 - val_loss: 1.0913e-04\b\b\b\b\b\b\b\b\b\b\b\b\b\b\b\b\b\b\b\b\b\b\b\b\b\b\b\b\b\b\b\b\b\b\b\b\b\n",
      "Epoch 145/225\n",
      "3/3 [==============================] - 0s 14ms/step - loss: 1.2851e-05 - val_loss: 1.4743e-04\b\b\b\b\b\b\b\b\b\b\b\b\b\b\b\b\b\b\b\b\b\b\b\b\b\b\b\b\b\b\b\b\b\b\b\b\b\n",
      "Epoch 146/225\n",
      "3/3 [==============================] - 0s 14ms/step - loss: 7.6718e-06 - val_loss: 7.0359e-05\b\b\b\b\b\b\b\b\b\b\b\b\b\b\b\b\b\b\b\b\b\b\b\b\b\b\b\b\b\b\b\b\b\b\b\b\b\n",
      "Epoch 147/225\n",
      "3/3 [==============================] - 0s 14ms/step - loss: 1.6615e-05 - val_loss: 6.2877e-05\b\b\b\b\b\b\b\b\b\b\b\b\b\b\b\b\b\b\b\b\b\b\b\b\b\b\b\b\b\b\b\b\b\b\b\b\b\n",
      "Epoch 148/225\n",
      "3/3 [==============================] - 0s 14ms/step - loss: 1.2253e-05 - val_loss: 9.0961e-05\b\b\b\b\b\b\b\b\b\b\b\b\b\b\b\b\b\b\b\b\b\b\b\b\b\b\b\b\b\b\b\b\b\b\b\b\b\n",
      "Epoch 149/225\n",
      "3/3 [==============================] - 0s 14ms/step - loss: 1.4298e-05 - val_loss: 1.5683e-04\b\b\b\b\b\b\b\b\b\b\b\b\b\b\b\b\b\b\b\b\b\b\b\b\b\b\b\b\b\b\b\b\b\b\b\b\b\n",
      "Epoch 150/225\n",
      "3/3 [==============================] - 0s 14ms/step - loss: 9.9468e-06 - val_loss: 1.1707e-04\b\b\b\b\b\b\b\b\b\b\b\b\b\b\b\b\b\b\b\b\b\b\b\b\b\b\b\b\b\b\b\b\b\b\b\b\b\n",
      "Epoch 151/225\n",
      "3/3 [==============================] - 0s 14ms/step - loss: 1.4358e-05 - val_loss: 6.6999e-05\b\b\b\b\b\b\b\b\b\b\b\b\b\b\b\b\b\b\b\b\b\b\b\b\b\b\b\b\b\b\b\b\b\b\b\b\b\n",
      "Epoch 152/225\n",
      "3/3 [==============================] - 0s 14ms/step - loss: 1.3333e-05 - val_loss: 9.1644e-05\b\b\b\b\b\b\b\b\b\b\b\b\b\b\b\b\b\b\b\b\b\b\b\b\b\b\b\b\b\b\b\b\b\b\b\b\b\n",
      "Epoch 153/225\n",
      "3/3 [==============================] - 0s 14ms/step - loss: 7.6001e-06 - val_loss: 1.2286e-04\b\b\b\b\b\b\b\b\b\b\b\b\b\b\b\b\b\b\b\b\b\b\b\b\b\b\b\b\b\b\b\b\b\b\b\b\b\n",
      "Epoch 154/225\n",
      "3/3 [==============================] - 0s 15ms/step - loss: 1.2357e-05 - val_loss: 1.6700e-04\b\b\b\b\b\b\b\b\b\b\b\b\b\b\b\b\b\b\b\b\b\b\b\b\b\b\b\b\b\b\b\b\b\b\b\b\b\n",
      "Epoch 155/225\n",
      "3/3 [==============================] - 0s 14ms/step - loss: 1.2449e-05 - val_loss: 8.3622e-05\b\b\b\b\b\b\b\b\b\b\b\b\b\b\b\b\b\b\b\b\b\b\b\b\b\b\b\b\b\b\b\b\b\b\b\b\b\n",
      "Epoch 156/225\n",
      "3/3 [==============================] - 0s 14ms/step - loss: 2.1009e-05 - val_loss: 1.1704e-04\b\b\b\b\b\b\b\b\b\b\b\b\b\b\b\b\b\b\b\b\b\b\b\b\b\b\b\b\b\b\b\b\b\b\b\b\b\n",
      "Epoch 157/225\n",
      "3/3 [==============================] - 0s 15ms/step - loss: 1.0572e-05 - val_loss: 1.2857e-04\b\b\b\b\b\b\b\b\b\b\b\b\b\b\b\b\b\b\b\b\b\b\b\b\b\b\b\b\b\b\b\b\b\b\b\b\b\n",
      "Epoch 158/225\n",
      "3/3 [==============================] - 0s 14ms/step - loss: 8.2481e-06 - val_loss: 1.0750e-04\b\b\b\b\b\b\b\b\b\b\b\b\b\b\b\b\b\b\b\b\b\b\b\b\b\b\b\b\b\b\b\b\b\b\b\b\b\n",
      "Epoch 159/225\n",
      "3/3 [==============================] - 0s 14ms/step - loss: 1.0070e-05 - val_loss: 9.4968e-05\b\b\b\b\b\b\b\b\b\b\b\b\b\b\b\b\b\b\b\b\b\b\b\b\b\b\b\b\b\b\b\b\b\b\b\b\b\n",
      "Epoch 160/225\n",
      "3/3 [==============================] - 0s 14ms/step - loss: 9.3835e-06 - val_loss: 1.3496e-04\b\b\b\b\b\b\b\b\b\b\b\b\b\b\b\b\b\b\b\b\b\b\b\b\b\b\b\b\b\b\b\b\b\b\b\b\b\n",
      "Epoch 161/225\n",
      "3/3 [==============================] - 0s 14ms/step - loss: 8.7213e-06 - val_loss: 1.1119e-04\b\b\b\b\b\b\b\b\b\b\b\b\b\b\b\b\b\b\b\b\b\b\b\b\b\b\b\b\b\b\b\b\b\b\b\b\b\n",
      "Epoch 162/225\n",
      "3/3 [==============================] - 0s 14ms/step - loss: 1.0223e-05 - val_loss: 5.4323e-05\b\b\b\b\b\b\b\b\b\b\b\b\b\b\b\b\b\b\b\b\b\b\b\b\b\b\b\b\b\b\b\b\b\b\b\b\b\n",
      "Epoch 163/225\n",
      "3/3 [==============================] - 0s 14ms/step - loss: 9.5054e-06 - val_loss: 7.8148e-05\b\b\b\b\b\b\b\b\b\b\b\b\b\b\b\b\b\b\b\b\b\b\b\b\b\b\b\b\b\b\b\b\b\b\b\b\b\n",
      "Epoch 164/225\n",
      "3/3 [==============================] - 0s 14ms/step - loss: 1.1128e-05 - val_loss: 8.8714e-05\b\b\b\b\b\b\b\b\b\b\b\b\b\b\b\b\b\b\b\b\b\b\b\b\b\b\b\b\b\b\b\b\b\b\b\b\b\n",
      "Epoch 165/225\n",
      "3/3 [==============================] - 0s 14ms/step - loss: 1.8352e-05 - val_loss: 2.0958e-04\b\b\b\b\b\b\b\b\b\b\b\b\b\b\b\b\b\b\b\b\b\b\b\b\b\b\b\b\b\b\b\b\b\b\b\b\b\n",
      "Epoch 166/225\n",
      "3/3 [==============================] - 0s 14ms/step - loss: 1.2171e-05 - val_loss: 9.1524e-05\b\b\b\b\b\b\b\b\b\b\b\b\b\b\b\b\b\b\b\b\b\b\b\b\b\b\b\b\b\b\b\b\b\b\b\b\b\n",
      "Epoch 167/225\n",
      "3/3 [==============================] - 0s 16ms/step - loss: 1.7293e-05 - val_loss: 7.8704e-05\b\b\b\b\b\b\b\b\b\b\b\b\b\b\b\b\b\b\b\b\b\b\b\b\b\b\b\b\b\b\b\b\b\b\b\b\b\n",
      "Epoch 168/225\n",
      "3/3 [==============================] - 0s 14ms/step - loss: 1.3284e-05 - val_loss: 9.3604e-05\b\b\b\b\b\b\b\b\b\b\b\b\b\b\b\b\b\b\b\b\b\b\b\b\b\b\b\b\b\b\b\b\b\b\b\b\b\n",
      "Epoch 169/225\n",
      "3/3 [==============================] - 0s 14ms/step - loss: 8.5308e-06 - val_loss: 1.0803e-04\b\b\b\b\b\b\b\b\b\b\b\b\b\b\b\b\b\b\b\b\b\b\b\b\b\b\b\b\b\b\b\b\b\b\b\b\b\n",
      "Epoch 170/225\n",
      "3/3 [==============================] - 0s 14ms/step - loss: 1.1183e-05 - val_loss: 1.0485e-04\b\b\b\b\b\b\b\b\b\b\b\b\b\b\b\b\b\b\b\b\b\b\b\b\b\b\b\b\b\b\b\b\b\b\b\b\b\n",
      "Epoch 171/225\n",
      "3/3 [==============================] - 0s 14ms/step - loss: 8.0973e-06 - val_loss: 5.5913e-05\b\b\b\b\b\b\b\b\b\b\b\b\b\b\b\b\b\b\b\b\b\b\b\b\b\b\b\b\b\b\b\b\b\b\b\b\b\n",
      "Epoch 172/225\n",
      "3/3 [==============================] - 0s 14ms/step - loss: 1.1646e-05 - val_loss: 8.4141e-05\b\b\b\b\b\b\b\b\b\b\b\b\b\b\b\b\b\b\b\b\b\b\b\b\b\b\b\b\b\b\b\b\b\b\b\b\b\n",
      "Epoch 173/225\n",
      "3/3 [==============================] - 0s 14ms/step - loss: 7.1321e-06 - val_loss: 9.2358e-05\b\b\b\b\b\b\b\b\b\b\b\b\b\b\b\b\b\b\b\b\b\b\b\b\b\b\b\b\b\b\b\b\b\b\b\b\b\n",
      "Epoch 174/225\n",
      "3/3 [==============================] - 0s 14ms/step - loss: 8.5620e-06 - val_loss: 8.3944e-05\b\b\b\b\b\b\b\b\b\b\b\b\b\b\b\b\b\b\b\b\b\b\b\b\b\b\b\b\b\b\b\b\b\b\b\b\b\n",
      "Epoch 175/225\n",
      "3/3 [==============================] - 0s 14ms/step - loss: 9.7369e-06 - val_loss: 8.8791e-05\b\b\b\b\b\b\b\b\b\b\b\b\b\b\b\b\b\b\b\b\b\b\b\b\b\b\b\b\b\b\b\b\b\b\b\b\b\n",
      "Epoch 176/225\n",
      "3/3 [==============================] - 0s 14ms/step - loss: 9.0105e-06 - val_loss: 9.8433e-05\b\b\b\b\b\b\b\b\b\b\b\b\b\b\b\b\b\b\b\b\b\b\b\b\b\b\b\b\b\b\b\b\b\b\b\b\b\n",
      "Epoch 177/225\n",
      "3/3 [==============================] - 0s 14ms/step - loss: 9.0525e-06 - val_loss: 8.5575e-05\b\b\b\b\b\b\b\b\b\b\b\b\b\b\b\b\b\b\b\b\b\b\b\b\b\b\b\b\b\b\b\b\b\b\b\b\b\n",
      "Epoch 178/225\n",
      "3/3 [==============================] - 0s 14ms/step - loss: 8.0905e-06 - val_loss: 1.2107e-04\b\b\b\b\b\b\b\b\b\b\b\b\b\b\b\b\b\b\b\b\b\b\b\b\b\b\b\b\b\b\b\b\b\b\b\b\b\n",
      "Epoch 179/225\n",
      "3/3 [==============================] - 0s 15ms/step - loss: 1.3260e-05 - val_loss: 6.2876e-05\b\b\b\b\b\b\b\b\b\b\b\b\b\b\b\b\b\b\b\b\b\b\b\b\b\b\b\b\b\b\b\b\b\b\b\b\b\n",
      "Epoch 180/225\n",
      "3/3 [==============================] - 0s 15ms/step - loss: 1.4279e-05 - val_loss: 8.3658e-05\b\b\b\b\b\b\b\b\b\b\b\b\b\b\b\b\b\b\b\b\b\b\b\b\b\b\b\b\b\b\b\b\b\b\b\b\b\n",
      "Epoch 181/225\n",
      "3/3 [==============================] - 0s 16ms/step - loss: 1.1714e-05 - val_loss: 1.0705e-04\b\b\b\b\b\b\b\b\b\b\b\b\b\b\b\b\b\b\b\b\b\b\b\b\b\b\b\b\b\b\b\b\b\b\b\b\b\n",
      "Epoch 182/225\n",
      "3/3 [==============================] - 0s 14ms/step - loss: 8.1022e-06 - val_loss: 7.6441e-05\b\b\b\b\b\b\b\b\b\b\b\b\b\b\b\b\b\b\b\b\b\b\b\b\b\b\b\b\b\b\b\b\b\b\b\b\b\n",
      "Epoch 183/225\n",
      "3/3 [==============================] - 0s 14ms/step - loss: 1.1779e-05 - val_loss: 9.8573e-05\b\b\b\b\b\b\b\b\b\b\b\b\b\b\b\b\b\b\b\b\b\b\b\b\b\b\b\b\b\b\b\b\b\b\b\b\b\n",
      "Epoch 184/225\n",
      "3/3 [==============================] - 0s 14ms/step - loss: 2.0380e-05 - val_loss: 6.6535e-05\b\b\b\b\b\b\b\b\b\b\b\b\b\b\b\b\b\b\b\b\b\b\b\b\b\b\b\b\b\b\b\b\b\b\b\b\b\n",
      "Epoch 185/225\n",
      "3/3 [==============================] - 0s 14ms/step - loss: 2.6077e-05 - val_loss: 2.4576e-04\b\b\b\b\b\b\b\b\b\b\b\b\b\b\b\b\b\b\b\b\b\b\b\b\b\b\b\b\b\b\b\b\b\b\b\b\b\n",
      "Epoch 186/225\n",
      "3/3 [==============================] - 0s 14ms/step - loss: 1.8445e-05 - val_loss: 1.0821e-04\b\b\b\b\b\b\b\b\b\b\b\b\b\b\b\b\b\b\b\b\b\b\b\b\b\b\b\b\b\b\b\b\b\b\b\b\b\n",
      "Epoch 187/225\n",
      "3/3 [==============================] - 0s 14ms/step - loss: 1.4448e-05 - val_loss: 7.2942e-05\b\b\b\b\b\b\b\b\b\b\b\b\b\b\b\b\b\b\b\b\b\b\b\b\b\b\b\b\b\b\b\b\b\b\b\b\b\n",
      "Epoch 188/225\n",
      "3/3 [==============================] - 0s 14ms/step - loss: 1.7859e-05 - val_loss: 9.3829e-05\b\b\b\b\b\b\b\b\b\b\b\b\b\b\b\b\b\b\b\b\b\b\b\b\b\b\b\b\b\b\b\b\b\b\b\b\b\n",
      "Epoch 189/225\n",
      "3/3 [==============================] - 0s 14ms/step - loss: 1.3664e-05 - val_loss: 1.0192e-04\b\b\b\b\b\b\b\b\b\b\b\b\b\b\b\b\b\b\b\b\b\b\b\b\b\b\b\b\b\b\b\b\b\b\b\b\b\n",
      "Epoch 190/225\n",
      "3/3 [==============================] - 0s 15ms/step - loss: 1.1384e-05 - val_loss: 1.4608e-04\b\b\b\b\b\b\b\b\b\b\b\b\b\b\b\b\b\b\b\b\b\b\b\b\b\b\b\b\b\b\b\b\b\b\b\b\b\n",
      "Epoch 191/225\n",
      "3/3 [==============================] - 0s 14ms/step - loss: 1.4450e-05 - val_loss: 8.1529e-05\b\b\b\b\b\b\b\b\b\b\b\b\b\b\b\b\b\b\b\b\b\b\b\b\b\b\b\b\b\b\b\b\b\b\b\b\b\n",
      "Epoch 192/225\n",
      "3/3 [==============================] - 0s 15ms/step - loss: 1.3901e-05 - val_loss: 1.0025e-04\b\b\b\b\b\b\b\b\b\b\b\b\b\b\b\b\b\b\b\b\b\b\b\b\b\b\b\b\b\b\b\b\b\b\b\b\b\n",
      "Epoch 193/225\n",
      "3/3 [==============================] - 0s 14ms/step - loss: 1.0821e-05 - val_loss: 7.2893e-05\b\b\b\b\b\b\b\b\b\b\b\b\b\b\b\b\b\b\b\b\b\b\b\b\b\b\b\b\b\b\b\b\b\b\b\b\b\n",
      "Epoch 194/225\n",
      "3/3 [==============================] - 0s 16ms/step - loss: 8.3431e-06 - val_loss: 6.5758e-05\b\b\b\b\b\b\b\b\b\b\b\b\b\b\b\b\b\b\b\b\b\b\b\b\b\b\b\b\b\b\b\b\b\b\b\b\b\n",
      "Epoch 195/225\n",
      "3/3 [==============================] - 0s 15ms/step - loss: 1.0198e-05 - val_loss: 8.4829e-05\b\b\b\b\b\b\b\b\b\b\b\b\b\b\b\b\b\b\b\b\b\b\b\b\b\b\b\b\b\b\b\b\b\b\b\b\b\n",
      "Epoch 196/225\n",
      "3/3 [==============================] - 0s 14ms/step - loss: 9.9049e-06 - val_loss: 1.1179e-04\b\b\b\b\b\b\b\b\b\b\b\b\b\b\b\b\b\b\b\b\b\b\b\b\b\b\b\b\b\b\b\b\b\b\b\b\b\n",
      "Epoch 197/225\n",
      "3/3 [==============================] - 0s 14ms/step - loss: 1.0956e-05 - val_loss: 1.0506e-04\b\b\b\b\b\b\b\b\b\b\b\b\b\b\b\b\b\b\b\b\b\b\b\b\b\b\b\b\b\b\b\b\b\b\b\b\b\n",
      "Epoch 198/225\n",
      "3/3 [==============================] - 0s 15ms/step - loss: 1.1546e-05 - val_loss: 8.9483e-05\b\b\b\b\b\b\b\b\b\b\b\b\b\b\b\b\b\b\b\b\b\b\b\b\b\b\b\b\b\b\b\b\b\b\b\b\b\n",
      "Epoch 199/225\n",
      "3/3 [==============================] - 0s 14ms/step - loss: 1.3033e-05 - val_loss: 2.3691e-04\b\b\b\b\b\b\b\b\b\b\b\b\b\b\b\b\b\b\b\b\b\b\b\b\b\b\b\b\b\b\b\b\b\b\b\b\b\n",
      "Epoch 200/225\n",
      "3/3 [==============================] - 0s 14ms/step - loss: 1.9557e-05 - val_loss: 1.0834e-04\b\b\b\b\b\b\b\b\b\b\b\b\b\b\b\b\b\b\b\b\b\b\b\b\b\b\b\b\b\b\b\b\b\b\b\b\b\n",
      "Epoch 201/225\n",
      "3/3 [==============================] - 0s 14ms/step - loss: 1.3472e-05 - val_loss: 1.0977e-04\b\b\b\b\b\b\b\b\b\b\b\b\b\b\b\b\b\b\b\b\b\b\b\b\b\b\b\b\b\b\b\b\b\b\b\b\b\n",
      "Epoch 202/225\n",
      "3/3 [==============================] - 0s 14ms/step - loss: 1.6034e-05 - val_loss: 6.0889e-05\b\b\b\b\b\b\b\b\b\b\b\b\b\b\b\b\b\b\b\b\b\b\b\b\b\b\b\b\b\b\b\b\b\b\b\b\b\n",
      "Epoch 203/225\n",
      "3/3 [==============================] - 0s 14ms/step - loss: 8.2131e-06 - val_loss: 1.7130e-04\b\b\b\b\b\b\b\b\b\b\b\b\b\b\b\b\b\b\b\b\b\b\b\b\b\b\b\b\b\b\b\b\b\b\b\b\b\n",
      "Epoch 204/225\n",
      "3/3 [==============================] - 0s 14ms/step - loss: 1.0834e-05 - val_loss: 1.2878e-04\b\b\b\b\b\b\b\b\b\b\b\b\b\b\b\b\b\b\b\b\b\b\b\b\b\b\b\b\b\b\b\b\b\b\b\b\b\n",
      "Epoch 205/225\n",
      "3/3 [==============================] - 0s 14ms/step - loss: 1.3963e-05 - val_loss: 8.0773e-05\b\b\b\b\b\b\b\b\b\b\b\b\b\b\b\b\b\b\b\b\b\b\b\b\b\b\b\b\b\b\b\b\b\b\b\b\b\n",
      "Epoch 206/225\n",
      "3/3 [==============================] - 0s 14ms/step - loss: 1.0988e-05 - val_loss: 5.0027e-05\b\b\b\b\b\b\b\b\b\b\b\b\b\b\b\b\b\b\b\b\b\b\b\b\b\b\b\b\b\b\b\b\b\b\b\b\b\n",
      "Epoch 207/225\n",
      "3/3 [==============================] - 0s 15ms/step - loss: 9.9836e-06 - val_loss: 1.1333e-04\b\b\b\b\b\b\b\b\b\b\b\b\b\b\b\b\b\b\b\b\b\b\b\b\b\b\b\b\b\b\b\b\b\b\b\b\b\n",
      "Epoch 208/225\n",
      "3/3 [==============================] - 0s 14ms/step - loss: 9.6425e-06 - val_loss: 1.7555e-04\b\b\b\b\b\b\b\b\b\b\b\b\b\b\b\b\b\b\b\b\b\b\b\b\b\b\b\b\b\b\b\b\b\b\b\b\b\n",
      "Epoch 209/225\n",
      "3/3 [==============================] - 0s 14ms/step - loss: 1.2712e-05 - val_loss: 1.3790e-04\b\b\b\b\b\b\b\b\b\b\b\b\b\b\b\b\b\b\b\b\b\b\b\b\b\b\b\b\b\b\b\b\b\b\b\b\b\n",
      "Epoch 210/225\n",
      "3/3 [==============================] - 0s 14ms/step - loss: 1.5134e-05 - val_loss: 6.8631e-05\b\b\b\b\b\b\b\b\b\b\b\b\b\b\b\b\b\b\b\b\b\b\b\b\b\b\b\b\b\b\b\b\b\b\b\b\b\n",
      "Epoch 211/225\n",
      "3/3 [==============================] - 0s 15ms/step - loss: 8.3180e-06 - val_loss: 1.0219e-04\b\b\b\b\b\b\b\b\b\b\b\b\b\b\b\b\b\b\b\b\b\b\b\b\b\b\b\b\b\b\b\b\b\b\b\b\b\n",
      "Epoch 212/225\n",
      "3/3 [==============================] - 0s 14ms/step - loss: 7.0629e-06 - val_loss: 8.5916e-05\b\b\b\b\b\b\b\b\b\b\b\b\b\b\b\b\b\b\b\b\b\b\b\b\b\b\b\b\b\b\b\b\b\b\b\b\b\n",
      "Epoch 213/225\n",
      "3/3 [==============================] - 0s 14ms/step - loss: 9.5824e-06 - val_loss: 5.8187e-05\b\b\b\b\b\b\b\b\b\b\b\b\b\b\b\b\b\b\b\b\b\b\b\b\b\b\b\b\b\b\b\b\b\b\b\b\b\n",
      "Epoch 214/225\n",
      "3/3 [==============================] - 0s 14ms/step - loss: 8.8059e-06 - val_loss: 5.0499e-05\b\b\b\b\b\b\b\b\b\b\b\b\b\b\b\b\b\b\b\b\b\b\b\b\b\b\b\b\b\b\b\b\b\b\b\b\b\n",
      "Epoch 215/225\n",
      "3/3 [==============================] - 0s 14ms/step - loss: 1.3128e-05 - val_loss: 9.8286e-05\b\b\b\b\b\b\b\b\b\b\b\b\b\b\b\b\b\b\b\b\b\b\b\b\b\b\b\b\b\b\b\b\b\b\b\b\b\n",
      "Epoch 216/225\n",
      "3/3 [==============================] - 0s 15ms/step - loss: 1.0101e-05 - val_loss: 1.6711e-04\b\b\b\b\b\b\b\b\b\b\b\b\b\b\b\b\b\b\b\b\b\b\b\b\b\b\b\b\b\b\b\b\b\b\b\b\b\n",
      "Epoch 217/225\n",
      "3/3 [==============================] - 0s 14ms/step - loss: 1.2297e-05 - val_loss: 1.1497e-04\b\b\b\b\b\b\b\b\b\b\b\b\b\b\b\b\b\b\b\b\b\b\b\b\b\b\b\b\b\b\b\b\b\b\b\b\b\n",
      "Epoch 218/225\n",
      "3/3 [==============================] - 0s 14ms/step - loss: 8.7927e-06 - val_loss: 8.2349e-05\b\b\b\b\b\b\b\b\b\b\b\b\b\b\b\b\b\b\b\b\b\b\b\b\b\b\b\b\b\b\b\b\b\b\b\b\b\n",
      "Epoch 219/225\n",
      "3/3 [==============================] - 0s 14ms/step - loss: 1.0065e-05 - val_loss: 5.5787e-05\b\b\b\b\b\b\b\b\b\b\b\b\b\b\b\b\b\b\b\b\b\b\b\b\b\b\b\b\b\b\b\b\b\b\b\b\b\n",
      "Epoch 220/225\n",
      "3/3 [==============================] - 0s 14ms/step - loss: 1.2759e-05 - val_loss: 7.1638e-05\b\b\b\b\b\b\b\b\b\b\b\b\b\b\b\b\b\b\b\b\b\b\b\b\b\b\b\b\b\b\b\b\b\b\b\b\b\n",
      "Epoch 221/225\n",
      "3/3 [==============================] - 0s 16ms/step - loss: 1.0316e-05 - val_loss: 1.1279e-04\b\b\b\b\b\b\b\b\b\b\b\b\b\b\b\b\b\b\b\b\b\b\b\b\b\b\b\b\b\b\b\b\b\b\b\b\b\n",
      "Epoch 222/225\n",
      "3/3 [==============================] - 0s 14ms/step - loss: 1.0273e-05 - val_loss: 1.7138e-04\b\b\b\b\b\b\b\b\b\b\b\b\b\b\b\b\b\b\b\b\b\b\b\b\b\b\b\b\b\b\b\b\b\b\b\b\b\n",
      "Epoch 223/225\n",
      "3/3 [==============================] - 0s 15ms/step - loss: 5.8153e-06 - val_loss: 7.7742e-05\b\b\b\b\b\b\b\b\b\b\b\b\b\b\b\b\b\b\b\b\b\b\b\b\b\b\b\b\b\b\b\b\b\b\b\b\b\n",
      "Epoch 224/225\n",
      "3/3 [==============================] - 0s 14ms/step - loss: 9.7526e-06 - val_loss: 7.3552e-05\b\b\b\b\b\b\b\b\b\b\b\b\b\b\b\b\b\b\b\b\b\b\b\b\b\b\b\b\b\b\b\b\b\b\b\b\b\n",
      "Epoch 225/225\n",
      "3/3 [==============================] - 0s 14ms/step - loss: 9.9911e-06 - val_loss: 7.6826e-05\b\b\b\b\b\b\b\b\b\b\b\b\b\b\b\b\b\b\b\b\b\b\b\b\b\b\b\b\b\b\b\b\b\b\b\b\b\n"
     ]
    },
    {
     "data": {
      "text/plain": "<keras.callbacks.History at 0x7feaeb447670>"
     },
     "execution_count": 142,
     "metadata": {},
     "output_type": "execute_result"
    }
   ],
   "source": [
    "# Create LSTM trained on sentiment analysis data\n",
    "from keras.models import Sequential\n",
    "from keras.layers import Dense\n",
    "from keras.layers import LSTM\n",
    "from keras.layers import Dropout\n",
    "\n",
    "model = Sequential()\n",
    "\n",
    "\n",
    "\n",
    "model.add(LSTM(units = 50, return_sequences = True, input_shape = (X_train.shape[1], 1)))\n",
    "model.add(Dropout(0.2))\n",
    "\n",
    "model.add(LSTM(units = 50, return_sequences = True))\n",
    "model.add(Dropout(0.2))\n",
    "\n",
    "model.add(LSTM(units = 50, return_sequences = True))\n",
    "model.add(Dropout(0.2))\n",
    "\n",
    "model.add(LSTM(units = 50))\n",
    "model.add(Dropout(0.2))\n",
    "\n",
    "model.add(Dense(units = 1))\n",
    "\n",
    "model.compile(optimizer = 'adam', loss = 'mean_squared_error')\n",
    "\n",
    "\n",
    "model.fit(X_train_scale, y_train, epochs = 225, batch_size = 32,\n",
    "                         validation_split=0.1)"
   ]
  },
  {
   "cell_type": "code",
   "execution_count": 143,
   "metadata": {
    "execution": {
     "iopub.execute_input": "2021-06-14T20:10:16.619786Z",
     "iopub.status.busy": "2021-06-14T20:10:16.619420Z",
     "iopub.status.idle": "2021-06-14T20:10:16.920842Z",
     "shell.execute_reply": "2021-06-14T20:10:16.919561Z",
     "shell.execute_reply.started": "2021-06-14T20:10:16.619756Z"
    }
   },
   "outputs": [
    {
     "name": "stdout",
     "output_type": "stream",
     "text": [
      "Root mean square error is 0.3490079418892754\n"
     ]
    },
    {
     "data": {
      "text/plain": "<Figure size 432x288 with 1 Axes>",
      "image/png": "[encoded data removed]"
     },
     "metadata": {
      "needs_background": "light"
     },
     "output_type": "display_data"
    }
   ],
   "source": [
    "from sklearn.metrics import mean_squared_error\n",
    "\n",
    "predicted_stock_GME = model.predict(X_test_scale)\n",
    "\n",
    "testScore = np.sqrt(mean_squared_error(y_test[:], predicted_stock_GME[:,0]))\n",
    "\n",
    "print('Root mean square error is {}'.format(testScore))\n",
    "\n",
    "plt.plot(y_MinMax.inverse_transform(predicted_stock_GME),label='testing predicted')\n",
    "plt.plot(y_MinMax.inverse_transform(y_test),label='testing actual')\n",
    "plt.title('GME Open Value Prediction with TextBlob Sentiment')\n",
    "plt.legend()\n",
    "plt.show()\n",
    "plt.clf()\n",
    "plt.cla()\n",
    "plt.close()\n"
   ]
  },
  {
   "cell_type": "code",
   "execution_count": 144,
   "metadata": {
    "execution": {
     "iopub.execute_input": "2021-06-14T20:10:49.701589Z",
     "iopub.status.busy": "2021-06-14T20:10:49.701052Z",
     "iopub.status.idle": "2021-06-14T20:10:49.995226Z",
     "shell.execute_reply": "2021-06-14T20:10:49.994284Z",
     "shell.execute_reply.started": "2021-06-14T20:10:49.701556Z"
    }
   },
   "outputs": [
    {
     "name": "stdout",
     "output_type": "stream",
     "text": [
      "Root mean square error is 0.003944123661782028\n"
     ]
    },
    {
     "data": {
      "text/plain": "<Figure size 432x288 with 1 Axes>",
      "image/png": "[encoded data removed]"
     },
     "metadata": {
      "needs_background": "light"
     },
     "output_type": "display_data"
    }
   ],
   "source": [
    "predicted_stock_GME_train = model.predict(X_train_scale)\n",
    "\n",
    "trainScore = np.sqrt(mean_squared_error(y_train[:], predicted_stock_GME_train[:,0]))\n",
    "\n",
    "print('Root mean square error is {}'.format(trainScore))\n",
    "\n",
    "plt.plot(y_MinMax.inverse_transform(predicted_stock_GME_train),label='training predicted')\n",
    "plt.plot(y_MinMax.inverse_transform(y_train),label='training actual')\n",
    "plt.title('GME Open Value Prediction with TextBlob Sentiment')\n",
    "plt.legend()\n",
    "plt.show()\n",
    "plt.clf()\n",
    "plt.cla()\n",
    "plt.close()"
   ]
  },
  {
   "cell_type": "markdown",
   "metadata": {},
   "source": [
    "## LSTM Without Sentiment Input"
   ]
  },
  {
   "cell_type": "code",
   "execution_count": 149,
   "metadata": {
    "execution": {
     "iopub.execute_input": "2021-06-14T20:11:06.470142Z",
     "iopub.status.busy": "2021-06-14T20:11:06.469632Z",
     "iopub.status.idle": "2021-06-14T20:11:25.031443Z",
     "shell.execute_reply": "2021-06-14T20:11:25.030313Z",
     "shell.execute_reply.started": "2021-06-14T20:11:06.470110Z"
    }
   },
   "outputs": [
    {
     "name": "stdout",
     "output_type": "stream",
     "text": [
      "Epoch 1/225\n",
      "3/3 [==============================] - 12s 627ms/step - loss: 4.0993e-04 - val_loss: 8.4144e-04\b\b\b\b\b\b\b\b\b\b\b\b\b\b\b\b\b\b\b\b\b\b\b\b\b\b\b\b\b\b\b\b\b\b\b\b\b\n",
      "Epoch 2/225\n",
      "3/3 [==============================] - 0s 21ms/step - loss: 3.0066e-04 - val_loss: 0.0010\b\b\b\b\b\b\b\b\b\b\b\b\b\b\b\b\b\b\b\b\b\b\b\b\b\b\b\b\b\b\b\b\b\b\b\b\b\b\b\b\b\n",
      "Epoch 3/225\n",
      "3/3 [==============================] - 0s 17ms/step - loss: 1.7952e-04 - val_loss: 0.0017\b\b\b\b\b\b\b\b\b\b\b\b\b\b\b\b\b\b\b\b\b\b\b\b\b\b\b\b\b\b\b\b\b\b\b\b\b\b\b\b\b\n",
      "Epoch 4/225\n",
      "3/3 [==============================] - 0s 17ms/step - loss: 1.7602e-04 - val_loss: 0.0018\b\b\b\b\b\b\b\b\b\b\b\b\b\b\b\b\b\b\b\b\b\b\b\b\b\b\b\b\b\b\b\b\b\b\b\b\b\b\b\b\b\n",
      "Epoch 5/225\n",
      "3/3 [==============================] - 0s 15ms/step - loss: 2.3507e-04 - val_loss: 0.0015\b\b\b\b\b\b\b\b\b\b\b\b\b\b\b\b\b\b\b\b\b\b\b\b\b\b\b\b\b\b\b\b\b\b\b\b\b\b\b\b\b\n",
      "Epoch 6/225\n",
      "3/3 [==============================] - 0s 27ms/step - loss: 1.7614e-04 - val_loss: 0.0012\b\b\b\b\b\b\b\b\b\b\b\b\b\b\b\b\b\b\b\b\b\b\b\b\b\b\b\b\b\b\b\b\b\b\b\b\b\b\b\b\b\n",
      "Epoch 7/225\n",
      "3/3 [==============================] - 0s 15ms/step - loss: 1.7097e-04 - val_loss: 0.0012\b\b\b\b\b\b\b\b\b\b\b\b\b\b\b\b\b\b\b\b\b\b\b\b\b\b\b\b\b\b\b\b\b\b\b\b\b\b\b\b\b\n",
      "Epoch 8/225\n",
      "3/3 [==============================] - 0s 15ms/step - loss: 1.7575e-04 - val_loss: 0.0013\b\b\b\b\b\b\b\b\b\b\b\b\b\b\b\b\b\b\b\b\b\b\b\b\b\b\b\b\b\b\b\b\b\b\b\b\b\b\b\b\b\n",
      "Epoch 9/225\n",
      "3/3 [==============================] - 0s 15ms/step - loss: 1.6849e-04 - val_loss: 0.0015\b\b\b\b\b\b\b\b\b\b\b\b\b\b\b\b\b\b\b\b\b\b\b\b\b\b\b\b\b\b\b\b\b\b\b\b\b\b\b\b\b\n",
      "Epoch 10/225\n",
      "3/3 [==============================] - 0s 15ms/step - loss: 1.7418e-04 - val_loss: 0.0014\b\b\b\b\b\b\b\b\b\b\b\b\b\b\b\b\b\b\b\b\b\b\b\b\b\b\b\b\b\b\b\b\b\b\b\b\b\b\b\b\b\n",
      "Epoch 11/225\n",
      "3/3 [==============================] - 0s 15ms/step - loss: 1.7368e-04 - val_loss: 0.0012\b\b\b\b\b\b\b\b\b\b\b\b\b\b\b\b\b\b\b\b\b\b\b\b\b\b\b\b\b\b\b\b\b\b\b\b\b\b\b\b\b\n",
      "Epoch 12/225\n",
      "3/3 [==============================] - 0s 14ms/step - loss: 1.5576e-04 - val_loss: 0.0013\b\b\b\b\b\b\b\b\b\b\b\b\b\b\b\b\b\b\b\b\b\b\b\b\b\b\b\b\b\b\b\b\b\b\b\b\b\b\b\b\b\n",
      "Epoch 13/225\n",
      "3/3 [==============================] - 0s 16ms/step - loss: 1.6566e-04 - val_loss: 0.0013\b\b\b\b\b\b\b\b\b\b\b\b\b\b\b\b\b\b\b\b\b\b\b\b\b\b\b\b\b\b\b\b\b\b\b\b\b\b\b\b\b\n",
      "Epoch 14/225\n",
      "3/3 [==============================] - 0s 14ms/step - loss: 1.8237e-04 - val_loss: 0.0013\b\b\b\b\b\b\b\b\b\b\b\b\b\b\b\b\b\b\b\b\b\b\b\b\b\b\b\b\b\b\b\b\b\b\b\b\b\b\b\b\b\n",
      "Epoch 15/225\n",
      "3/3 [==============================] - 0s 14ms/step - loss: 1.6224e-04 - val_loss: 0.0013\b\b\b\b\b\b\b\b\b\b\b\b\b\b\b\b\b\b\b\b\b\b\b\b\b\b\b\b\b\b\b\b\b\b\b\b\b\b\b\b\b\n",
      "Epoch 16/225\n",
      "3/3 [==============================] - 0s 14ms/step - loss: 1.6896e-04 - val_loss: 0.0012\b\b\b\b\b\b\b\b\b\b\b\b\b\b\b\b\b\b\b\b\b\b\b\b\b\b\b\b\b\b\b\b\b\b\b\b\b\b\b\b\b\n",
      "Epoch 17/225\n",
      "3/3 [==============================] - 0s 13ms/step - loss: 1.5433e-04 - val_loss: 0.0012\b\b\b\b\b\b\b\b\b\b\b\b\b\b\b\b\b\b\b\b\b\b\b\b\b\b\b\b\b\b\b\b\b\b\b\b\b\b\b\b\b\n",
      "Epoch 18/225\n",
      "3/3 [==============================] - 0s 13ms/step - loss: 1.6844e-04 - val_loss: 0.0011\b\b\b\b\b\b\b\b\b\b\b\b\b\b\b\b\b\b\b\b\b\b\b\b\b\b\b\b\b\b\b\b\b\b\b\b\b\b\b\b\b\n",
      "Epoch 19/225\n",
      "3/3 [==============================] - 0s 13ms/step - loss: 1.5098e-04 - val_loss: 9.9940e-04\b\b\b\b\b\b\b\b\b\b\b\b\b\b\b\b\b\b\b\b\b\b\b\b\b\b\b\b\b\b\b\b\b\b\b\b\b\n",
      "Epoch 20/225\n",
      "3/3 [==============================] - 0s 13ms/step - loss: 1.3352e-04 - val_loss: 0.0011\b\b\b\b\b\b\b\b\b\b\b\b\b\b\b\b\b\b\b\b\b\b\b\b\b\b\b\b\b\b\b\b\b\b\b\b\b\b\b\b\b\n",
      "Epoch 21/225\n",
      "3/3 [==============================] - 0s 13ms/step - loss: 1.5021e-04 - val_loss: 9.0570e-04\b\b\b\b\b\b\b\b\b\b\b\b\b\b\b\b\b\b\b\b\b\b\b\b\b\b\b\b\b\b\b\b\b\b\b\b\b\n",
      "Epoch 22/225\n",
      "3/3 [==============================] - 0s 13ms/step - loss: 1.1926e-04 - val_loss: 6.9712e-04\b\b\b\b\b\b\b\b\b\b\b\b\b\b\b\b\b\b\b\b\b\b\b\b\b\b\b\b\b\b\b\b\b\b\b\b\b\n",
      "Epoch 23/225\n",
      "3/3 [==============================] - 0s 13ms/step - loss: 1.1531e-04 - val_loss: 6.6375e-04\b\b\b\b\b\b\b\b\b\b\b\b\b\b\b\b\b\b\b\b\b\b\b\b\b\b\b\b\b\b\b\b\b\b\b\b\b\n",
      "Epoch 24/225\n",
      "3/3 [==============================] - 0s 13ms/step - loss: 1.1823e-04 - val_loss: 7.3978e-04\b\b\b\b\b\b\b\b\b\b\b\b\b\b\b\b\b\b\b\b\b\b\b\b\b\b\b\b\b\b\b\b\b\b\b\b\b\n",
      "Epoch 25/225\n",
      "3/3 [==============================] - 0s 13ms/step - loss: 9.5962e-05 - val_loss: 3.1783e-04\b\b\b\b\b\b\b\b\b\b\b\b\b\b\b\b\b\b\b\b\b\b\b\b\b\b\b\b\b\b\b\b\b\b\b\b\b\n",
      "Epoch 26/225\n",
      "3/3 [==============================] - 0s 13ms/step - loss: 1.1575e-04 - val_loss: 4.9935e-04\b\b\b\b\b\b\b\b\b\b\b\b\b\b\b\b\b\b\b\b\b\b\b\b\b\b\b\b\b\b\b\b\b\b\b\b\b\n",
      "Epoch 27/225\n",
      "3/3 [==============================] - 0s 16ms/step - loss: 8.7024e-05 - val_loss: 3.0586e-04\b\b\b\b\b\b\b\b\b\b\b\b\b\b\b\b\b\b\b\b\b\b\b\b\b\b\b\b\b\b\b\b\b\b\b\b\b\n",
      "Epoch 28/225\n",
      "3/3 [==============================] - 0s 13ms/step - loss: 7.2152e-05 - val_loss: 3.8716e-04\b\b\b\b\b\b\b\b\b\b\b\b\b\b\b\b\b\b\b\b\b\b\b\b\b\b\b\b\b\b\b\b\b\b\b\b\b\n",
      "Epoch 29/225\n",
      "3/3 [==============================] - 0s 13ms/step - loss: 5.6140e-05 - val_loss: 4.8417e-04\b\b\b\b\b\b\b\b\b\b\b\b\b\b\b\b\b\b\b\b\b\b\b\b\b\b\b\b\b\b\b\b\b\b\b\b\b\n",
      "Epoch 30/225\n",
      "3/3 [==============================] - 0s 13ms/step - loss: 7.3133e-05 - val_loss: 5.1130e-04\b\b\b\b\b\b\b\b\b\b\b\b\b\b\b\b\b\b\b\b\b\b\b\b\b\b\b\b\b\b\b\b\b\b\b\b\b\n",
      "Epoch 31/225\n",
      "3/3 [==============================] - 0s 13ms/step - loss: 5.8676e-05 - val_loss: 5.7446e-04\b\b\b\b\b\b\b\b\b\b\b\b\b\b\b\b\b\b\b\b\b\b\b\b\b\b\b\b\b\b\b\b\b\b\b\b\b\n",
      "Epoch 32/225\n",
      "3/3 [==============================] - 0s 13ms/step - loss: 5.2001e-05 - val_loss: 4.8097e-04\b\b\b\b\b\b\b\b\b\b\b\b\b\b\b\b\b\b\b\b\b\b\b\b\b\b\b\b\b\b\b\b\b\b\b\b\b\n",
      "Epoch 33/225\n",
      "3/3 [==============================] - 0s 13ms/step - loss: 3.7882e-05 - val_loss: 4.2595e-04\b\b\b\b\b\b\b\b\b\b\b\b\b\b\b\b\b\b\b\b\b\b\b\b\b\b\b\b\b\b\b\b\b\b\b\b\b\n",
      "Epoch 34/225\n",
      "3/3 [==============================] - 0s 14ms/step - loss: 7.6208e-05 - val_loss: 3.6775e-04\b\b\b\b\b\b\b\b\b\b\b\b\b\b\b\b\b\b\b\b\b\b\b\b\b\b\b\b\b\b\b\b\b\b\b\b\b\n",
      "Epoch 35/225\n",
      "3/3 [==============================] - 0s 13ms/step - loss: 7.0543e-05 - val_loss: 3.3498e-04\b\b\b\b\b\b\b\b\b\b\b\b\b\b\b\b\b\b\b\b\b\b\b\b\b\b\b\b\b\b\b\b\b\b\b\b\b\n",
      "Epoch 36/225\n",
      "3/3 [==============================] - 0s 14ms/step - loss: 5.9263e-05 - val_loss: 3.5909e-04\b\b\b\b\b\b\b\b\b\b\b\b\b\b\b\b\b\b\b\b\b\b\b\b\b\b\b\b\b\b\b\b\b\b\b\b\b\n",
      "Epoch 37/225\n",
      "3/3 [==============================] - 0s 13ms/step - loss: 5.8240e-05 - val_loss: 3.4269e-04\b\b\b\b\b\b\b\b\b\b\b\b\b\b\b\b\b\b\b\b\b\b\b\b\b\b\b\b\b\b\b\b\b\b\b\b\b\n",
      "Epoch 38/225\n",
      "3/3 [==============================] - 0s 13ms/step - loss: 5.4683e-05 - val_loss: 3.6383e-04\b\b\b\b\b\b\b\b\b\b\b\b\b\b\b\b\b\b\b\b\b\b\b\b\b\b\b\b\b\b\b\b\b\b\b\b\b\n",
      "Epoch 39/225\n",
      "3/3 [==============================] - 0s 14ms/step - loss: 4.3429e-05 - val_loss: 3.6410e-04\b\b\b\b\b\b\b\b\b\b\b\b\b\b\b\b\b\b\b\b\b\b\b\b\b\b\b\b\b\b\b\b\b\b\b\b\b\n",
      "Epoch 40/225\n",
      "3/3 [==============================] - 0s 13ms/step - loss: 3.7954e-05 - val_loss: 3.6386e-04\b\b\b\b\b\b\b\b\b\b\b\b\b\b\b\b\b\b\b\b\b\b\b\b\b\b\b\b\b\b\b\b\b\b\b\b\b\n",
      "Epoch 41/225\n",
      "3/3 [==============================] - 0s 14ms/step - loss: 4.6440e-05 - val_loss: 3.4670e-04\b\b\b\b\b\b\b\b\b\b\b\b\b\b\b\b\b\b\b\b\b\b\b\b\b\b\b\b\b\b\b\b\b\b\b\b\b\n",
      "Epoch 42/225\n",
      "3/3 [==============================] - 0s 13ms/step - loss: 5.8806e-05 - val_loss: 3.4091e-04\b\b\b\b\b\b\b\b\b\b\b\b\b\b\b\b\b\b\b\b\b\b\b\b\b\b\b\b\b\b\b\b\b\b\b\b\b\n",
      "Epoch 43/225\n",
      "3/3 [==============================] - 0s 13ms/step - loss: 5.1275e-05 - val_loss: 3.2945e-04\b\b\b\b\b\b\b\b\b\b\b\b\b\b\b\b\b\b\b\b\b\b\b\b\b\b\b\b\b\b\b\b\b\b\b\b\b\n",
      "Epoch 44/225\n",
      "3/3 [==============================] - 0s 14ms/step - loss: 5.5874e-05 - val_loss: 3.1352e-04\b\b\b\b\b\b\b\b\b\b\b\b\b\b\b\b\b\b\b\b\b\b\b\b\b\b\b\b\b\b\b\b\b\b\b\b\b\n",
      "Epoch 45/225\n",
      "3/3 [==============================] - 0s 13ms/step - loss: 5.4195e-05 - val_loss: 3.2814e-04\b\b\b\b\b\b\b\b\b\b\b\b\b\b\b\b\b\b\b\b\b\b\b\b\b\b\b\b\b\b\b\b\b\b\b\b\b\n",
      "Epoch 46/225\n",
      "3/3 [==============================] - 0s 13ms/step - loss: 4.7778e-05 - val_loss: 2.9089e-04\b\b\b\b\b\b\b\b\b\b\b\b\b\b\b\b\b\b\b\b\b\b\b\b\b\b\b\b\b\b\b\b\b\b\b\b\b\n",
      "Epoch 47/225\n",
      "3/3 [==============================] - 0s 14ms/step - loss: 3.3789e-05 - val_loss: 2.9601e-04\b\b\b\b\b\b\b\b\b\b\b\b\b\b\b\b\b\b\b\b\b\b\b\b\b\b\b\b\b\b\b\b\b\b\b\b\b\n",
      "Epoch 48/225\n",
      "3/3 [==============================] - 0s 13ms/step - loss: 5.1493e-05 - val_loss: 2.8808e-04\b\b\b\b\b\b\b\b\b\b\b\b\b\b\b\b\b\b\b\b\b\b\b\b\b\b\b\b\b\b\b\b\b\b\b\b\b\n",
      "Epoch 49/225\n",
      "3/3 [==============================] - 0s 13ms/step - loss: 3.6586e-05 - val_loss: 3.1139e-04\b\b\b\b\b\b\b\b\b\b\b\b\b\b\b\b\b\b\b\b\b\b\b\b\b\b\b\b\b\b\b\b\b\b\b\b\b\n",
      "Epoch 50/225\n",
      "3/3 [==============================] - 0s 13ms/step - loss: 5.6904e-05 - val_loss: 3.0767e-04\b\b\b\b\b\b\b\b\b\b\b\b\b\b\b\b\b\b\b\b\b\b\b\b\b\b\b\b\b\b\b\b\b\b\b\b\b\n",
      "Epoch 51/225\n",
      "3/3 [==============================] - 0s 13ms/step - loss: 4.7659e-05 - val_loss: 3.0798e-04\b\b\b\b\b\b\b\b\b\b\b\b\b\b\b\b\b\b\b\b\b\b\b\b\b\b\b\b\b\b\b\b\b\b\b\b\b\n",
      "Epoch 52/225\n",
      "3/3 [==============================] - 0s 13ms/step - loss: 4.9523e-05 - val_loss: 3.0184e-04\b\b\b\b\b\b\b\b\b\b\b\b\b\b\b\b\b\b\b\b\b\b\b\b\b\b\b\b\b\b\b\b\b\b\b\b\b\n",
      "Epoch 53/225\n",
      "3/3 [==============================] - 0s 13ms/step - loss: 4.1277e-05 - val_loss: 2.7906e-04\b\b\b\b\b\b\b\b\b\b\b\b\b\b\b\b\b\b\b\b\b\b\b\b\b\b\b\b\b\b\b\b\b\b\b\b\b\n",
      "Epoch 54/225\n",
      "3/3 [==============================] - 0s 13ms/step - loss: 3.5445e-05 - val_loss: 2.8299e-04\b\b\b\b\b\b\b\b\b\b\b\b\b\b\b\b\b\b\b\b\b\b\b\b\b\b\b\b\b\b\b\b\b\b\b\b\b\n",
      "Epoch 55/225\n",
      "3/3 [==============================] - 0s 13ms/step - loss: 3.3734e-05 - val_loss: 2.7937e-04\b\b\b\b\b\b\b\b\b\b\b\b\b\b\b\b\b\b\b\b\b\b\b\b\b\b\b\b\b\b\b\b\b\b\b\b\b\n",
      "Epoch 56/225\n",
      "3/3 [==============================] - 0s 15ms/step - loss: 3.8386e-05 - val_loss: 2.9644e-04\b\b\b\b\b\b\b\b\b\b\b\b\b\b\b\b\b\b\b\b\b\b\b\b\b\b\b\b\b\b\b\b\b\b\b\b\b\n",
      "Epoch 57/225\n",
      "3/3 [==============================] - 0s 13ms/step - loss: 7.0004e-05 - val_loss: 2.6199e-04\b\b\b\b\b\b\b\b\b\b\b\b\b\b\b\b\b\b\b\b\b\b\b\b\b\b\b\b\b\b\b\b\b\b\b\b\b\n",
      "Epoch 58/225\n",
      "3/3 [==============================] - 0s 13ms/step - loss: 4.5110e-05 - val_loss: 2.4241e-04\b\b\b\b\b\b\b\b\b\b\b\b\b\b\b\b\b\b\b\b\b\b\b\b\b\b\b\b\b\b\b\b\b\b\b\b\b\n",
      "Epoch 59/225\n",
      "3/3 [==============================] - 0s 13ms/step - loss: 3.5946e-05 - val_loss: 2.8133e-04\b\b\b\b\b\b\b\b\b\b\b\b\b\b\b\b\b\b\b\b\b\b\b\b\b\b\b\b\b\b\b\b\b\b\b\b\b\n",
      "Epoch 60/225\n",
      "3/3 [==============================] - 0s 13ms/step - loss: 3.5722e-05 - val_loss: 2.4103e-04\b\b\b\b\b\b\b\b\b\b\b\b\b\b\b\b\b\b\b\b\b\b\b\b\b\b\b\b\b\b\b\b\b\b\b\b\b\n",
      "Epoch 61/225\n",
      "3/3 [==============================] - 0s 13ms/step - loss: 5.1995e-05 - val_loss: 2.5354e-04\b\b\b\b\b\b\b\b\b\b\b\b\b\b\b\b\b\b\b\b\b\b\b\b\b\b\b\b\b\b\b\b\b\b\b\b\b\n",
      "Epoch 62/225\n",
      "3/3 [==============================] - 0s 13ms/step - loss: 4.6048e-05 - val_loss: 2.5959e-04\b\b\b\b\b\b\b\b\b\b\b\b\b\b\b\b\b\b\b\b\b\b\b\b\b\b\b\b\b\b\b\b\b\b\b\b\b\n",
      "Epoch 63/225\n",
      "3/3 [==============================] - 0s 13ms/step - loss: 3.7274e-05 - val_loss: 2.5302e-04\b\b\b\b\b\b\b\b\b\b\b\b\b\b\b\b\b\b\b\b\b\b\b\b\b\b\b\b\b\b\b\b\b\b\b\b\b\n",
      "Epoch 64/225\n",
      "3/3 [==============================] - 0s 13ms/step - loss: 3.2577e-05 - val_loss: 2.5889e-04\b\b\b\b\b\b\b\b\b\b\b\b\b\b\b\b\b\b\b\b\b\b\b\b\b\b\b\b\b\b\b\b\b\b\b\b\b\n",
      "Epoch 65/225\n",
      "3/3 [==============================] - 0s 13ms/step - loss: 3.1677e-05 - val_loss: 2.5224e-04\b\b\b\b\b\b\b\b\b\b\b\b\b\b\b\b\b\b\b\b\b\b\b\b\b\b\b\b\b\b\b\b\b\b\b\b\b\n",
      "Epoch 66/225\n",
      "3/3 [==============================] - 0s 13ms/step - loss: 3.2535e-05 - val_loss: 2.5078e-04\b\b\b\b\b\b\b\b\b\b\b\b\b\b\b\b\b\b\b\b\b\b\b\b\b\b\b\b\b\b\b\b\b\b\b\b\b\n",
      "Epoch 67/225\n",
      "3/3 [==============================] - 0s 13ms/step - loss: 2.6699e-05 - val_loss: 2.6494e-04\b\b\b\b\b\b\b\b\b\b\b\b\b\b\b\b\b\b\b\b\b\b\b\b\b\b\b\b\b\b\b\b\b\b\b\b\b\n",
      "Epoch 68/225\n",
      "3/3 [==============================] - 0s 13ms/step - loss: 3.9073e-05 - val_loss: 2.5578e-04\b\b\b\b\b\b\b\b\b\b\b\b\b\b\b\b\b\b\b\b\b\b\b\b\b\b\b\b\b\b\b\b\b\b\b\b\b\n",
      "Epoch 69/225\n",
      "3/3 [==============================] - 0s 13ms/step - loss: 4.3086e-05 - val_loss: 2.4630e-04\b\b\b\b\b\b\b\b\b\b\b\b\b\b\b\b\b\b\b\b\b\b\b\b\b\b\b\b\b\b\b\b\b\b\b\b\b\n",
      "Epoch 70/225\n",
      "3/3 [==============================] - 0s 14ms/step - loss: 3.5389e-05 - val_loss: 2.4653e-04\b\b\b\b\b\b\b\b\b\b\b\b\b\b\b\b\b\b\b\b\b\b\b\b\b\b\b\b\b\b\b\b\b\b\b\b\b\n",
      "Epoch 71/225\n",
      "3/3 [==============================] - 0s 13ms/step - loss: 2.8274e-05 - val_loss: 2.3577e-04\b\b\b\b\b\b\b\b\b\b\b\b\b\b\b\b\b\b\b\b\b\b\b\b\b\b\b\b\b\b\b\b\b\b\b\b\b\n",
      "Epoch 72/225\n",
      "3/3 [==============================] - 0s 13ms/step - loss: 2.7807e-05 - val_loss: 2.2645e-04\b\b\b\b\b\b\b\b\b\b\b\b\b\b\b\b\b\b\b\b\b\b\b\b\b\b\b\b\b\b\b\b\b\b\b\b\b\n",
      "Epoch 73/225\n",
      "3/3 [==============================] - 0s 13ms/step - loss: 2.5496e-05 - val_loss: 2.2769e-04\b\b\b\b\b\b\b\b\b\b\b\b\b\b\b\b\b\b\b\b\b\b\b\b\b\b\b\b\b\b\b\b\b\b\b\b\b\n",
      "Epoch 74/225\n",
      "3/3 [==============================] - 0s 13ms/step - loss: 2.5107e-05 - val_loss: 2.2888e-04\b\b\b\b\b\b\b\b\b\b\b\b\b\b\b\b\b\b\b\b\b\b\b\b\b\b\b\b\b\b\b\b\b\b\b\b\b\n",
      "Epoch 75/225\n",
      "3/3 [==============================] - 0s 13ms/step - loss: 2.2882e-05 - val_loss: 2.2132e-04\b\b\b\b\b\b\b\b\b\b\b\b\b\b\b\b\b\b\b\b\b\b\b\b\b\b\b\b\b\b\b\b\b\b\b\b\b\n",
      "Epoch 76/225\n",
      "3/3 [==============================] - 0s 13ms/step - loss: 2.4521e-05 - val_loss: 2.2661e-04\b\b\b\b\b\b\b\b\b\b\b\b\b\b\b\b\b\b\b\b\b\b\b\b\b\b\b\b\b\b\b\b\b\b\b\b\b\n",
      "Epoch 77/225\n",
      "3/3 [==============================] - 0s 13ms/step - loss: 2.8271e-05 - val_loss: 2.0126e-04\b\b\b\b\b\b\b\b\b\b\b\b\b\b\b\b\b\b\b\b\b\b\b\b\b\b\b\b\b\b\b\b\b\b\b\b\b\n",
      "Epoch 78/225\n",
      "3/3 [==============================] - 0s 13ms/step - loss: 3.4291e-05 - val_loss: 1.9279e-04\b\b\b\b\b\b\b\b\b\b\b\b\b\b\b\b\b\b\b\b\b\b\b\b\b\b\b\b\b\b\b\b\b\b\b\b\b\n",
      "Epoch 79/225\n",
      "3/3 [==============================] - 0s 13ms/step - loss: 2.0115e-05 - val_loss: 2.1182e-04\b\b\b\b\b\b\b\b\b\b\b\b\b\b\b\b\b\b\b\b\b\b\b\b\b\b\b\b\b\b\b\b\b\b\b\b\b\n",
      "Epoch 80/225\n",
      "3/3 [==============================] - 0s 13ms/step - loss: 3.2318e-05 - val_loss: 1.9531e-04\b\b\b\b\b\b\b\b\b\b\b\b\b\b\b\b\b\b\b\b\b\b\b\b\b\b\b\b\b\b\b\b\b\b\b\b\b\n",
      "Epoch 81/225\n",
      "3/3 [==============================] - 0s 13ms/step - loss: 2.8268e-05 - val_loss: 1.9016e-04\b\b\b\b\b\b\b\b\b\b\b\b\b\b\b\b\b\b\b\b\b\b\b\b\b\b\b\b\b\b\b\b\b\b\b\b\b\n",
      "Epoch 82/225\n",
      "3/3 [==============================] - 0s 13ms/step - loss: 3.5599e-05 - val_loss: 1.8314e-04\b\b\b\b\b\b\b\b\b\b\b\b\b\b\b\b\b\b\b\b\b\b\b\b\b\b\b\b\b\b\b\b\b\b\b\b\b\n",
      "Epoch 83/225\n",
      "3/3 [==============================] - 0s 13ms/step - loss: 2.6771e-05 - val_loss: 1.6861e-04\b\b\b\b\b\b\b\b\b\b\b\b\b\b\b\b\b\b\b\b\b\b\b\b\b\b\b\b\b\b\b\b\b\b\b\b\b\n",
      "Epoch 84/225\n",
      "3/3 [==============================] - 0s 13ms/step - loss: 3.7458e-05 - val_loss: 2.0038e-04\b\b\b\b\b\b\b\b\b\b\b\b\b\b\b\b\b\b\b\b\b\b\b\b\b\b\b\b\b\b\b\b\b\b\b\b\b\n",
      "Epoch 85/225\n",
      "3/3 [==============================] - 0s 15ms/step - loss: 3.3589e-05 - val_loss: 2.0742e-04\b\b\b\b\b\b\b\b\b\b\b\b\b\b\b\b\b\b\b\b\b\b\b\b\b\b\b\b\b\b\b\b\b\b\b\b\b\n",
      "Epoch 86/225\n",
      "3/3 [==============================] - 0s 14ms/step - loss: 2.1333e-05 - val_loss: 2.0019e-04\b\b\b\b\b\b\b\b\b\b\b\b\b\b\b\b\b\b\b\b\b\b\b\b\b\b\b\b\b\b\b\b\b\b\b\b\b\n",
      "Epoch 87/225\n",
      "3/3 [==============================] - 0s 14ms/step - loss: 2.8178e-05 - val_loss: 1.7149e-04\b\b\b\b\b\b\b\b\b\b\b\b\b\b\b\b\b\b\b\b\b\b\b\b\b\b\b\b\b\b\b\b\b\b\b\b\b\n",
      "Epoch 88/225\n",
      "3/3 [==============================] - 0s 14ms/step - loss: 2.2746e-05 - val_loss: 1.6822e-04\b\b\b\b\b\b\b\b\b\b\b\b\b\b\b\b\b\b\b\b\b\b\b\b\b\b\b\b\b\b\b\b\b\b\b\b\b\n",
      "Epoch 89/225\n",
      "3/3 [==============================] - 0s 13ms/step - loss: 2.7760e-05 - val_loss: 1.7306e-04\b\b\b\b\b\b\b\b\b\b\b\b\b\b\b\b\b\b\b\b\b\b\b\b\b\b\b\b\b\b\b\b\b\b\b\b\b\n",
      "Epoch 90/225\n",
      "3/3 [==============================] - 0s 13ms/step - loss: 2.5120e-05 - val_loss: 1.5926e-04\b\b\b\b\b\b\b\b\b\b\b\b\b\b\b\b\b\b\b\b\b\b\b\b\b\b\b\b\b\b\b\b\b\b\b\b\b\n",
      "Epoch 91/225\n",
      "3/3 [==============================] - 0s 13ms/step - loss: 3.8831e-05 - val_loss: 2.0014e-04\b\b\b\b\b\b\b\b\b\b\b\b\b\b\b\b\b\b\b\b\b\b\b\b\b\b\b\b\b\b\b\b\b\b\b\b\b\n",
      "Epoch 92/225\n",
      "3/3 [==============================] - 0s 14ms/step - loss: 4.9498e-05 - val_loss: 1.5719e-04\b\b\b\b\b\b\b\b\b\b\b\b\b\b\b\b\b\b\b\b\b\b\b\b\b\b\b\b\b\b\b\b\b\b\b\b\b\n",
      "Epoch 93/225\n",
      "3/3 [==============================] - 0s 14ms/step - loss: 2.7462e-05 - val_loss: 1.6137e-04\b\b\b\b\b\b\b\b\b\b\b\b\b\b\b\b\b\b\b\b\b\b\b\b\b\b\b\b\b\b\b\b\b\b\b\b\b\n",
      "Epoch 94/225\n",
      "3/3 [==============================] - 0s 13ms/step - loss: 3.4023e-05 - val_loss: 1.6051e-04\b\b\b\b\b\b\b\b\b\b\b\b\b\b\b\b\b\b\b\b\b\b\b\b\b\b\b\b\b\b\b\b\b\b\b\b\b\n",
      "Epoch 95/225\n",
      "3/3 [==============================] - 0s 14ms/step - loss: 2.6382e-05 - val_loss: 1.5427e-04\b\b\b\b\b\b\b\b\b\b\b\b\b\b\b\b\b\b\b\b\b\b\b\b\b\b\b\b\b\b\b\b\b\b\b\b\b\n",
      "Epoch 96/225\n",
      "3/3 [==============================] - 0s 14ms/step - loss: 2.2419e-05 - val_loss: 1.9872e-04\b\b\b\b\b\b\b\b\b\b\b\b\b\b\b\b\b\b\b\b\b\b\b\b\b\b\b\b\b\b\b\b\b\b\b\b\b\n",
      "Epoch 97/225\n",
      "3/3 [==============================] - 0s 13ms/step - loss: 2.4986e-05 - val_loss: 1.3605e-04\b\b\b\b\b\b\b\b\b\b\b\b\b\b\b\b\b\b\b\b\b\b\b\b\b\b\b\b\b\b\b\b\b\b\b\b\b\n",
      "Epoch 98/225\n",
      "3/3 [==============================] - 0s 13ms/step - loss: 3.1456e-05 - val_loss: 1.6287e-04\b\b\b\b\b\b\b\b\b\b\b\b\b\b\b\b\b\b\b\b\b\b\b\b\b\b\b\b\b\b\b\b\b\b\b\b\b\n",
      "Epoch 99/225\n",
      "3/3 [==============================] - 0s 15ms/step - loss: 2.2850e-05 - val_loss: 1.5238e-04\b\b\b\b\b\b\b\b\b\b\b\b\b\b\b\b\b\b\b\b\b\b\b\b\b\b\b\b\b\b\b\b\b\b\b\b\b\n",
      "Epoch 100/225\n",
      "3/3 [==============================] - 0s 13ms/step - loss: 1.9038e-05 - val_loss: 1.5292e-04\b\b\b\b\b\b\b\b\b\b\b\b\b\b\b\b\b\b\b\b\b\b\b\b\b\b\b\b\b\b\b\b\b\b\b\b\b\n",
      "Epoch 101/225\n",
      "3/3 [==============================] - 0s 13ms/step - loss: 1.4831e-05 - val_loss: 1.5868e-04\b\b\b\b\b\b\b\b\b\b\b\b\b\b\b\b\b\b\b\b\b\b\b\b\b\b\b\b\b\b\b\b\b\b\b\b\b\n",
      "Epoch 102/225\n",
      "3/3 [==============================] - 0s 13ms/step - loss: 2.1891e-05 - val_loss: 1.4135e-04\b\b\b\b\b\b\b\b\b\b\b\b\b\b\b\b\b\b\b\b\b\b\b\b\b\b\b\b\b\b\b\b\b\b\b\b\b\n",
      "Epoch 103/225\n",
      "3/3 [==============================] - 0s 13ms/step - loss: 2.3722e-05 - val_loss: 1.4010e-04\b\b\b\b\b\b\b\b\b\b\b\b\b\b\b\b\b\b\b\b\b\b\b\b\b\b\b\b\b\b\b\b\b\b\b\b\b\n",
      "Epoch 104/225\n",
      "3/3 [==============================] - 0s 13ms/step - loss: 1.9594e-05 - val_loss: 1.4621e-04\b\b\b\b\b\b\b\b\b\b\b\b\b\b\b\b\b\b\b\b\b\b\b\b\b\b\b\b\b\b\b\b\b\b\b\b\b\n",
      "Epoch 105/225\n",
      "3/3 [==============================] - 0s 13ms/step - loss: 2.1877e-05 - val_loss: 1.4365e-04\b\b\b\b\b\b\b\b\b\b\b\b\b\b\b\b\b\b\b\b\b\b\b\b\b\b\b\b\b\b\b\b\b\b\b\b\b\n",
      "Epoch 106/225\n",
      "3/3 [==============================] - 0s 13ms/step - loss: 1.9674e-05 - val_loss: 1.3285e-04\b\b\b\b\b\b\b\b\b\b\b\b\b\b\b\b\b\b\b\b\b\b\b\b\b\b\b\b\b\b\b\b\b\b\b\b\b\n",
      "Epoch 107/225\n",
      "3/3 [==============================] - 0s 13ms/step - loss: 1.8829e-05 - val_loss: 1.4737e-04\b\b\b\b\b\b\b\b\b\b\b\b\b\b\b\b\b\b\b\b\b\b\b\b\b\b\b\b\b\b\b\b\b\b\b\b\b\n",
      "Epoch 108/225\n",
      "3/3 [==============================] - 0s 13ms/step - loss: 1.8803e-05 - val_loss: 1.2321e-04\b\b\b\b\b\b\b\b\b\b\b\b\b\b\b\b\b\b\b\b\b\b\b\b\b\b\b\b\b\b\b\b\b\b\b\b\b\n",
      "Epoch 109/225\n",
      "3/3 [==============================] - 0s 13ms/step - loss: 1.7770e-05 - val_loss: 1.3485e-04\b\b\b\b\b\b\b\b\b\b\b\b\b\b\b\b\b\b\b\b\b\b\b\b\b\b\b\b\b\b\b\b\b\b\b\b\b\n",
      "Epoch 110/225\n",
      "3/3 [==============================] - 0s 13ms/step - loss: 2.5257e-05 - val_loss: 1.5276e-04\b\b\b\b\b\b\b\b\b\b\b\b\b\b\b\b\b\b\b\b\b\b\b\b\b\b\b\b\b\b\b\b\b\b\b\b\b\n",
      "Epoch 111/225\n",
      "3/3 [==============================] - 0s 13ms/step - loss: 2.5698e-05 - val_loss: 1.2736e-04\b\b\b\b\b\b\b\b\b\b\b\b\b\b\b\b\b\b\b\b\b\b\b\b\b\b\b\b\b\b\b\b\b\b\b\b\b\n",
      "Epoch 112/225\n",
      "3/3 [==============================] - 0s 13ms/step - loss: 1.8220e-05 - val_loss: 1.3356e-04\b\b\b\b\b\b\b\b\b\b\b\b\b\b\b\b\b\b\b\b\b\b\b\b\b\b\b\b\b\b\b\b\b\b\b\b\b\n",
      "Epoch 113/225\n",
      "3/3 [==============================] - 0s 13ms/step - loss: 1.9932e-05 - val_loss: 1.6753e-04\b\b\b\b\b\b\b\b\b\b\b\b\b\b\b\b\b\b\b\b\b\b\b\b\b\b\b\b\b\b\b\b\b\b\b\b\b\n",
      "Epoch 114/225\n",
      "3/3 [==============================] - 0s 15ms/step - loss: 1.9304e-05 - val_loss: 1.7622e-04\b\b\b\b\b\b\b\b\b\b\b\b\b\b\b\b\b\b\b\b\b\b\b\b\b\b\b\b\b\b\b\b\b\b\b\b\b\n",
      "Epoch 115/225\n",
      "3/3 [==============================] - 0s 13ms/step - loss: 2.3970e-05 - val_loss: 1.1080e-04\b\b\b\b\b\b\b\b\b\b\b\b\b\b\b\b\b\b\b\b\b\b\b\b\b\b\b\b\b\b\b\b\b\b\b\b\b\n",
      "Epoch 116/225\n",
      "3/3 [==============================] - 0s 13ms/step - loss: 2.5892e-05 - val_loss: 1.2464e-04\b\b\b\b\b\b\b\b\b\b\b\b\b\b\b\b\b\b\b\b\b\b\b\b\b\b\b\b\b\b\b\b\b\b\b\b\b\n",
      "Epoch 117/225\n",
      "3/3 [==============================] - 0s 13ms/step - loss: 1.8661e-05 - val_loss: 1.3835e-04\b\b\b\b\b\b\b\b\b\b\b\b\b\b\b\b\b\b\b\b\b\b\b\b\b\b\b\b\b\b\b\b\b\b\b\b\b\n",
      "Epoch 118/225\n",
      "3/3 [==============================] - 0s 13ms/step - loss: 1.4687e-05 - val_loss: 1.2690e-04\b\b\b\b\b\b\b\b\b\b\b\b\b\b\b\b\b\b\b\b\b\b\b\b\b\b\b\b\b\b\b\b\b\b\b\b\b\n",
      "Epoch 119/225\n",
      "3/3 [==============================] - 0s 13ms/step - loss: 1.7400e-05 - val_loss: 1.2018e-04\b\b\b\b\b\b\b\b\b\b\b\b\b\b\b\b\b\b\b\b\b\b\b\b\b\b\b\b\b\b\b\b\b\b\b\b\b\n",
      "Epoch 120/225\n",
      "3/3 [==============================] - 0s 13ms/step - loss: 2.4853e-05 - val_loss: 1.5429e-04\b\b\b\b\b\b\b\b\b\b\b\b\b\b\b\b\b\b\b\b\b\b\b\b\b\b\b\b\b\b\b\b\b\b\b\b\b\n",
      "Epoch 121/225\n",
      "3/3 [==============================] - 0s 13ms/step - loss: 1.5416e-05 - val_loss: 1.0865e-04\b\b\b\b\b\b\b\b\b\b\b\b\b\b\b\b\b\b\b\b\b\b\b\b\b\b\b\b\b\b\b\b\b\b\b\b\b\n",
      "Epoch 122/225\n",
      "3/3 [==============================] - 0s 13ms/step - loss: 1.7606e-05 - val_loss: 1.1507e-04\b\b\b\b\b\b\b\b\b\b\b\b\b\b\b\b\b\b\b\b\b\b\b\b\b\b\b\b\b\b\b\b\b\b\b\b\b\n",
      "Epoch 123/225\n",
      "3/3 [==============================] - 0s 13ms/step - loss: 2.1027e-05 - val_loss: 1.0333e-04\b\b\b\b\b\b\b\b\b\b\b\b\b\b\b\b\b\b\b\b\b\b\b\b\b\b\b\b\b\b\b\b\b\b\b\b\b\n",
      "Epoch 124/225\n",
      "3/3 [==============================] - 0s 13ms/step - loss: 2.0014e-05 - val_loss: 1.3752e-04\b\b\b\b\b\b\b\b\b\b\b\b\b\b\b\b\b\b\b\b\b\b\b\b\b\b\b\b\b\b\b\b\b\b\b\b\b\n",
      "Epoch 125/225\n",
      "3/3 [==============================] - 0s 13ms/step - loss: 1.6560e-05 - val_loss: 1.1154e-04\b\b\b\b\b\b\b\b\b\b\b\b\b\b\b\b\b\b\b\b\b\b\b\b\b\b\b\b\b\b\b\b\b\b\b\b\b\n",
      "Epoch 126/225\n",
      "3/3 [==============================] - 0s 13ms/step - loss: 2.2490e-05 - val_loss: 1.0562e-04\b\b\b\b\b\b\b\b\b\b\b\b\b\b\b\b\b\b\b\b\b\b\b\b\b\b\b\b\b\b\b\b\b\b\b\b\b\n",
      "Epoch 127/225\n",
      "3/3 [==============================] - 0s 13ms/step - loss: 1.9809e-05 - val_loss: 1.0108e-04\b\b\b\b\b\b\b\b\b\b\b\b\b\b\b\b\b\b\b\b\b\b\b\b\b\b\b\b\b\b\b\b\b\b\b\b\b\n",
      "Epoch 128/225\n",
      "3/3 [==============================] - 0s 14ms/step - loss: 1.6336e-05 - val_loss: 1.6056e-04\b\b\b\b\b\b\b\b\b\b\b\b\b\b\b\b\b\b\b\b\b\b\b\b\b\b\b\b\b\b\b\b\b\b\b\b\b\n",
      "Epoch 129/225\n",
      "3/3 [==============================] - 0s 13ms/step - loss: 2.8215e-05 - val_loss: 1.1815e-04\b\b\b\b\b\b\b\b\b\b\b\b\b\b\b\b\b\b\b\b\b\b\b\b\b\b\b\b\b\b\b\b\b\b\b\b\b\n",
      "Epoch 130/225\n",
      "3/3 [==============================] - 0s 13ms/step - loss: 2.9724e-05 - val_loss: 1.2287e-04\b\b\b\b\b\b\b\b\b\b\b\b\b\b\b\b\b\b\b\b\b\b\b\b\b\b\b\b\b\b\b\b\b\b\b\b\b\n",
      "Epoch 131/225\n",
      "3/3 [==============================] - 0s 13ms/step - loss: 1.8356e-05 - val_loss: 9.6858e-05\b\b\b\b\b\b\b\b\b\b\b\b\b\b\b\b\b\b\b\b\b\b\b\b\b\b\b\b\b\b\b\b\b\b\b\b\b\n",
      "Epoch 132/225\n",
      "3/3 [==============================] - 0s 13ms/step - loss: 1.8394e-05 - val_loss: 1.0148e-04\b\b\b\b\b\b\b\b\b\b\b\b\b\b\b\b\b\b\b\b\b\b\b\b\b\b\b\b\b\b\b\b\b\b\b\b\b\n",
      "Epoch 133/225\n",
      "3/3 [==============================] - 0s 13ms/step - loss: 2.1752e-05 - val_loss: 1.0714e-04\b\b\b\b\b\b\b\b\b\b\b\b\b\b\b\b\b\b\b\b\b\b\b\b\b\b\b\b\b\b\b\b\b\b\b\b\b\n",
      "Epoch 134/225\n",
      "3/3 [==============================] - 0s 16ms/step - loss: 1.7044e-05 - val_loss: 1.1450e-04\b\b\b\b\b\b\b\b\b\b\b\b\b\b\b\b\b\b\b\b\b\b\b\b\b\b\b\b\b\b\b\b\b\b\b\b\b\n",
      "Epoch 135/225\n",
      "3/3 [==============================] - 0s 14ms/step - loss: 1.6393e-05 - val_loss: 1.1086e-04\b\b\b\b\b\b\b\b\b\b\b\b\b\b\b\b\b\b\b\b\b\b\b\b\b\b\b\b\b\b\b\b\b\b\b\b\b\n",
      "Epoch 136/225\n",
      "3/3 [==============================] - 0s 15ms/step - loss: 2.1028e-05 - val_loss: 9.6535e-05\b\b\b\b\b\b\b\b\b\b\b\b\b\b\b\b\b\b\b\b\b\b\b\b\b\b\b\b\b\b\b\b\b\b\b\b\b\n",
      "Epoch 137/225\n",
      "3/3 [==============================] - 0s 15ms/step - loss: 1.7793e-05 - val_loss: 1.2110e-04\b\b\b\b\b\b\b\b\b\b\b\b\b\b\b\b\b\b\b\b\b\b\b\b\b\b\b\b\b\b\b\b\b\b\b\b\b\n",
      "Epoch 138/225\n",
      "3/3 [==============================] - 0s 15ms/step - loss: 1.2165e-05 - val_loss: 1.2795e-04\b\b\b\b\b\b\b\b\b\b\b\b\b\b\b\b\b\b\b\b\b\b\b\b\b\b\b\b\b\b\b\b\b\b\b\b\b\n",
      "Epoch 139/225\n",
      "3/3 [==============================] - 0s 14ms/step - loss: 1.6923e-05 - val_loss: 1.0876e-04\b\b\b\b\b\b\b\b\b\b\b\b\b\b\b\b\b\b\b\b\b\b\b\b\b\b\b\b\b\b\b\b\b\b\b\b\b\n",
      "Epoch 140/225\n",
      "3/3 [==============================] - 0s 15ms/step - loss: 1.1387e-05 - val_loss: 1.0202e-04\b\b\b\b\b\b\b\b\b\b\b\b\b\b\b\b\b\b\b\b\b\b\b\b\b\b\b\b\b\b\b\b\b\b\b\b\b\n",
      "Epoch 141/225\n",
      "3/3 [==============================] - 0s 15ms/step - loss: 1.2135e-05 - val_loss: 9.6261e-05\b\b\b\b\b\b\b\b\b\b\b\b\b\b\b\b\b\b\b\b\b\b\b\b\b\b\b\b\b\b\b\b\b\b\b\b\b\n",
      "Epoch 142/225\n",
      "3/3 [==============================] - 0s 17ms/step - loss: 1.7998e-05 - val_loss: 9.0777e-05\b\b\b\b\b\b\b\b\b\b\b\b\b\b\b\b\b\b\b\b\b\b\b\b\b\b\b\b\b\b\b\b\b\b\b\b\b\n",
      "Epoch 143/225\n",
      "3/3 [==============================] - 0s 14ms/step - loss: 1.6006e-05 - val_loss: 1.6038e-04\b\b\b\b\b\b\b\b\b\b\b\b\b\b\b\b\b\b\b\b\b\b\b\b\b\b\b\b\b\b\b\b\b\b\b\b\b\n",
      "Epoch 144/225\n",
      "3/3 [==============================] - 0s 14ms/step - loss: 2.0564e-05 - val_loss: 9.8712e-05\b\b\b\b\b\b\b\b\b\b\b\b\b\b\b\b\b\b\b\b\b\b\b\b\b\b\b\b\b\b\b\b\b\b\b\b\b\n",
      "Epoch 145/225\n",
      "3/3 [==============================] - 0s 14ms/step - loss: 1.1761e-05 - val_loss: 8.8660e-05\b\b\b\b\b\b\b\b\b\b\b\b\b\b\b\b\b\b\b\b\b\b\b\b\b\b\b\b\b\b\b\b\b\b\b\b\b\n",
      "Epoch 146/225\n",
      "3/3 [==============================] - 0s 15ms/step - loss: 1.4104e-05 - val_loss: 9.1895e-05\b\b\b\b\b\b\b\b\b\b\b\b\b\b\b\b\b\b\b\b\b\b\b\b\b\b\b\b\b\b\b\b\b\b\b\b\b\n",
      "Epoch 147/225\n",
      "3/3 [==============================] - 0s 14ms/step - loss: 1.2413e-05 - val_loss: 9.1878e-05\b\b\b\b\b\b\b\b\b\b\b\b\b\b\b\b\b\b\b\b\b\b\b\b\b\b\b\b\b\b\b\b\b\b\b\b\b\n",
      "Epoch 148/225\n",
      "3/3 [==============================] - 0s 15ms/step - loss: 1.0807e-05 - val_loss: 1.2931e-04\b\b\b\b\b\b\b\b\b\b\b\b\b\b\b\b\b\b\b\b\b\b\b\b\b\b\b\b\b\b\b\b\b\b\b\b\b\n",
      "Epoch 149/225\n",
      "3/3 [==============================] - 0s 15ms/step - loss: 1.6830e-05 - val_loss: 1.1558e-04\b\b\b\b\b\b\b\b\b\b\b\b\b\b\b\b\b\b\b\b\b\b\b\b\b\b\b\b\b\b\b\b\b\b\b\b\b\n",
      "Epoch 150/225\n",
      "3/3 [==============================] - 0s 16ms/step - loss: 1.0597e-05 - val_loss: 8.1887e-05\b\b\b\b\b\b\b\b\b\b\b\b\b\b\b\b\b\b\b\b\b\b\b\b\b\b\b\b\b\b\b\b\b\b\b\b\b\n",
      "Epoch 151/225\n",
      "3/3 [==============================] - 0s 13ms/step - loss: 1.8930e-05 - val_loss: 8.3464e-05\b\b\b\b\b\b\b\b\b\b\b\b\b\b\b\b\b\b\b\b\b\b\b\b\b\b\b\b\b\b\b\b\b\b\b\b\b\n",
      "Epoch 152/225\n",
      "3/3 [==============================] - 0s 15ms/step - loss: 1.4202e-05 - val_loss: 8.9042e-05\b\b\b\b\b\b\b\b\b\b\b\b\b\b\b\b\b\b\b\b\b\b\b\b\b\b\b\b\b\b\b\b\b\b\b\b\b\n",
      "Epoch 153/225\n",
      "3/3 [==============================] - 0s 14ms/step - loss: 9.6697e-06 - val_loss: 8.6108e-05\b\b\b\b\b\b\b\b\b\b\b\b\b\b\b\b\b\b\b\b\b\b\b\b\b\b\b\b\b\b\b\b\b\b\b\b\b\n",
      "Epoch 154/225\n",
      "3/3 [==============================] - 0s 13ms/step - loss: 9.4912e-06 - val_loss: 9.8493e-05\b\b\b\b\b\b\b\b\b\b\b\b\b\b\b\b\b\b\b\b\b\b\b\b\b\b\b\b\b\b\b\b\b\b\b\b\b\n",
      "Epoch 155/225\n",
      "3/3 [==============================] - 0s 16ms/step - loss: 1.2396e-05 - val_loss: 7.5374e-05\b\b\b\b\b\b\b\b\b\b\b\b\b\b\b\b\b\b\b\b\b\b\b\b\b\b\b\b\b\b\b\b\b\b\b\b\b\n",
      "Epoch 156/225\n",
      "3/3 [==============================] - 0s 13ms/step - loss: 1.4080e-05 - val_loss: 8.4917e-05\b\b\b\b\b\b\b\b\b\b\b\b\b\b\b\b\b\b\b\b\b\b\b\b\b\b\b\b\b\b\b\b\b\b\b\b\b\n",
      "Epoch 157/225\n",
      "3/3 [==============================] - 0s 13ms/step - loss: 1.1386e-05 - val_loss: 1.0375e-04\b\b\b\b\b\b\b\b\b\b\b\b\b\b\b\b\b\b\b\b\b\b\b\b\b\b\b\b\b\b\b\b\b\b\b\b\b\n",
      "Epoch 158/225\n",
      "3/3 [==============================] - 0s 14ms/step - loss: 1.2795e-05 - val_loss: 1.0426e-04\b\b\b\b\b\b\b\b\b\b\b\b\b\b\b\b\b\b\b\b\b\b\b\b\b\b\b\b\b\b\b\b\b\b\b\b\b\n",
      "Epoch 159/225\n",
      "3/3 [==============================] - 0s 14ms/step - loss: 8.4660e-06 - val_loss: 8.1269e-05\b\b\b\b\b\b\b\b\b\b\b\b\b\b\b\b\b\b\b\b\b\b\b\b\b\b\b\b\b\b\b\b\b\b\b\b\b\n",
      "Epoch 160/225\n",
      "3/3 [==============================] - 0s 13ms/step - loss: 7.6282e-06 - val_loss: 7.1176e-05\b\b\b\b\b\b\b\b\b\b\b\b\b\b\b\b\b\b\b\b\b\b\b\b\b\b\b\b\b\b\b\b\b\b\b\b\b\n",
      "Epoch 161/225\n",
      "3/3 [==============================] - 0s 13ms/step - loss: 1.4665e-05 - val_loss: 1.2480e-04\b\b\b\b\b\b\b\b\b\b\b\b\b\b\b\b\b\b\b\b\b\b\b\b\b\b\b\b\b\b\b\b\b\b\b\b\b\n",
      "Epoch 162/225\n",
      "3/3 [==============================] - 0s 14ms/step - loss: 1.4257e-05 - val_loss: 7.9897e-05\b\b\b\b\b\b\b\b\b\b\b\b\b\b\b\b\b\b\b\b\b\b\b\b\b\b\b\b\b\b\b\b\b\b\b\b\b\n",
      "Epoch 163/225\n",
      "3/3 [==============================] - 0s 29ms/step - loss: 1.4385e-05 - val_loss: 7.3692e-05\b\b\b\b\b\b\b\b\b\b\b\b\b\b\b\b\b\b\b\b\b\b\b\b\b\b\b\b\b\b\b\b\b\b\b\b\b\n",
      "Epoch 164/225\n",
      "3/3 [==============================] - 0s 23ms/step - loss: 1.0902e-05 - val_loss: 7.0644e-05\b\b\b\b\b\b\b\b\b\b\b\b\b\b\b\b\b\b\b\b\b\b\b\b\b\b\b\b\b\b\b\b\b\b\b\b\b\n",
      "Epoch 165/225\n",
      "3/3 [==============================] - 0s 22ms/step - loss: 1.1093e-05 - val_loss: 8.4417e-05\b\b\b\b\b\b\b\b\b\b\b\b\b\b\b\b\b\b\b\b\b\b\b\b\b\b\b\b\b\b\b\b\b\b\b\b\b\n",
      "Epoch 166/225\n",
      "3/3 [==============================] - 0s 24ms/step - loss: 1.2429e-05 - val_loss: 9.9829e-05\b\b\b\b\b\b\b\b\b\b\b\b\b\b\b\b\b\b\b\b\b\b\b\b\b\b\b\b\b\b\b\b\b\b\b\b\b\n",
      "Epoch 167/225\n",
      "3/3 [==============================] - 0s 29ms/step - loss: 1.2681e-05 - val_loss: 9.3403e-05\b\b\b\b\b\b\b\b\b\b\b\b\b\b\b\b\b\b\b\b\b\b\b\b\b\b\b\b\b\b\b\b\b\b\b\b\b\n",
      "Epoch 168/225\n",
      "3/3 [==============================] - 0s 20ms/step - loss: 9.2966e-06 - val_loss: 6.4755e-05\b\b\b\b\b\b\b\b\b\b\b\b\b\b\b\b\b\b\b\b\b\b\b\b\b\b\b\b\b\b\b\b\b\b\b\b\b\n",
      "Epoch 169/225\n",
      "3/3 [==============================] - 0s 17ms/step - loss: 1.0450e-05 - val_loss: 7.9383e-05\b\b\b\b\b\b\b\b\b\b\b\b\b\b\b\b\b\b\b\b\b\b\b\b\b\b\b\b\b\b\b\b\b\b\b\b\b\n",
      "Epoch 170/225\n",
      "3/3 [==============================] - 0s 19ms/step - loss: 1.1051e-05 - val_loss: 8.5731e-05\b\b\b\b\b\b\b\b\b\b\b\b\b\b\b\b\b\b\b\b\b\b\b\b\b\b\b\b\b\b\b\b\b\b\b\b\b\n",
      "Epoch 171/225\n",
      "3/3 [==============================] - 0s 22ms/step - loss: 6.6217e-06 - val_loss: 1.0513e-04\b\b\b\b\b\b\b\b\b\b\b\b\b\b\b\b\b\b\b\b\b\b\b\b\b\b\b\b\b\b\b\b\b\b\b\b\b\n",
      "Epoch 172/225\n",
      "3/3 [==============================] - 0s 18ms/step - loss: 7.3909e-06 - val_loss: 7.9062e-05\b\b\b\b\b\b\b\b\b\b\b\b\b\b\b\b\b\b\b\b\b\b\b\b\b\b\b\b\b\b\b\b\b\b\b\b\b\n",
      "Epoch 173/225\n",
      "3/3 [==============================] - 0s 19ms/step - loss: 8.2947e-06 - val_loss: 6.9806e-05\b\b\b\b\b\b\b\b\b\b\b\b\b\b\b\b\b\b\b\b\b\b\b\b\b\b\b\b\b\b\b\b\b\b\b\b\b\n",
      "Epoch 174/225\n",
      "3/3 [==============================] - 0s 21ms/step - loss: 6.6859e-06 - val_loss: 6.2877e-05\b\b\b\b\b\b\b\b\b\b\b\b\b\b\b\b\b\b\b\b\b\b\b\b\b\b\b\b\b\b\b\b\b\b\b\b\b\n",
      "Epoch 175/225\n",
      "3/3 [==============================] - 0s 21ms/step - loss: 1.0301e-05 - val_loss: 9.6617e-05\b\b\b\b\b\b\b\b\b\b\b\b\b\b\b\b\b\b\b\b\b\b\b\b\b\b\b\b\b\b\b\b\b\b\b\b\b\n",
      "Epoch 176/225\n",
      "3/3 [==============================] - 0s 18ms/step - loss: 7.3911e-06 - val_loss: 1.2083e-04\b\b\b\b\b\b\b\b\b\b\b\b\b\b\b\b\b\b\b\b\b\b\b\b\b\b\b\b\b\b\b\b\b\b\b\b\b\n",
      "Epoch 177/225\n",
      "3/3 [==============================] - 0s 16ms/step - loss: 1.3296e-05 - val_loss: 5.9780e-05\b\b\b\b\b\b\b\b\b\b\b\b\b\b\b\b\b\b\b\b\b\b\b\b\b\b\b\b\b\b\b\b\b\b\b\b\b\n",
      "Epoch 178/225\n",
      "3/3 [==============================] - 0s 15ms/step - loss: 1.2040e-05 - val_loss: 7.1382e-05\b\b\b\b\b\b\b\b\b\b\b\b\b\b\b\b\b\b\b\b\b\b\b\b\b\b\b\b\b\b\b\b\b\b\b\b\b\n",
      "Epoch 179/225\n",
      "3/3 [==============================] - 0s 15ms/step - loss: 7.7794e-06 - val_loss: 7.0437e-05\b\b\b\b\b\b\b\b\b\b\b\b\b\b\b\b\b\b\b\b\b\b\b\b\b\b\b\b\b\b\b\b\b\b\b\b\b\n",
      "Epoch 180/225\n",
      "3/3 [==============================] - 0s 18ms/step - loss: 9.1593e-06 - val_loss: 9.4570e-05\b\b\b\b\b\b\b\b\b\b\b\b\b\b\b\b\b\b\b\b\b\b\b\b\b\b\b\b\b\b\b\b\b\b\b\b\b\n",
      "Epoch 181/225\n",
      "3/3 [==============================] - 0s 16ms/step - loss: 7.1107e-06 - val_loss: 7.6411e-05\b\b\b\b\b\b\b\b\b\b\b\b\b\b\b\b\b\b\b\b\b\b\b\b\b\b\b\b\b\b\b\b\b\b\b\b\b\n",
      "Epoch 182/225\n",
      "3/3 [==============================] - 0s 15ms/step - loss: 8.8707e-06 - val_loss: 1.1425e-04\b\b\b\b\b\b\b\b\b\b\b\b\b\b\b\b\b\b\b\b\b\b\b\b\b\b\b\b\b\b\b\b\b\b\b\b\b\n",
      "Epoch 183/225\n",
      "3/3 [==============================] - 0s 15ms/step - loss: 1.2095e-05 - val_loss: 5.9488e-05\b\b\b\b\b\b\b\b\b\b\b\b\b\b\b\b\b\b\b\b\b\b\b\b\b\b\b\b\b\b\b\b\b\b\b\b\b\n",
      "Epoch 184/225\n",
      "3/3 [==============================] - 0s 15ms/step - loss: 1.5553e-05 - val_loss: 8.7786e-05\b\b\b\b\b\b\b\b\b\b\b\b\b\b\b\b\b\b\b\b\b\b\b\b\b\b\b\b\b\b\b\b\b\b\b\b\b\n",
      "Epoch 185/225\n",
      "3/3 [==============================] - 0s 16ms/step - loss: 1.0815e-05 - val_loss: 6.5525e-05\b\b\b\b\b\b\b\b\b\b\b\b\b\b\b\b\b\b\b\b\b\b\b\b\b\b\b\b\b\b\b\b\b\b\b\b\b\n",
      "Epoch 186/225\n",
      "3/3 [==============================] - 0s 15ms/step - loss: 8.9607e-06 - val_loss: 1.2660e-04\b\b\b\b\b\b\b\b\b\b\b\b\b\b\b\b\b\b\b\b\b\b\b\b\b\b\b\b\b\b\b\b\b\b\b\b\b\n",
      "Epoch 187/225\n",
      "3/3 [==============================] - 0s 15ms/step - loss: 8.8583e-06 - val_loss: 8.6885e-05\b\b\b\b\b\b\b\b\b\b\b\b\b\b\b\b\b\b\b\b\b\b\b\b\b\b\b\b\b\b\b\b\b\b\b\b\b\n",
      "Epoch 188/225\n",
      "3/3 [==============================] - 0s 16ms/step - loss: 8.4999e-06 - val_loss: 7.3771e-05\b\b\b\b\b\b\b\b\b\b\b\b\b\b\b\b\b\b\b\b\b\b\b\b\b\b\b\b\b\b\b\b\b\b\b\b\b\n",
      "Epoch 189/225\n",
      "3/3 [==============================] - 0s 16ms/step - loss: 4.7217e-06 - val_loss: 6.6223e-05\b\b\b\b\b\b\b\b\b\b\b\b\b\b\b\b\b\b\b\b\b\b\b\b\b\b\b\b\b\b\b\b\b\b\b\b\b\n",
      "Epoch 190/225\n",
      "3/3 [==============================] - 0s 15ms/step - loss: 7.8458e-06 - val_loss: 9.2590e-05\b\b\b\b\b\b\b\b\b\b\b\b\b\b\b\b\b\b\b\b\b\b\b\b\b\b\b\b\b\b\b\b\b\b\b\b\b\n",
      "Epoch 191/225\n",
      "3/3 [==============================] - 0s 14ms/step - loss: 8.6211e-06 - val_loss: 7.8806e-05\b\b\b\b\b\b\b\b\b\b\b\b\b\b\b\b\b\b\b\b\b\b\b\b\b\b\b\b\b\b\b\b\b\b\b\b\b\n",
      "Epoch 192/225\n",
      "3/3 [==============================] - 0s 16ms/step - loss: 8.0943e-06 - val_loss: 1.1496e-04\b\b\b\b\b\b\b\b\b\b\b\b\b\b\b\b\b\b\b\b\b\b\b\b\b\b\b\b\b\b\b\b\b\b\b\b\b\n",
      "Epoch 193/225\n",
      "3/3 [==============================] - 0s 16ms/step - loss: 1.0230e-05 - val_loss: 5.6448e-05\b\b\b\b\b\b\b\b\b\b\b\b\b\b\b\b\b\b\b\b\b\b\b\b\b\b\b\b\b\b\b\b\b\b\b\b\b\n",
      "Epoch 194/225\n",
      "3/3 [==============================] - 0s 14ms/step - loss: 1.0736e-05 - val_loss: 6.3975e-05\b\b\b\b\b\b\b\b\b\b\b\b\b\b\b\b\b\b\b\b\b\b\b\b\b\b\b\b\b\b\b\b\b\b\b\b\b\n",
      "Epoch 195/225\n",
      "3/3 [==============================] - 0s 14ms/step - loss: 6.6354e-06 - val_loss: 6.6477e-05\b\b\b\b\b\b\b\b\b\b\b\b\b\b\b\b\b\b\b\b\b\b\b\b\b\b\b\b\b\b\b\b\b\b\b\b\b\n",
      "Epoch 196/225\n",
      "3/3 [==============================] - 0s 16ms/step - loss: 8.8782e-06 - val_loss: 6.1471e-05\b\b\b\b\b\b\b\b\b\b\b\b\b\b\b\b\b\b\b\b\b\b\b\b\b\b\b\b\b\b\b\b\b\b\b\b\b\n",
      "Epoch 197/225\n",
      "3/3 [==============================] - 0s 15ms/step - loss: 8.5494e-06 - val_loss: 5.4785e-05\b\b\b\b\b\b\b\b\b\b\b\b\b\b\b\b\b\b\b\b\b\b\b\b\b\b\b\b\b\b\b\b\b\b\b\b\b\n",
      "Epoch 198/225\n",
      "3/3 [==============================] - 0s 15ms/step - loss: 1.0033e-05 - val_loss: 7.5045e-05\b\b\b\b\b\b\b\b\b\b\b\b\b\b\b\b\b\b\b\b\b\b\b\b\b\b\b\b\b\b\b\b\b\b\b\b\b\n",
      "Epoch 199/225\n",
      "3/3 [==============================] - 0s 15ms/step - loss: 6.4326e-06 - val_loss: 5.1635e-05\b\b\b\b\b\b\b\b\b\b\b\b\b\b\b\b\b\b\b\b\b\b\b\b\b\b\b\b\b\b\b\b\b\b\b\b\b\n",
      "Epoch 200/225\n",
      "3/3 [==============================] - 0s 14ms/step - loss: 7.2868e-06 - val_loss: 4.8613e-05\b\b\b\b\b\b\b\b\b\b\b\b\b\b\b\b\b\b\b\b\b\b\b\b\b\b\b\b\b\b\b\b\b\b\b\b\b\n",
      "Epoch 201/225\n",
      "3/3 [==============================] - 0s 15ms/step - loss: 8.1712e-06 - val_loss: 8.9451e-05\b\b\b\b\b\b\b\b\b\b\b\b\b\b\b\b\b\b\b\b\b\b\b\b\b\b\b\b\b\b\b\b\b\b\b\b\b\n",
      "Epoch 202/225\n",
      "3/3 [==============================] - 0s 14ms/step - loss: 8.3042e-06 - val_loss: 1.1474e-04\b\b\b\b\b\b\b\b\b\b\b\b\b\b\b\b\b\b\b\b\b\b\b\b\b\b\b\b\b\b\b\b\b\b\b\b\b\n",
      "Epoch 203/225\n",
      "3/3 [==============================] - 0s 16ms/step - loss: 8.8441e-06 - val_loss: 5.2499e-05\b\b\b\b\b\b\b\b\b\b\b\b\b\b\b\b\b\b\b\b\b\b\b\b\b\b\b\b\b\b\b\b\b\b\b\b\b\n",
      "Epoch 204/225\n",
      "3/3 [==============================] - 0s 15ms/step - loss: 1.0717e-05 - val_loss: 5.9782e-05\b\b\b\b\b\b\b\b\b\b\b\b\b\b\b\b\b\b\b\b\b\b\b\b\b\b\b\b\b\b\b\b\b\b\b\b\b\n",
      "Epoch 205/225\n",
      "3/3 [==============================] - 0s 16ms/step - loss: 1.1847e-05 - val_loss: 9.1006e-05\b\b\b\b\b\b\b\b\b\b\b\b\b\b\b\b\b\b\b\b\b\b\b\b\b\b\b\b\b\b\b\b\b\b\b\b\b\n",
      "Epoch 206/225\n",
      "3/3 [==============================] - 0s 16ms/step - loss: 7.5741e-06 - val_loss: 9.1892e-05\b\b\b\b\b\b\b\b\b\b\b\b\b\b\b\b\b\b\b\b\b\b\b\b\b\b\b\b\b\b\b\b\b\b\b\b\b\n",
      "Epoch 207/225\n",
      "3/3 [==============================] - 0s 14ms/step - loss: 1.1789e-05 - val_loss: 7.8892e-05\b\b\b\b\b\b\b\b\b\b\b\b\b\b\b\b\b\b\b\b\b\b\b\b\b\b\b\b\b\b\b\b\b\b\b\b\b\n",
      "Epoch 208/225\n",
      "3/3 [==============================] - 0s 16ms/step - loss: 1.0284e-05 - val_loss: 5.5887e-05\b\b\b\b\b\b\b\b\b\b\b\b\b\b\b\b\b\b\b\b\b\b\b\b\b\b\b\b\b\b\b\b\b\b\b\b\b\n",
      "Epoch 209/225\n",
      "3/3 [==============================] - 0s 15ms/step - loss: 8.8474e-06 - val_loss: 6.3415e-05\b\b\b\b\b\b\b\b\b\b\b\b\b\b\b\b\b\b\b\b\b\b\b\b\b\b\b\b\b\b\b\b\b\b\b\b\b\n",
      "Epoch 210/225\n",
      "3/3 [==============================] - 0s 16ms/step - loss: 1.2560e-05 - val_loss: 8.2929e-05\b\b\b\b\b\b\b\b\b\b\b\b\b\b\b\b\b\b\b\b\b\b\b\b\b\b\b\b\b\b\b\b\b\b\b\b\b\n",
      "Epoch 211/225\n",
      "3/3 [==============================] - 0s 16ms/step - loss: 1.0543e-05 - val_loss: 6.2383e-05\b\b\b\b\b\b\b\b\b\b\b\b\b\b\b\b\b\b\b\b\b\b\b\b\b\b\b\b\b\b\b\b\b\b\b\b\b\n",
      "Epoch 212/225\n",
      "3/3 [==============================] - 0s 15ms/step - loss: 5.5298e-06 - val_loss: 5.1798e-05\b\b\b\b\b\b\b\b\b\b\b\b\b\b\b\b\b\b\b\b\b\b\b\b\b\b\b\b\b\b\b\b\b\b\b\b\b\n",
      "Epoch 213/225\n",
      "3/3 [==============================] - 0s 15ms/step - loss: 1.0252e-05 - val_loss: 6.0578e-05\b\b\b\b\b\b\b\b\b\b\b\b\b\b\b\b\b\b\b\b\b\b\b\b\b\b\b\b\b\b\b\b\b\b\b\b\b\n",
      "Epoch 214/225\n",
      "3/3 [==============================] - 0s 16ms/step - loss: 7.9427e-06 - val_loss: 9.1492e-05\b\b\b\b\b\b\b\b\b\b\b\b\b\b\b\b\b\b\b\b\b\b\b\b\b\b\b\b\b\b\b\b\b\b\b\b\b\n",
      "Epoch 215/225\n",
      "3/3 [==============================] - 0s 15ms/step - loss: 7.4266e-06 - val_loss: 7.4278e-05\b\b\b\b\b\b\b\b\b\b\b\b\b\b\b\b\b\b\b\b\b\b\b\b\b\b\b\b\b\b\b\b\b\b\b\b\b\n",
      "Epoch 216/225\n",
      "3/3 [==============================] - 0s 16ms/step - loss: 7.9631e-06 - val_loss: 5.7814e-05\b\b\b\b\b\b\b\b\b\b\b\b\b\b\b\b\b\b\b\b\b\b\b\b\b\b\b\b\b\b\b\b\b\b\b\b\b\n",
      "Epoch 217/225\n",
      "3/3 [==============================] - 0s 15ms/step - loss: 7.6968e-06 - val_loss: 5.0989e-05\b\b\b\b\b\b\b\b\b\b\b\b\b\b\b\b\b\b\b\b\b\b\b\b\b\b\b\b\b\b\b\b\b\b\b\b\b\n",
      "Epoch 218/225\n",
      "3/3 [==============================] - 0s 16ms/step - loss: 8.6483e-06 - val_loss: 6.5426e-05\b\b\b\b\b\b\b\b\b\b\b\b\b\b\b\b\b\b\b\b\b\b\b\b\b\b\b\b\b\b\b\b\b\b\b\b\b\n",
      "Epoch 219/225\n",
      "3/3 [==============================] - 0s 15ms/step - loss: 5.8043e-06 - val_loss: 8.1880e-05\b\b\b\b\b\b\b\b\b\b\b\b\b\b\b\b\b\b\b\b\b\b\b\b\b\b\b\b\b\b\b\b\b\b\b\b\b\n",
      "Epoch 220/225\n",
      "3/3 [==============================] - 0s 17ms/step - loss: 8.1500e-06 - val_loss: 7.0972e-05\b\b\b\b\b\b\b\b\b\b\b\b\b\b\b\b\b\b\b\b\b\b\b\b\b\b\b\b\b\b\b\b\b\b\b\b\b\n",
      "Epoch 221/225\n",
      "3/3 [==============================] - 0s 16ms/step - loss: 5.7857e-06 - val_loss: 5.0176e-05\b\b\b\b\b\b\b\b\b\b\b\b\b\b\b\b\b\b\b\b\b\b\b\b\b\b\b\b\b\b\b\b\b\b\b\b\b\n",
      "Epoch 222/225\n",
      "3/3 [==============================] - 0s 15ms/step - loss: 8.7947e-06 - val_loss: 4.9664e-05\b\b\b\b\b\b\b\b\b\b\b\b\b\b\b\b\b\b\b\b\b\b\b\b\b\b\b\b\b\b\b\b\b\b\b\b\b\n",
      "Epoch 223/225\n",
      "3/3 [==============================] - 0s 15ms/step - loss: 8.8399e-06 - val_loss: 9.6637e-05\b\b\b\b\b\b\b\b\b\b\b\b\b\b\b\b\b\b\b\b\b\b\b\b\b\b\b\b\b\b\b\b\b\b\b\b\b\n",
      "Epoch 224/225\n",
      "3/3 [==============================] - 0s 15ms/step - loss: 9.6977e-06 - val_loss: 7.8051e-05\b\b\b\b\b\b\b\b\b\b\b\b\b\b\b\b\b\b\b\b\b\b\b\b\b\b\b\b\b\b\b\b\b\b\b\b\b\n",
      "Epoch 225/225\n",
      "3/3 [==============================] - 0s 15ms/step - loss: 6.0573e-06 - val_loss: 4.9361e-05\b\b\b\b\b\b\b\b\b\b\b\b\b\b\b\b\b\b\b\b\b\b\b\b\b\b\b\b\b\b\b\b\b\b\b\b\b\n"
     ]
    },
    {
     "data": {
      "text/plain": "<keras.callbacks.History at 0x7fe9d7866c10>"
     },
     "execution_count": 149,
     "metadata": {},
     "output_type": "execute_result"
    }
   ],
   "source": [
    "# Test the model without sentiment\n",
    "\n",
    "# Set the X without Open or Date\n",
    "X_MinMax = MinMaxScaler()\n",
    "y_MinMax = MinMaxScaler()\n",
    "X = X_MinMax.fit_transform(dataset[:, 1:-1])\n",
    "y = y_MinMax.fit_transform(dataset[:, 0].reshape(-1, 1))\n",
    "\n",
    "tscv = TimeSeriesSplit()\n",
    "\n",
    "for train_index, test_index in tscv.split(X):\n",
    "    #print(\"TRAIN:\", train_index, \"TEST:\", test_index)\n",
    "    X_train, X_test = X[train_index], X[test_index]\n",
    "    y_train, y_test = y[train_index], y[test_index]\n",
    "    \n",
    "    \n",
    "X_train_scale = np.reshape(X_train, (X_train.shape[0], X_train.shape[1], 1))\n",
    "X_test_scale = np.reshape(X_test, (X_test.shape[0], X_test.shape[1], 1))\n",
    "\n",
    "\n",
    "# Create LSTM trained on sentiment analysis data\n",
    "from keras.models import Sequential\n",
    "from keras.layers import Dense\n",
    "from keras.layers import LSTM\n",
    "from keras.layers import Dropout\n",
    "\n",
    "model = Sequential()\n",
    "\n",
    "\n",
    "\n",
    "model.add(LSTM(units = 50, return_sequences = True, input_shape = (X_train.shape[1], 1)))\n",
    "model.add(Dropout(0.2))\n",
    "\n",
    "model.add(LSTM(units = 50, return_sequences = True))\n",
    "model.add(Dropout(0.2))\n",
    "\n",
    "model.add(LSTM(units = 50, return_sequences = True))\n",
    "model.add(Dropout(0.2))\n",
    "\n",
    "model.add(LSTM(units = 50))\n",
    "model.add(Dropout(0.2))\n",
    "\n",
    "model.add(Dense(units = 1))\n",
    "\n",
    "model.compile(optimizer = 'adam', loss = 'mean_squared_error')\n",
    "\n",
    "\n",
    "model.fit(X_train_scale, y_train, epochs = 225, batch_size = 32,\n",
    "                         validation_split=0.1)"
   ]
  },
  {
   "cell_type": "code",
   "execution_count": 146,
   "metadata": {
    "execution": {
     "iopub.execute_input": "2021-06-14T20:12:34.984632Z",
     "iopub.status.busy": "2021-06-14T20:12:34.983959Z",
     "iopub.status.idle": "2021-06-14T20:12:37.026768Z",
     "shell.execute_reply": "2021-06-14T20:12:37.025830Z",
     "shell.execute_reply.started": "2021-06-14T20:12:34.984582Z"
    }
   },
   "outputs": [
    {
     "name": "stdout",
     "output_type": "stream",
     "text": [
      "Root mean square error is 0.24235412549242577\n"
     ]
    },
    {
     "data": {
      "text/plain": "<Figure size 432x288 with 1 Axes>",
      "image/png": "[encoded data removed]"
     },
     "metadata": {
      "needs_background": "light"
     },
     "output_type": "display_data"
    }
   ],
   "source": [
    "predicted_stock_GME = model.predict(X_test_scale)\n",
    "\n",
    "testScore = np.sqrt(mean_squared_error(y_test[:], predicted_stock_GME[:,0]))\n",
    "\n",
    "print('Root mean square error is {}'.format(testScore))\n",
    "\n",
    "plt.plot(y_MinMax.inverse_transform(predicted_stock_GME),label='predicted')\n",
    "plt.plot(y_MinMax.inverse_transform(y_test),label='actual')\n",
    "plt.legend()\n",
    "plt.title('Without Sentiment Data GME test')\n",
    "plt.show()\n",
    "plt.clf()\n",
    "plt.cla()\n",
    "plt.close()\n"
   ]
  },
  {
   "cell_type": "code",
   "execution_count": 147,
   "metadata": {
    "execution": {
     "iopub.execute_input": "2021-06-14T20:13:01.454523Z",
     "iopub.status.busy": "2021-06-14T20:13:01.453803Z",
     "iopub.status.idle": "2021-06-14T20:13:01.743691Z",
     "shell.execute_reply": "2021-06-14T20:13:01.742538Z",
     "shell.execute_reply.started": "2021-06-14T20:13:01.454486Z"
    }
   },
   "outputs": [
    {
     "name": "stdout",
     "output_type": "stream",
     "text": [
      "Root mean square error is 0.0021795719945760495\n"
     ]
    },
    {
     "data": {
      "text/plain": "<Figure size 432x288 with 1 Axes>",
      "image/png": "[encoded data removed]"
     },
     "metadata": {
      "needs_background": "light"
     },
     "output_type": "display_data"
    }
   ],
   "source": [
    "predicted_stock_GME_train = model.predict(X_train_scale)\n",
    "\n",
    "trainScore = np.sqrt(mean_squared_error(y_train[:], predicted_stock_GME_train[:,0]))\n",
    "\n",
    "print('Root mean square error is {}'.format(trainScore))\n",
    "\n",
    "plt.plot(y_MinMax.inverse_transform(predicted_stock_GME_train),label='predicted')\n",
    "plt.plot(y_MinMax.inverse_transform(y_train),label='actual')\n",
    "plt.legend()\n",
    "plt.title('Without Sentiment Data GME train')\n",
    "plt.show()\n",
    "plt.clf()\n",
    "plt.cla()\n",
    "plt.close()"
   ]
  },
  {
   "cell_type": "code",
   "execution_count": 147,
   "metadata": {},
   "outputs": [],
   "source": []
  },
  {
   "cell_type": "code",
   "execution_count": 147,
   "metadata": {},
   "outputs": [],
   "source": []
  }
 ],
 "metadata": {
  "kernelspec": {
   "name": "python3",
   "language": "python",
   "display_name": "Python 3"
  },
  "language_info": {
   "codemirror_mode": {
    "name": "ipython",
    "version": 3
   },
   "file_extension": ".py",
   "mimetype": "text/x-python",
   "name": "python",
   "nbconvert_exporter": "python",
   "pygments_lexer": "ipython3",
   "version": "3.8.5"
  }
 },
 "nbformat": 4,
 "nbformat_minor": 4
}